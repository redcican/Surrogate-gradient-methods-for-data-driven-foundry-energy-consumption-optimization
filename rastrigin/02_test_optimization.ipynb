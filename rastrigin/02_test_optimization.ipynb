{
 "cells": [
  {
   "cell_type": "code",
   "execution_count": 1,
   "id": "7dc396fd-7155-4e2b-b9c8-3b40ab7f5c30",
   "metadata": {},
   "outputs": [
    {
     "name": "stderr",
     "output_type": "stream",
     "text": [
      "2025-01-16 17:11:42.970245: I tensorflow/core/util/port.cc:153] oneDNN custom operations are on. You may see slightly different numerical results due to floating-point round-off errors from different computation orders. To turn them off, set the environment variable `TF_ENABLE_ONEDNN_OPTS=0`.\n",
      "2025-01-16 17:11:42.972231: I external/local_xla/xla/tsl/cuda/cudart_stub.cc:32] Could not find cuda drivers on your machine, GPU will not be used.\n",
      "2025-01-16 17:11:42.994989: I external/local_xla/xla/tsl/cuda/cudart_stub.cc:32] Could not find cuda drivers on your machine, GPU will not be used.\n",
      "2025-01-16 17:11:43.028809: E external/local_xla/xla/stream_executor/cuda/cuda_fft.cc:477] Unable to register cuFFT factory: Attempting to register factory for plugin cuFFT when one has already been registered\n",
      "WARNING: All log messages before absl::InitializeLog() is called are written to STDERR\n",
      "E0000 00:00:1737018703.061331  377803 cuda_dnn.cc:8310] Unable to register cuDNN factory: Attempting to register factory for plugin cuDNN when one has already been registered\n",
      "E0000 00:00:1737018703.070351  377803 cuda_blas.cc:1418] Unable to register cuBLAS factory: Attempting to register factory for plugin cuBLAS when one has already been registered\n",
      "2025-01-16 17:11:43.105086: I tensorflow/core/platform/cpu_feature_guard.cc:210] This TensorFlow binary is optimized to use available CPU instructions in performance-critical operations.\n",
      "To enable the following instructions: AVX2 AVX_VNNI FMA, in other operations, rebuild TensorFlow with the appropriate compiler flags.\n"
     ]
    }
   ],
   "source": [
    "import numpy as np\n",
    "import math\n",
    "import pandas as pd\n",
    "#import seaborn as sns\n",
    "import matplotlib.pyplot as plt\n",
    "import json\n",
    "#\n",
    "from sklearn.model_selection import train_test_split\n",
    "from sklearn import metrics\n",
    "from sklearn.metrics import r2_score\n",
    "from scipy.stats import truncnorm\n",
    "#\n",
    "import tensorflow as tf\n",
    "# ignore the tensorflow warnings\n",
    "tf.get_logger().setLevel('ERROR')\n",
    "from tensorflow import keras\n",
    "from tensorflow.keras import layers\n",
    "#\n",
    "import xgboost as xgb\n",
    "#\n",
    "#\n",
    "import nevergrad as ng\n",
    "\n",
    "#\n",
    "from concurrent import futures\n",
    "import time\n",
    "import os\n",
    "#\n",
    "from scipy.optimize import Bounds\n",
    "from scipy.optimize import minimize\n",
    "#\n",
    "import ast"
   ]
  },
  {
   "cell_type": "markdown",
   "id": "e6edb7d3-34e0-4ff7-a53f-46c5fd8d9809",
   "metadata": {},
   "source": [
    "## Setup"
   ]
  },
  {
   "cell_type": "code",
   "execution_count": 2,
   "id": "4e1e977f-b563-4a4a-b7c0-ccbe41b7dde9",
   "metadata": {},
   "outputs": [],
   "source": [
    "np.random.RandomState(1234)\n",
    "np.random.seed(42)\n",
    "n_list = [20,25]\n",
    "m_list = [5, 10]\n",
    "budget = {'default':20}#, (10,5):200, (15,5):150, (15,10):100}\n",
    "maxiter = 350\n",
    "K = 50\n",
    "constraint_tolerance = .01\n",
    "opt_list = [ng.optimizers.NGOpt, ng.optimizers.NGOptRW]#, ng.optimizers.NelderMead, ng.optimizers.Cobyla]\n",
    "filename = \"rastrigin.json\""
   ]
  },
  {
   "cell_type": "code",
   "execution_count": 3,
   "id": "4f2345ae-4ceb-480b-b4de-04b559f59af4",
   "metadata": {},
   "outputs": [],
   "source": [
    "def rastrigin(x, n):\n",
    "    \"\"\"\n",
    "    Rastrigin function\n",
    "    Global minimum: f(x*) = 0 at x* = (0,...,0)\n",
    "    Search domain: [-5.12, 5.12]^n\n",
    "    \"\"\"\n",
    "    A = 10\n",
    "    sum = 0.0\n",
    "    for i in range(n):\n",
    "        sum += x[i]**2 - A*np.cos(2*np.pi*x[i])\n",
    "    return A*n + sum\n",
    "\n",
    "def get_truncated_normal(mean=5, sd=1, low=0, upp=10, size=None):\n",
    "    \"\"\"normal distribution between 0 and 10\"\"\"\n",
    "    return truncnorm((low - mean) / sd, (upp - mean) / sd, loc=mean, scale=sd).rvs(size)"
   ]
  },
  {
   "cell_type": "code",
   "execution_count": 4,
   "id": "639ffb77-018e-4b32-95f9-4e2e7ffacb7c",
   "metadata": {},
   "outputs": [],
   "source": [
    "def get_random_constants(k:int, mean=5., sd=1., seed=42, low=0, upp=10):\n",
    "    np.random.seed(seed)\n",
    "    return get_truncated_normal(size=k, mean=mean, sd=sd, low=low, upp=upp)\n",
    "\n",
    "def get_random_indices(n:int, seed:int=42):\n",
    "    indices = np.arange(n)\n",
    "    np.random.seed(seed)\n",
    "    np.random.shuffle(indices)\n",
    "    return indices\n",
    "\n",
    "def fill_with_constants(x:np.array, constants:np.array, indices:np.array):\n",
    "    #return np.append(x,constants)[indices]\n",
    "    return np.take(np.append(x,constants), indices)\n",
    "\n",
    "def fill_with_constants_tf(x, constants:np.array, indices:np.array):\n",
    "    y = tf.concat([x,constants], axis=-1)\n",
    "    return tf.gather(y, indices)"
   ]
  },
  {
   "cell_type": "code",
   "execution_count": 5,
   "id": "1b67e5c5-7811-426d-87f2-95e58f9e14e9",
   "metadata": {},
   "outputs": [
    {
     "name": "stderr",
     "output_type": "stream",
     "text": [
      "2025-01-16 17:12:00.134708: E external/local_xla/xla/stream_executor/cuda/cuda_driver.cc:152] failed call to cuInit: INTERNAL: CUDA error: Failed call to cuInit: UNKNOWN ERROR (303)\n",
      "WARNING:absl:Compiled the loaded model, but the compiled metrics have yet to be built. `model.compile_metrics` will be empty until you train or evaluate the model.\n",
      "WARNING:absl:Compiled the loaded model, but the compiled metrics have yet to be built. `model.compile_metrics` will be empty until you train or evaluate the model.\n"
     ]
    },
    {
     "name": "stdout",
     "output_type": "stream",
     "text": [
      "R^2 values:\n",
      "\n",
      "n=20\n",
      "ANN: 0.6602\n",
      "XGB: 0.9114\n",
      "\n",
      "\n",
      "n=25\n",
      "ANN: 0.6605\n",
      "XGB: 0.8846\n",
      "\n",
      "\n",
      "{20: <Sequential name=sequential_4, built=True>, 25: <Sequential name=sequential_5, built=True>}\n"
     ]
    }
   ],
   "source": [
    "ann_models = {n: tf.keras.models.load_model(f\"models/ANN_{n}.h5\") for n in n_list}\n",
    "xgb_models = {n: xgb.Booster() for n in n_list}\n",
    "for n in n_list:\n",
    "    xgb_models[n].load_model(f\"models/XGB_{n}.json\")\n",
    "#\n",
    "with open('models/metadata.json', 'r') as file:\n",
    "    metadata = json.load(file)\n",
    "#\n",
    "print(\"R^2 values:\\n\")\n",
    "for n in metadata.keys():\n",
    "    print(f\"n={n}\")\n",
    "    print(f\"ANN: {round(metadata[n]['ANN_R2'],4)}\\nXGB: {round(metadata[n]['XGB_R2'],4)}\")\n",
    "    print(\"\\n\")\n",
    "print(ann_models)\n",
    "#print(xgb_models)"
   ]
  },
  {
   "cell_type": "markdown",
   "id": "696e8ced-766d-4760-90a6-7f14efa81d83",
   "metadata": {},
   "source": [
    "## Models and objective functions"
   ]
  },
  {
   "cell_type": "code",
   "execution_count": 6,
   "id": "9c7470b2-d35d-4e7a-b175-34e5cf828dd2",
   "metadata": {},
   "outputs": [],
   "source": [
    "def relu(x):\n",
    "    return np.maximum(0, x)\n",
    "\n",
    "\n",
    "def get_functions(n, constants, indices):\n",
    "    #\n",
    "    weights = ann_models[n].get_weights()\n",
    "    def f_ann(x):\n",
    "        x1 = fill_with_constants(x, constants, indices)\n",
    "        z1 = np.dot(x1, weights[0]) + weights[1]\n",
    "        a1 = relu(z1)\n",
    "        z2 = np.dot(a1, weights[2]) + weights[3]\n",
    "        a2 = relu(z2)\n",
    "        z3 = np.dot(a2, weights[4]) + weights[5]\n",
    "        return z3\n",
    "    #\n",
    "    #grad_f_ann = grad(f_ann)\n",
    "    #\n",
    "    def f_ann_tf(x):\n",
    "        x1 = fill_with_constants_tf(x, constants, indices)\n",
    "        x2 = tf.convert_to_tensor([x1])\n",
    "        x2 = tf.cast(x2,dtype=tf.float32)\n",
    "        return ann_models[n](x2)[0]\n",
    "    #\n",
    "    def grad_f_ann_tf(x):\n",
    "        with tf.GradientTape() as tape:\n",
    "            tape.watch(x)\n",
    "            t2 = f_ann_tf(x)\n",
    "            y = tape.jacobian(t2, x)\n",
    "            return y\n",
    "        \n",
    "    def hess_tf(x):\n",
    "        with tf.GradientTape(persistent=True) as tape:\n",
    "            tape.watch(x)\n",
    "            t2 = f_ann_tf(x)\n",
    "            y = tape.gradient(t2, x)\n",
    "            h = tape.jacobian(y, x)\n",
    "            return y, h\n",
    "    #\n",
    "    def f_xgb(x):\n",
    "        x1 = fill_with_constants(x, constants, indices)\n",
    "        y = xgb_models[n].predict(xgb.DMatrix([x1]))#x1.reshape(1,-1))\n",
    "        return y.item()\n",
    "    #\n",
    "    def f_rastrigin(x):\n",
    "        x1 = fill_with_constants(x, constants, indices)\n",
    "        return rastrigin(x1, n)\n",
    "    #\n",
    "    return f_rastrigin, f_ann_tf, grad_f_ann_tf, f_xgb, hess_tf"
   ]
  },
  {
   "cell_type": "markdown",
   "id": "80f6f92e-6141-4540-975b-104325464532",
   "metadata": {},
   "source": [
    "## Optimization methods"
   ]
  },
  {
   "cell_type": "code",
   "execution_count": 7,
   "id": "e05717d2",
   "metadata": {},
   "outputs": [],
   "source": [
    "# optimization with scikit-opt (generic algorithm, particle swarm, and simulated annealing)\\\n",
    "from sko.GA import GA\n",
    "from sko.PSO import PSO\n",
    "from sko.SA import SAFast\n",
    "#\n",
    "def ga(m, f, size_pop, max_iter, prob_mut, constraint_c):\n",
    "    constraint_eq = (\n",
    "        lambda x: np.sum(x) - constraint_c,\n",
    "    )\n",
    "    lb, ub = [0.0]*m, [10.0]*m\n",
    "    ga = GA(func=f, n_dim=m, size_pop=size_pop, max_iter=max_iter, prob_mut=prob_mut, lb=lb, ub=ub, constraint_eq=constraint_eq)\n",
    "    start = time.time()\n",
    "    best_x, _ = ga.run()\n",
    "    end = time.time()\n",
    "    return best_x, _, end-start\n",
    "#\n",
    "def pso(m, f, pop, max_iter, constraint_c):\n",
    "    constraint_eq = (\n",
    "        lambda x: np.sum(x) - constraint_c,\n",
    "    )\n",
    "    lb, ub = [0.0]*m, [10.0]*m\n",
    "    pso = PSO(func=f, dim=m, pop=pop, max_iter=max_iter, lb=lb, ub=ub, constraint_eq=constraint_eq)\n",
    "    start = time.time()\n",
    "    best_x, _ = pso.run()\n",
    "    end = time.time()\n",
    "    return best_x, _, end-start\n",
    "\n",
    "#\n",
    "def sa(m, f, x0, T_max, T_min, L, max_stay_counter, constraint_c):\n",
    "    constraint_eq = (\n",
    "        lambda x: np.sum(x) - constraint_c,\n",
    "    )\n",
    "    lb, ub = [0.0]*m, [10.0]*m\n",
    "    sa = SAFast(func=f, x0=x0, T_max=T_max, T_min=T_min, L=L, max_stay_counter=max_stay_counter, constraint_eq=constraint_eq, lb=lb, ub=ub)\n",
    "    start = time.time()\n",
    "    best_x, _ = sa.run()\n",
    "    end = time.time()\n",
    "    return best_x, _, end-start"
   ]
  },
  {
   "cell_type": "code",
   "execution_count": 8,
   "id": "b5072349-b25b-4450-912c-0fbd2a4bebda",
   "metadata": {},
   "outputs": [],
   "source": [
    "def optimize_ng(m, f, constraint_c, optclass, budget=1_000, x_start=None, constraint_tolerance=.1):\n",
    "    instrum = ng.p.Instrumentation(\n",
    "        ng.p.Array(shape=(m,)).set_bounds(lower=0.0, upper=10),\n",
    "    )\n",
    "    optimizer = optclass(parametrization=instrum, budget=budget, num_workers=1)\n",
    "    optimizer.parametrization.register_cheap_constraint(lambda x:np.sum(x[0]) - constraint_c)\n",
    "    optname = str(optclass).split(\".\")[-1].split(\"'\")[0]\n",
    "    filepath = f\"opti_result/{optname}_logs.txt\"\n",
    "    optimizer.register_callback(\"tell\", ng.callbacks.ParametersLogger(filepath, append=False))\n",
    "    #\n",
    "    start = time.time()\n",
    "    recommendation = optimizer.minimize(f, verbosity=0, batch_mode=False)\n",
    "    #with futures.ThreadPoolExecutor(max_workers=optimizer.num_workers) as executor:\n",
    "    #    recommendation = optimizer.minimize(f, verbosity=0, executor=executor, batch_mode=False)\n",
    "    end = time.time()\n",
    "    elapsed_time = end - start\n",
    "    #\n",
    "    with open(filepath, 'r') as file:\n",
    "        lines = file.readlines()\n",
    "        log = [ast.literal_eval(line) for line in lines]\n",
    "    #\n",
    "    ## select argument with minimum function value satisfying the constraint\n",
    "    x_list = [l['0'] for l in log]\n",
    "    x_constrained_list = [x for x in x_list if np.abs((np.sum(x)-constraint_c))/constraint_c < constraint_tolerance]\n",
    "    #x_constrained_list = x_constrained_list or x_list\n",
    "    if not x_constrained_list:\n",
    "        x_constrained_list = x_list\n",
    "        print(\"Could not satisfy constraints.\")\n",
    "    loss_array = np.array([f(x) for x in x_constrained_list])\n",
    "    min_index = loss_array.argmin()\n",
    "    x_min = x_constrained_list[min_index]\n",
    "    #\n",
    "    #return np.asarray(recommendation.value)[0][0], elapsed_time\n",
    "    return np.asarray(x_min), elapsed_time\n",
    "\n",
    "\n",
    "def optimize_grad(m, f, grad_f, constraint_c, maxiter=maxiter, x_start=None):\n",
    "    if x_start is None: x_start = np.ones(m)\n",
    "    eq_cons = {'type': 'eq',\n",
    "               'fun' : lambda x:np.sum(x)-constraint_c\n",
    "               }\n",
    "    bounds = Bounds([0.0]*m, [10.0]*m)\n",
    "    start = time.time()\n",
    "    result = minimize(fun=f, x0=x_start, jac=grad_f,constraints=[eq_cons], method='SLSQP',\n",
    "    options={'ftol': 1e-12, 'disp': False, 'maxiter':maxiter}, bounds=bounds)\n",
    "    end = time.time()\n",
    "    #\n",
    "    elapsed_time = end - start\n",
    "    return result.x, elapsed_time"
   ]
  },
  {
   "cell_type": "code",
   "execution_count": 9,
   "id": "139e2dca-89cf-40b2-b106-aa059eb30cce",
   "metadata": {
    "tags": []
   },
   "outputs": [
    {
     "name": "stdout",
     "output_type": "stream",
     "text": [
      "Optimizing for n=20 and m=5, trial 1/50\n"
     ]
    },
    {
     "name": "stderr",
     "output_type": "stream",
     "text": [
      "/home/cican/miniconda3/envs/ml/lib/python3.12/site-packages/nevergrad/parametrization/core.py:348: UserWarning: Lambda as constraint is not advised because it may not be picklable.\n",
      "  warnings.warn(\"Lambda as constraint is not advised because it may not be picklable.\")\n",
      "/home/cican/miniconda3/envs/ml/lib/python3.12/site-packages/nevergrad/optimization/recaster.py:272: FinishedUnderlyingOptimizerWarning: Underlying optimizer has already converged, returning random points\n",
      "  warnings.warn(\n",
      "/home/cican/miniconda3/envs/ml/lib/python3.12/site-packages/nevergrad/parametrization/core.py:348: UserWarning: Lambda as constraint is not advised because it may not be picklable.\n",
      "  warnings.warn(\"Lambda as constraint is not advised because it may not be picklable.\")\n",
      "/home/cican/miniconda3/envs/ml/lib/python3.12/site-packages/nevergrad/optimization/recaster.py:272: FinishedUnderlyingOptimizerWarning: Underlying optimizer has already converged, returning random points\n",
      "  warnings.warn(\n"
     ]
    },
    {
     "name": "stdout",
     "output_type": "stream",
     "text": [
      "Optimizing for n=20 and m=5, trial 2/50\n"
     ]
    },
    {
     "name": "stderr",
     "output_type": "stream",
     "text": [
      "/home/cican/miniconda3/envs/ml/lib/python3.12/site-packages/nevergrad/parametrization/core.py:348: UserWarning: Lambda as constraint is not advised because it may not be picklable.\n",
      "  warnings.warn(\"Lambda as constraint is not advised because it may not be picklable.\")\n",
      "/home/cican/miniconda3/envs/ml/lib/python3.12/site-packages/nevergrad/optimization/recaster.py:272: FinishedUnderlyingOptimizerWarning: Underlying optimizer has already converged, returning random points\n",
      "  warnings.warn(\n"
     ]
    },
    {
     "name": "stdout",
     "output_type": "stream",
     "text": [
      "Could not satisfy constraints.\n"
     ]
    },
    {
     "name": "stderr",
     "output_type": "stream",
     "text": [
      "/home/cican/miniconda3/envs/ml/lib/python3.12/site-packages/nevergrad/parametrization/core.py:348: UserWarning: Lambda as constraint is not advised because it may not be picklable.\n",
      "  warnings.warn(\"Lambda as constraint is not advised because it may not be picklable.\")\n",
      "/home/cican/miniconda3/envs/ml/lib/python3.12/site-packages/nevergrad/optimization/recaster.py:272: FinishedUnderlyingOptimizerWarning: Underlying optimizer has already converged, returning random points\n",
      "  warnings.warn(\n"
     ]
    },
    {
     "name": "stdout",
     "output_type": "stream",
     "text": [
      "Optimizing for n=20 and m=5, trial 3/50\n"
     ]
    },
    {
     "name": "stderr",
     "output_type": "stream",
     "text": [
      "/home/cican/miniconda3/envs/ml/lib/python3.12/site-packages/nevergrad/parametrization/core.py:348: UserWarning: Lambda as constraint is not advised because it may not be picklable.\n",
      "  warnings.warn(\"Lambda as constraint is not advised because it may not be picklable.\")\n",
      "/home/cican/miniconda3/envs/ml/lib/python3.12/site-packages/nevergrad/optimization/recaster.py:272: FinishedUnderlyingOptimizerWarning: Underlying optimizer has already converged, returning random points\n",
      "  warnings.warn(\n",
      "/home/cican/miniconda3/envs/ml/lib/python3.12/site-packages/nevergrad/parametrization/core.py:348: UserWarning: Lambda as constraint is not advised because it may not be picklable.\n",
      "  warnings.warn(\"Lambda as constraint is not advised because it may not be picklable.\")\n",
      "/home/cican/miniconda3/envs/ml/lib/python3.12/site-packages/nevergrad/optimization/recaster.py:272: FinishedUnderlyingOptimizerWarning: Underlying optimizer has already converged, returning random points\n",
      "  warnings.warn(\n"
     ]
    },
    {
     "name": "stdout",
     "output_type": "stream",
     "text": [
      "Optimizing for n=20 and m=5, trial 4/50\n"
     ]
    },
    {
     "name": "stderr",
     "output_type": "stream",
     "text": [
      "/home/cican/miniconda3/envs/ml/lib/python3.12/site-packages/nevergrad/parametrization/core.py:348: UserWarning: Lambda as constraint is not advised because it may not be picklable.\n",
      "  warnings.warn(\"Lambda as constraint is not advised because it may not be picklable.\")\n",
      "/home/cican/miniconda3/envs/ml/lib/python3.12/site-packages/nevergrad/optimization/recaster.py:272: FinishedUnderlyingOptimizerWarning: Underlying optimizer has already converged, returning random points\n",
      "  warnings.warn(\n"
     ]
    },
    {
     "name": "stdout",
     "output_type": "stream",
     "text": [
      "Could not satisfy constraints.\n"
     ]
    },
    {
     "name": "stderr",
     "output_type": "stream",
     "text": [
      "/home/cican/miniconda3/envs/ml/lib/python3.12/site-packages/nevergrad/parametrization/core.py:348: UserWarning: Lambda as constraint is not advised because it may not be picklable.\n",
      "  warnings.warn(\"Lambda as constraint is not advised because it may not be picklable.\")\n",
      "/home/cican/miniconda3/envs/ml/lib/python3.12/site-packages/nevergrad/optimization/recaster.py:272: FinishedUnderlyingOptimizerWarning: Underlying optimizer has already converged, returning random points\n",
      "  warnings.warn(\n"
     ]
    },
    {
     "name": "stdout",
     "output_type": "stream",
     "text": [
      "Could not satisfy constraints.\n",
      "Optimizing for n=20 and m=5, trial 5/50\n"
     ]
    },
    {
     "name": "stderr",
     "output_type": "stream",
     "text": [
      "/home/cican/miniconda3/envs/ml/lib/python3.12/site-packages/nevergrad/parametrization/core.py:348: UserWarning: Lambda as constraint is not advised because it may not be picklable.\n",
      "  warnings.warn(\"Lambda as constraint is not advised because it may not be picklable.\")\n",
      "/home/cican/miniconda3/envs/ml/lib/python3.12/site-packages/nevergrad/optimization/recaster.py:272: FinishedUnderlyingOptimizerWarning: Underlying optimizer has already converged, returning random points\n",
      "  warnings.warn(\n"
     ]
    },
    {
     "name": "stdout",
     "output_type": "stream",
     "text": [
      "Could not satisfy constraints.\n"
     ]
    },
    {
     "name": "stderr",
     "output_type": "stream",
     "text": [
      "/home/cican/miniconda3/envs/ml/lib/python3.12/site-packages/nevergrad/parametrization/core.py:348: UserWarning: Lambda as constraint is not advised because it may not be picklable.\n",
      "  warnings.warn(\"Lambda as constraint is not advised because it may not be picklable.\")\n",
      "/home/cican/miniconda3/envs/ml/lib/python3.12/site-packages/nevergrad/optimization/recaster.py:272: FinishedUnderlyingOptimizerWarning: Underlying optimizer has already converged, returning random points\n",
      "  warnings.warn(\n"
     ]
    },
    {
     "name": "stdout",
     "output_type": "stream",
     "text": [
      "Optimizing for n=20 and m=5, trial 6/50\n"
     ]
    },
    {
     "name": "stderr",
     "output_type": "stream",
     "text": [
      "/home/cican/miniconda3/envs/ml/lib/python3.12/site-packages/nevergrad/parametrization/core.py:348: UserWarning: Lambda as constraint is not advised because it may not be picklable.\n",
      "  warnings.warn(\"Lambda as constraint is not advised because it may not be picklable.\")\n",
      "/home/cican/miniconda3/envs/ml/lib/python3.12/site-packages/nevergrad/optimization/recaster.py:272: FinishedUnderlyingOptimizerWarning: Underlying optimizer has already converged, returning random points\n",
      "  warnings.warn(\n"
     ]
    },
    {
     "name": "stdout",
     "output_type": "stream",
     "text": [
      "Could not satisfy constraints.\n"
     ]
    },
    {
     "name": "stderr",
     "output_type": "stream",
     "text": [
      "/home/cican/miniconda3/envs/ml/lib/python3.12/site-packages/nevergrad/parametrization/core.py:348: UserWarning: Lambda as constraint is not advised because it may not be picklable.\n",
      "  warnings.warn(\"Lambda as constraint is not advised because it may not be picklable.\")\n",
      "/home/cican/miniconda3/envs/ml/lib/python3.12/site-packages/nevergrad/optimization/recaster.py:272: FinishedUnderlyingOptimizerWarning: Underlying optimizer has already converged, returning random points\n",
      "  warnings.warn(\n"
     ]
    },
    {
     "name": "stdout",
     "output_type": "stream",
     "text": [
      "Could not satisfy constraints.\n",
      "Optimizing for n=20 and m=5, trial 7/50\n"
     ]
    },
    {
     "name": "stderr",
     "output_type": "stream",
     "text": [
      "/home/cican/miniconda3/envs/ml/lib/python3.12/site-packages/nevergrad/parametrization/core.py:348: UserWarning: Lambda as constraint is not advised because it may not be picklable.\n",
      "  warnings.warn(\"Lambda as constraint is not advised because it may not be picklable.\")\n",
      "/home/cican/miniconda3/envs/ml/lib/python3.12/site-packages/nevergrad/optimization/recaster.py:272: FinishedUnderlyingOptimizerWarning: Underlying optimizer has already converged, returning random points\n",
      "  warnings.warn(\n",
      "/home/cican/miniconda3/envs/ml/lib/python3.12/site-packages/nevergrad/parametrization/core.py:348: UserWarning: Lambda as constraint is not advised because it may not be picklable.\n",
      "  warnings.warn(\"Lambda as constraint is not advised because it may not be picklable.\")\n",
      "/home/cican/miniconda3/envs/ml/lib/python3.12/site-packages/nevergrad/optimization/recaster.py:272: FinishedUnderlyingOptimizerWarning: Underlying optimizer has already converged, returning random points\n",
      "  warnings.warn(\n"
     ]
    },
    {
     "name": "stdout",
     "output_type": "stream",
     "text": [
      "Optimizing for n=20 and m=5, trial 8/50\n"
     ]
    },
    {
     "name": "stderr",
     "output_type": "stream",
     "text": [
      "/home/cican/miniconda3/envs/ml/lib/python3.12/site-packages/nevergrad/parametrization/core.py:348: UserWarning: Lambda as constraint is not advised because it may not be picklable.\n",
      "  warnings.warn(\"Lambda as constraint is not advised because it may not be picklable.\")\n",
      "/home/cican/miniconda3/envs/ml/lib/python3.12/site-packages/nevergrad/optimization/recaster.py:272: FinishedUnderlyingOptimizerWarning: Underlying optimizer has already converged, returning random points\n",
      "  warnings.warn(\n",
      "/home/cican/miniconda3/envs/ml/lib/python3.12/site-packages/nevergrad/parametrization/core.py:348: UserWarning: Lambda as constraint is not advised because it may not be picklable.\n",
      "  warnings.warn(\"Lambda as constraint is not advised because it may not be picklable.\")\n",
      "/home/cican/miniconda3/envs/ml/lib/python3.12/site-packages/nevergrad/optimization/recaster.py:272: FinishedUnderlyingOptimizerWarning: Underlying optimizer has already converged, returning random points\n",
      "  warnings.warn(\n"
     ]
    },
    {
     "name": "stdout",
     "output_type": "stream",
     "text": [
      "Could not satisfy constraints.\n",
      "Optimizing for n=20 and m=5, trial 9/50\n"
     ]
    },
    {
     "name": "stderr",
     "output_type": "stream",
     "text": [
      "/home/cican/miniconda3/envs/ml/lib/python3.12/site-packages/nevergrad/parametrization/core.py:348: UserWarning: Lambda as constraint is not advised because it may not be picklable.\n",
      "  warnings.warn(\"Lambda as constraint is not advised because it may not be picklable.\")\n",
      "/home/cican/miniconda3/envs/ml/lib/python3.12/site-packages/nevergrad/optimization/recaster.py:272: FinishedUnderlyingOptimizerWarning: Underlying optimizer has already converged, returning random points\n",
      "  warnings.warn(\n"
     ]
    },
    {
     "name": "stdout",
     "output_type": "stream",
     "text": [
      "Could not satisfy constraints.\n"
     ]
    },
    {
     "name": "stderr",
     "output_type": "stream",
     "text": [
      "/home/cican/miniconda3/envs/ml/lib/python3.12/site-packages/nevergrad/parametrization/core.py:348: UserWarning: Lambda as constraint is not advised because it may not be picklable.\n",
      "  warnings.warn(\"Lambda as constraint is not advised because it may not be picklable.\")\n",
      "/home/cican/miniconda3/envs/ml/lib/python3.12/site-packages/nevergrad/optimization/recaster.py:272: FinishedUnderlyingOptimizerWarning: Underlying optimizer has already converged, returning random points\n",
      "  warnings.warn(\n"
     ]
    },
    {
     "name": "stdout",
     "output_type": "stream",
     "text": [
      "Optimizing for n=20 and m=5, trial 10/50\n"
     ]
    },
    {
     "name": "stderr",
     "output_type": "stream",
     "text": [
      "/home/cican/miniconda3/envs/ml/lib/python3.12/site-packages/nevergrad/parametrization/core.py:348: UserWarning: Lambda as constraint is not advised because it may not be picklable.\n",
      "  warnings.warn(\"Lambda as constraint is not advised because it may not be picklable.\")\n",
      "/home/cican/miniconda3/envs/ml/lib/python3.12/site-packages/nevergrad/optimization/recaster.py:272: FinishedUnderlyingOptimizerWarning: Underlying optimizer has already converged, returning random points\n",
      "  warnings.warn(\n",
      "/home/cican/miniconda3/envs/ml/lib/python3.12/site-packages/nevergrad/parametrization/core.py:348: UserWarning: Lambda as constraint is not advised because it may not be picklable.\n",
      "  warnings.warn(\"Lambda as constraint is not advised because it may not be picklable.\")\n",
      "/home/cican/miniconda3/envs/ml/lib/python3.12/site-packages/nevergrad/optimization/recaster.py:272: FinishedUnderlyingOptimizerWarning: Underlying optimizer has already converged, returning random points\n",
      "  warnings.warn(\n"
     ]
    },
    {
     "name": "stdout",
     "output_type": "stream",
     "text": [
      "Optimizing for n=20 and m=5, trial 11/50\n"
     ]
    },
    {
     "name": "stderr",
     "output_type": "stream",
     "text": [
      "/home/cican/miniconda3/envs/ml/lib/python3.12/site-packages/nevergrad/parametrization/core.py:348: UserWarning: Lambda as constraint is not advised because it may not be picklable.\n",
      "  warnings.warn(\"Lambda as constraint is not advised because it may not be picklable.\")\n",
      "/home/cican/miniconda3/envs/ml/lib/python3.12/site-packages/nevergrad/optimization/recaster.py:272: FinishedUnderlyingOptimizerWarning: Underlying optimizer has already converged, returning random points\n",
      "  warnings.warn(\n"
     ]
    },
    {
     "name": "stdout",
     "output_type": "stream",
     "text": [
      "Could not satisfy constraints.\n"
     ]
    },
    {
     "name": "stderr",
     "output_type": "stream",
     "text": [
      "/home/cican/miniconda3/envs/ml/lib/python3.12/site-packages/nevergrad/parametrization/core.py:348: UserWarning: Lambda as constraint is not advised because it may not be picklable.\n",
      "  warnings.warn(\"Lambda as constraint is not advised because it may not be picklable.\")\n",
      "/home/cican/miniconda3/envs/ml/lib/python3.12/site-packages/nevergrad/optimization/recaster.py:272: FinishedUnderlyingOptimizerWarning: Underlying optimizer has already converged, returning random points\n",
      "  warnings.warn(\n"
     ]
    },
    {
     "name": "stdout",
     "output_type": "stream",
     "text": [
      "Optimizing for n=20 and m=5, trial 12/50\n"
     ]
    },
    {
     "name": "stderr",
     "output_type": "stream",
     "text": [
      "/home/cican/miniconda3/envs/ml/lib/python3.12/site-packages/nevergrad/parametrization/core.py:348: UserWarning: Lambda as constraint is not advised because it may not be picklable.\n",
      "  warnings.warn(\"Lambda as constraint is not advised because it may not be picklable.\")\n",
      "/home/cican/miniconda3/envs/ml/lib/python3.12/site-packages/nevergrad/optimization/recaster.py:272: FinishedUnderlyingOptimizerWarning: Underlying optimizer has already converged, returning random points\n",
      "  warnings.warn(\n"
     ]
    },
    {
     "name": "stdout",
     "output_type": "stream",
     "text": [
      "Could not satisfy constraints.\n"
     ]
    },
    {
     "name": "stderr",
     "output_type": "stream",
     "text": [
      "/home/cican/miniconda3/envs/ml/lib/python3.12/site-packages/nevergrad/parametrization/core.py:348: UserWarning: Lambda as constraint is not advised because it may not be picklable.\n",
      "  warnings.warn(\"Lambda as constraint is not advised because it may not be picklable.\")\n",
      "/home/cican/miniconda3/envs/ml/lib/python3.12/site-packages/nevergrad/optimization/recaster.py:272: FinishedUnderlyingOptimizerWarning: Underlying optimizer has already converged, returning random points\n",
      "  warnings.warn(\n"
     ]
    },
    {
     "name": "stdout",
     "output_type": "stream",
     "text": [
      "Could not satisfy constraints.\n",
      "Optimizing for n=20 and m=5, trial 13/50\n"
     ]
    },
    {
     "name": "stderr",
     "output_type": "stream",
     "text": [
      "/home/cican/miniconda3/envs/ml/lib/python3.12/site-packages/nevergrad/parametrization/core.py:348: UserWarning: Lambda as constraint is not advised because it may not be picklable.\n",
      "  warnings.warn(\"Lambda as constraint is not advised because it may not be picklable.\")\n",
      "/home/cican/miniconda3/envs/ml/lib/python3.12/site-packages/nevergrad/optimization/recaster.py:272: FinishedUnderlyingOptimizerWarning: Underlying optimizer has already converged, returning random points\n",
      "  warnings.warn(\n",
      "/home/cican/miniconda3/envs/ml/lib/python3.12/site-packages/nevergrad/parametrization/core.py:348: UserWarning: Lambda as constraint is not advised because it may not be picklable.\n",
      "  warnings.warn(\"Lambda as constraint is not advised because it may not be picklable.\")\n",
      "/home/cican/miniconda3/envs/ml/lib/python3.12/site-packages/nevergrad/optimization/recaster.py:272: FinishedUnderlyingOptimizerWarning: Underlying optimizer has already converged, returning random points\n",
      "  warnings.warn(\n"
     ]
    },
    {
     "name": "stdout",
     "output_type": "stream",
     "text": [
      "Optimizing for n=20 and m=5, trial 14/50\n"
     ]
    },
    {
     "name": "stderr",
     "output_type": "stream",
     "text": [
      "/home/cican/miniconda3/envs/ml/lib/python3.12/site-packages/nevergrad/parametrization/core.py:348: UserWarning: Lambda as constraint is not advised because it may not be picklable.\n",
      "  warnings.warn(\"Lambda as constraint is not advised because it may not be picklable.\")\n",
      "/home/cican/miniconda3/envs/ml/lib/python3.12/site-packages/nevergrad/optimization/recaster.py:272: FinishedUnderlyingOptimizerWarning: Underlying optimizer has already converged, returning random points\n",
      "  warnings.warn(\n"
     ]
    },
    {
     "name": "stdout",
     "output_type": "stream",
     "text": [
      "Could not satisfy constraints.\n"
     ]
    },
    {
     "name": "stderr",
     "output_type": "stream",
     "text": [
      "/home/cican/miniconda3/envs/ml/lib/python3.12/site-packages/nevergrad/parametrization/core.py:348: UserWarning: Lambda as constraint is not advised because it may not be picklable.\n",
      "  warnings.warn(\"Lambda as constraint is not advised because it may not be picklable.\")\n",
      "/home/cican/miniconda3/envs/ml/lib/python3.12/site-packages/nevergrad/optimization/recaster.py:272: FinishedUnderlyingOptimizerWarning: Underlying optimizer has already converged, returning random points\n",
      "  warnings.warn(\n"
     ]
    },
    {
     "name": "stdout",
     "output_type": "stream",
     "text": [
      "Could not satisfy constraints.\n",
      "Optimizing for n=20 and m=5, trial 15/50\n"
     ]
    },
    {
     "name": "stderr",
     "output_type": "stream",
     "text": [
      "/home/cican/miniconda3/envs/ml/lib/python3.12/site-packages/nevergrad/parametrization/core.py:348: UserWarning: Lambda as constraint is not advised because it may not be picklable.\n",
      "  warnings.warn(\"Lambda as constraint is not advised because it may not be picklable.\")\n",
      "/home/cican/miniconda3/envs/ml/lib/python3.12/site-packages/nevergrad/optimization/recaster.py:272: FinishedUnderlyingOptimizerWarning: Underlying optimizer has already converged, returning random points\n",
      "  warnings.warn(\n"
     ]
    },
    {
     "name": "stdout",
     "output_type": "stream",
     "text": [
      "Could not satisfy constraints.\n"
     ]
    },
    {
     "name": "stderr",
     "output_type": "stream",
     "text": [
      "/home/cican/miniconda3/envs/ml/lib/python3.12/site-packages/nevergrad/parametrization/core.py:348: UserWarning: Lambda as constraint is not advised because it may not be picklable.\n",
      "  warnings.warn(\"Lambda as constraint is not advised because it may not be picklable.\")\n",
      "/home/cican/miniconda3/envs/ml/lib/python3.12/site-packages/nevergrad/optimization/recaster.py:272: FinishedUnderlyingOptimizerWarning: Underlying optimizer has already converged, returning random points\n",
      "  warnings.warn(\n"
     ]
    },
    {
     "name": "stdout",
     "output_type": "stream",
     "text": [
      "Optimizing for n=20 and m=5, trial 16/50\n"
     ]
    },
    {
     "name": "stderr",
     "output_type": "stream",
     "text": [
      "/home/cican/miniconda3/envs/ml/lib/python3.12/site-packages/nevergrad/parametrization/core.py:348: UserWarning: Lambda as constraint is not advised because it may not be picklable.\n",
      "  warnings.warn(\"Lambda as constraint is not advised because it may not be picklable.\")\n",
      "/home/cican/miniconda3/envs/ml/lib/python3.12/site-packages/nevergrad/optimization/recaster.py:272: FinishedUnderlyingOptimizerWarning: Underlying optimizer has already converged, returning random points\n",
      "  warnings.warn(\n"
     ]
    },
    {
     "name": "stdout",
     "output_type": "stream",
     "text": [
      "Could not satisfy constraints.\n"
     ]
    },
    {
     "name": "stderr",
     "output_type": "stream",
     "text": [
      "/home/cican/miniconda3/envs/ml/lib/python3.12/site-packages/nevergrad/parametrization/core.py:348: UserWarning: Lambda as constraint is not advised because it may not be picklable.\n",
      "  warnings.warn(\"Lambda as constraint is not advised because it may not be picklable.\")\n",
      "/home/cican/miniconda3/envs/ml/lib/python3.12/site-packages/nevergrad/optimization/recaster.py:272: FinishedUnderlyingOptimizerWarning: Underlying optimizer has already converged, returning random points\n",
      "  warnings.warn(\n"
     ]
    },
    {
     "name": "stdout",
     "output_type": "stream",
     "text": [
      "Optimizing for n=20 and m=5, trial 17/50\n"
     ]
    },
    {
     "name": "stderr",
     "output_type": "stream",
     "text": [
      "/home/cican/miniconda3/envs/ml/lib/python3.12/site-packages/nevergrad/parametrization/core.py:348: UserWarning: Lambda as constraint is not advised because it may not be picklable.\n",
      "  warnings.warn(\"Lambda as constraint is not advised because it may not be picklable.\")\n",
      "/home/cican/miniconda3/envs/ml/lib/python3.12/site-packages/nevergrad/optimization/recaster.py:272: FinishedUnderlyingOptimizerWarning: Underlying optimizer has already converged, returning random points\n",
      "  warnings.warn(\n"
     ]
    },
    {
     "name": "stdout",
     "output_type": "stream",
     "text": [
      "Could not satisfy constraints.\n"
     ]
    },
    {
     "name": "stderr",
     "output_type": "stream",
     "text": [
      "/home/cican/miniconda3/envs/ml/lib/python3.12/site-packages/nevergrad/parametrization/core.py:348: UserWarning: Lambda as constraint is not advised because it may not be picklable.\n",
      "  warnings.warn(\"Lambda as constraint is not advised because it may not be picklable.\")\n",
      "/home/cican/miniconda3/envs/ml/lib/python3.12/site-packages/nevergrad/optimization/recaster.py:272: FinishedUnderlyingOptimizerWarning: Underlying optimizer has already converged, returning random points\n",
      "  warnings.warn(\n"
     ]
    },
    {
     "name": "stdout",
     "output_type": "stream",
     "text": [
      "Optimizing for n=20 and m=5, trial 18/50\n"
     ]
    },
    {
     "name": "stderr",
     "output_type": "stream",
     "text": [
      "/home/cican/miniconda3/envs/ml/lib/python3.12/site-packages/nevergrad/parametrization/core.py:348: UserWarning: Lambda as constraint is not advised because it may not be picklable.\n",
      "  warnings.warn(\"Lambda as constraint is not advised because it may not be picklable.\")\n",
      "/home/cican/miniconda3/envs/ml/lib/python3.12/site-packages/nevergrad/optimization/recaster.py:272: FinishedUnderlyingOptimizerWarning: Underlying optimizer has already converged, returning random points\n",
      "  warnings.warn(\n"
     ]
    },
    {
     "name": "stdout",
     "output_type": "stream",
     "text": [
      "Could not satisfy constraints.\n"
     ]
    },
    {
     "name": "stderr",
     "output_type": "stream",
     "text": [
      "/home/cican/miniconda3/envs/ml/lib/python3.12/site-packages/nevergrad/parametrization/core.py:348: UserWarning: Lambda as constraint is not advised because it may not be picklable.\n",
      "  warnings.warn(\"Lambda as constraint is not advised because it may not be picklable.\")\n",
      "/home/cican/miniconda3/envs/ml/lib/python3.12/site-packages/nevergrad/optimization/recaster.py:272: FinishedUnderlyingOptimizerWarning: Underlying optimizer has already converged, returning random points\n",
      "  warnings.warn(\n"
     ]
    },
    {
     "name": "stdout",
     "output_type": "stream",
     "text": [
      "Could not satisfy constraints.\n",
      "Optimizing for n=20 and m=5, trial 19/50\n"
     ]
    },
    {
     "name": "stderr",
     "output_type": "stream",
     "text": [
      "/home/cican/miniconda3/envs/ml/lib/python3.12/site-packages/nevergrad/parametrization/core.py:348: UserWarning: Lambda as constraint is not advised because it may not be picklable.\n",
      "  warnings.warn(\"Lambda as constraint is not advised because it may not be picklable.\")\n",
      "/home/cican/miniconda3/envs/ml/lib/python3.12/site-packages/nevergrad/optimization/recaster.py:272: FinishedUnderlyingOptimizerWarning: Underlying optimizer has already converged, returning random points\n",
      "  warnings.warn(\n"
     ]
    },
    {
     "name": "stdout",
     "output_type": "stream",
     "text": [
      "Could not satisfy constraints.\n"
     ]
    },
    {
     "name": "stderr",
     "output_type": "stream",
     "text": [
      "/home/cican/miniconda3/envs/ml/lib/python3.12/site-packages/nevergrad/parametrization/core.py:348: UserWarning: Lambda as constraint is not advised because it may not be picklable.\n",
      "  warnings.warn(\"Lambda as constraint is not advised because it may not be picklable.\")\n",
      "/home/cican/miniconda3/envs/ml/lib/python3.12/site-packages/nevergrad/optimization/recaster.py:272: FinishedUnderlyingOptimizerWarning: Underlying optimizer has already converged, returning random points\n",
      "  warnings.warn(\n"
     ]
    },
    {
     "name": "stdout",
     "output_type": "stream",
     "text": [
      "Could not satisfy constraints.\n",
      "Optimizing for n=20 and m=5, trial 20/50\n"
     ]
    },
    {
     "name": "stderr",
     "output_type": "stream",
     "text": [
      "/home/cican/miniconda3/envs/ml/lib/python3.12/site-packages/nevergrad/parametrization/core.py:348: UserWarning: Lambda as constraint is not advised because it may not be picklable.\n",
      "  warnings.warn(\"Lambda as constraint is not advised because it may not be picklable.\")\n",
      "/home/cican/miniconda3/envs/ml/lib/python3.12/site-packages/nevergrad/optimization/recaster.py:272: FinishedUnderlyingOptimizerWarning: Underlying optimizer has already converged, returning random points\n",
      "  warnings.warn(\n",
      "/home/cican/miniconda3/envs/ml/lib/python3.12/site-packages/nevergrad/parametrization/core.py:348: UserWarning: Lambda as constraint is not advised because it may not be picklable.\n",
      "  warnings.warn(\"Lambda as constraint is not advised because it may not be picklable.\")\n",
      "/home/cican/miniconda3/envs/ml/lib/python3.12/site-packages/nevergrad/optimization/recaster.py:272: FinishedUnderlyingOptimizerWarning: Underlying optimizer has already converged, returning random points\n",
      "  warnings.warn(\n"
     ]
    },
    {
     "name": "stdout",
     "output_type": "stream",
     "text": [
      "Could not satisfy constraints.\n",
      "Optimizing for n=20 and m=5, trial 21/50\n"
     ]
    },
    {
     "name": "stderr",
     "output_type": "stream",
     "text": [
      "/home/cican/miniconda3/envs/ml/lib/python3.12/site-packages/nevergrad/parametrization/core.py:348: UserWarning: Lambda as constraint is not advised because it may not be picklable.\n",
      "  warnings.warn(\"Lambda as constraint is not advised because it may not be picklable.\")\n",
      "/home/cican/miniconda3/envs/ml/lib/python3.12/site-packages/nevergrad/optimization/recaster.py:272: FinishedUnderlyingOptimizerWarning: Underlying optimizer has already converged, returning random points\n",
      "  warnings.warn(\n",
      "/home/cican/miniconda3/envs/ml/lib/python3.12/site-packages/nevergrad/parametrization/core.py:348: UserWarning: Lambda as constraint is not advised because it may not be picklable.\n",
      "  warnings.warn(\"Lambda as constraint is not advised because it may not be picklable.\")\n",
      "/home/cican/miniconda3/envs/ml/lib/python3.12/site-packages/nevergrad/optimization/recaster.py:272: FinishedUnderlyingOptimizerWarning: Underlying optimizer has already converged, returning random points\n",
      "  warnings.warn(\n"
     ]
    },
    {
     "name": "stdout",
     "output_type": "stream",
     "text": [
      "Could not satisfy constraints.\n",
      "Optimizing for n=20 and m=5, trial 22/50\n"
     ]
    },
    {
     "name": "stderr",
     "output_type": "stream",
     "text": [
      "/home/cican/miniconda3/envs/ml/lib/python3.12/site-packages/nevergrad/parametrization/core.py:348: UserWarning: Lambda as constraint is not advised because it may not be picklable.\n",
      "  warnings.warn(\"Lambda as constraint is not advised because it may not be picklable.\")\n",
      "/home/cican/miniconda3/envs/ml/lib/python3.12/site-packages/nevergrad/optimization/recaster.py:272: FinishedUnderlyingOptimizerWarning: Underlying optimizer has already converged, returning random points\n",
      "  warnings.warn(\n"
     ]
    },
    {
     "name": "stdout",
     "output_type": "stream",
     "text": [
      "Could not satisfy constraints.\n"
     ]
    },
    {
     "name": "stderr",
     "output_type": "stream",
     "text": [
      "/home/cican/miniconda3/envs/ml/lib/python3.12/site-packages/nevergrad/parametrization/core.py:348: UserWarning: Lambda as constraint is not advised because it may not be picklable.\n",
      "  warnings.warn(\"Lambda as constraint is not advised because it may not be picklable.\")\n",
      "/home/cican/miniconda3/envs/ml/lib/python3.12/site-packages/nevergrad/optimization/recaster.py:272: FinishedUnderlyingOptimizerWarning: Underlying optimizer has already converged, returning random points\n",
      "  warnings.warn(\n"
     ]
    },
    {
     "name": "stdout",
     "output_type": "stream",
     "text": [
      "Could not satisfy constraints.\n",
      "Optimizing for n=20 and m=5, trial 23/50\n"
     ]
    },
    {
     "name": "stderr",
     "output_type": "stream",
     "text": [
      "/home/cican/miniconda3/envs/ml/lib/python3.12/site-packages/nevergrad/parametrization/core.py:348: UserWarning: Lambda as constraint is not advised because it may not be picklable.\n",
      "  warnings.warn(\"Lambda as constraint is not advised because it may not be picklable.\")\n",
      "/home/cican/miniconda3/envs/ml/lib/python3.12/site-packages/nevergrad/optimization/recaster.py:272: FinishedUnderlyingOptimizerWarning: Underlying optimizer has already converged, returning random points\n",
      "  warnings.warn(\n",
      "/home/cican/miniconda3/envs/ml/lib/python3.12/site-packages/nevergrad/parametrization/core.py:348: UserWarning: Lambda as constraint is not advised because it may not be picklable.\n",
      "  warnings.warn(\"Lambda as constraint is not advised because it may not be picklable.\")\n",
      "/home/cican/miniconda3/envs/ml/lib/python3.12/site-packages/nevergrad/optimization/recaster.py:272: FinishedUnderlyingOptimizerWarning: Underlying optimizer has already converged, returning random points\n",
      "  warnings.warn(\n"
     ]
    },
    {
     "name": "stdout",
     "output_type": "stream",
     "text": [
      "Optimizing for n=20 and m=5, trial 24/50\n"
     ]
    },
    {
     "name": "stderr",
     "output_type": "stream",
     "text": [
      "/home/cican/miniconda3/envs/ml/lib/python3.12/site-packages/nevergrad/parametrization/core.py:348: UserWarning: Lambda as constraint is not advised because it may not be picklable.\n",
      "  warnings.warn(\"Lambda as constraint is not advised because it may not be picklable.\")\n",
      "/home/cican/miniconda3/envs/ml/lib/python3.12/site-packages/nevergrad/optimization/recaster.py:272: FinishedUnderlyingOptimizerWarning: Underlying optimizer has already converged, returning random points\n",
      "  warnings.warn(\n",
      "/home/cican/miniconda3/envs/ml/lib/python3.12/site-packages/nevergrad/parametrization/core.py:348: UserWarning: Lambda as constraint is not advised because it may not be picklable.\n",
      "  warnings.warn(\"Lambda as constraint is not advised because it may not be picklable.\")\n",
      "/home/cican/miniconda3/envs/ml/lib/python3.12/site-packages/nevergrad/optimization/recaster.py:272: FinishedUnderlyingOptimizerWarning: Underlying optimizer has already converged, returning random points\n",
      "  warnings.warn(\n"
     ]
    },
    {
     "name": "stdout",
     "output_type": "stream",
     "text": [
      "Could not satisfy constraints.\n",
      "Optimizing for n=20 and m=5, trial 25/50\n"
     ]
    },
    {
     "name": "stderr",
     "output_type": "stream",
     "text": [
      "/home/cican/miniconda3/envs/ml/lib/python3.12/site-packages/nevergrad/parametrization/core.py:348: UserWarning: Lambda as constraint is not advised because it may not be picklable.\n",
      "  warnings.warn(\"Lambda as constraint is not advised because it may not be picklable.\")\n",
      "/home/cican/miniconda3/envs/ml/lib/python3.12/site-packages/nevergrad/optimization/recaster.py:272: FinishedUnderlyingOptimizerWarning: Underlying optimizer has already converged, returning random points\n",
      "  warnings.warn(\n",
      "/home/cican/miniconda3/envs/ml/lib/python3.12/site-packages/nevergrad/parametrization/core.py:348: UserWarning: Lambda as constraint is not advised because it may not be picklable.\n",
      "  warnings.warn(\"Lambda as constraint is not advised because it may not be picklable.\")\n",
      "/home/cican/miniconda3/envs/ml/lib/python3.12/site-packages/nevergrad/optimization/recaster.py:272: FinishedUnderlyingOptimizerWarning: Underlying optimizer has already converged, returning random points\n",
      "  warnings.warn(\n"
     ]
    },
    {
     "name": "stdout",
     "output_type": "stream",
     "text": [
      "Could not satisfy constraints.\n",
      "Optimizing for n=20 and m=5, trial 26/50\n"
     ]
    },
    {
     "name": "stderr",
     "output_type": "stream",
     "text": [
      "/home/cican/miniconda3/envs/ml/lib/python3.12/site-packages/nevergrad/parametrization/core.py:348: UserWarning: Lambda as constraint is not advised because it may not be picklable.\n",
      "  warnings.warn(\"Lambda as constraint is not advised because it may not be picklable.\")\n",
      "/home/cican/miniconda3/envs/ml/lib/python3.12/site-packages/nevergrad/optimization/recaster.py:272: FinishedUnderlyingOptimizerWarning: Underlying optimizer has already converged, returning random points\n",
      "  warnings.warn(\n",
      "/home/cican/miniconda3/envs/ml/lib/python3.12/site-packages/nevergrad/parametrization/core.py:348: UserWarning: Lambda as constraint is not advised because it may not be picklable.\n",
      "  warnings.warn(\"Lambda as constraint is not advised because it may not be picklable.\")\n",
      "/home/cican/miniconda3/envs/ml/lib/python3.12/site-packages/nevergrad/optimization/recaster.py:272: FinishedUnderlyingOptimizerWarning: Underlying optimizer has already converged, returning random points\n",
      "  warnings.warn(\n"
     ]
    },
    {
     "name": "stdout",
     "output_type": "stream",
     "text": [
      "Could not satisfy constraints.\n",
      "Optimizing for n=20 and m=5, trial 27/50\n"
     ]
    },
    {
     "name": "stderr",
     "output_type": "stream",
     "text": [
      "/home/cican/miniconda3/envs/ml/lib/python3.12/site-packages/nevergrad/parametrization/core.py:348: UserWarning: Lambda as constraint is not advised because it may not be picklable.\n",
      "  warnings.warn(\"Lambda as constraint is not advised because it may not be picklable.\")\n",
      "/home/cican/miniconda3/envs/ml/lib/python3.12/site-packages/nevergrad/optimization/recaster.py:272: FinishedUnderlyingOptimizerWarning: Underlying optimizer has already converged, returning random points\n",
      "  warnings.warn(\n",
      "/home/cican/miniconda3/envs/ml/lib/python3.12/site-packages/nevergrad/parametrization/core.py:348: UserWarning: Lambda as constraint is not advised because it may not be picklable.\n",
      "  warnings.warn(\"Lambda as constraint is not advised because it may not be picklable.\")\n",
      "/home/cican/miniconda3/envs/ml/lib/python3.12/site-packages/nevergrad/optimization/recaster.py:272: FinishedUnderlyingOptimizerWarning: Underlying optimizer has already converged, returning random points\n",
      "  warnings.warn(\n"
     ]
    },
    {
     "name": "stdout",
     "output_type": "stream",
     "text": [
      "Could not satisfy constraints.\n",
      "Optimizing for n=20 and m=5, trial 28/50\n"
     ]
    },
    {
     "name": "stderr",
     "output_type": "stream",
     "text": [
      "/home/cican/miniconda3/envs/ml/lib/python3.12/site-packages/nevergrad/parametrization/core.py:348: UserWarning: Lambda as constraint is not advised because it may not be picklable.\n",
      "  warnings.warn(\"Lambda as constraint is not advised because it may not be picklable.\")\n",
      "/home/cican/miniconda3/envs/ml/lib/python3.12/site-packages/nevergrad/optimization/recaster.py:272: FinishedUnderlyingOptimizerWarning: Underlying optimizer has already converged, returning random points\n",
      "  warnings.warn(\n"
     ]
    },
    {
     "name": "stdout",
     "output_type": "stream",
     "text": [
      "Could not satisfy constraints.\n"
     ]
    },
    {
     "name": "stderr",
     "output_type": "stream",
     "text": [
      "/home/cican/miniconda3/envs/ml/lib/python3.12/site-packages/nevergrad/parametrization/core.py:348: UserWarning: Lambda as constraint is not advised because it may not be picklable.\n",
      "  warnings.warn(\"Lambda as constraint is not advised because it may not be picklable.\")\n",
      "/home/cican/miniconda3/envs/ml/lib/python3.12/site-packages/nevergrad/optimization/recaster.py:272: FinishedUnderlyingOptimizerWarning: Underlying optimizer has already converged, returning random points\n",
      "  warnings.warn(\n"
     ]
    },
    {
     "name": "stdout",
     "output_type": "stream",
     "text": [
      "Could not satisfy constraints.\n",
      "Optimizing for n=20 and m=5, trial 29/50\n"
     ]
    },
    {
     "name": "stderr",
     "output_type": "stream",
     "text": [
      "/home/cican/miniconda3/envs/ml/lib/python3.12/site-packages/nevergrad/parametrization/core.py:348: UserWarning: Lambda as constraint is not advised because it may not be picklable.\n",
      "  warnings.warn(\"Lambda as constraint is not advised because it may not be picklable.\")\n",
      "/home/cican/miniconda3/envs/ml/lib/python3.12/site-packages/nevergrad/optimization/recaster.py:272: FinishedUnderlyingOptimizerWarning: Underlying optimizer has already converged, returning random points\n",
      "  warnings.warn(\n",
      "/home/cican/miniconda3/envs/ml/lib/python3.12/site-packages/nevergrad/parametrization/core.py:348: UserWarning: Lambda as constraint is not advised because it may not be picklable.\n",
      "  warnings.warn(\"Lambda as constraint is not advised because it may not be picklable.\")\n",
      "/home/cican/miniconda3/envs/ml/lib/python3.12/site-packages/nevergrad/optimization/recaster.py:272: FinishedUnderlyingOptimizerWarning: Underlying optimizer has already converged, returning random points\n",
      "  warnings.warn(\n"
     ]
    },
    {
     "name": "stdout",
     "output_type": "stream",
     "text": [
      "Could not satisfy constraints.\n",
      "Optimizing for n=20 and m=5, trial 30/50\n"
     ]
    },
    {
     "name": "stderr",
     "output_type": "stream",
     "text": [
      "/home/cican/miniconda3/envs/ml/lib/python3.12/site-packages/nevergrad/parametrization/core.py:348: UserWarning: Lambda as constraint is not advised because it may not be picklable.\n",
      "  warnings.warn(\"Lambda as constraint is not advised because it may not be picklable.\")\n",
      "/home/cican/miniconda3/envs/ml/lib/python3.12/site-packages/nevergrad/optimization/recaster.py:272: FinishedUnderlyingOptimizerWarning: Underlying optimizer has already converged, returning random points\n",
      "  warnings.warn(\n"
     ]
    },
    {
     "name": "stdout",
     "output_type": "stream",
     "text": [
      "Could not satisfy constraints.\n"
     ]
    },
    {
     "name": "stderr",
     "output_type": "stream",
     "text": [
      "/home/cican/miniconda3/envs/ml/lib/python3.12/site-packages/nevergrad/parametrization/core.py:348: UserWarning: Lambda as constraint is not advised because it may not be picklable.\n",
      "  warnings.warn(\"Lambda as constraint is not advised because it may not be picklable.\")\n",
      "/home/cican/miniconda3/envs/ml/lib/python3.12/site-packages/nevergrad/optimization/recaster.py:272: FinishedUnderlyingOptimizerWarning: Underlying optimizer has already converged, returning random points\n",
      "  warnings.warn(\n"
     ]
    },
    {
     "name": "stdout",
     "output_type": "stream",
     "text": [
      "Could not satisfy constraints.\n",
      "Optimizing for n=20 and m=5, trial 31/50\n"
     ]
    },
    {
     "name": "stderr",
     "output_type": "stream",
     "text": [
      "/home/cican/miniconda3/envs/ml/lib/python3.12/site-packages/nevergrad/parametrization/core.py:348: UserWarning: Lambda as constraint is not advised because it may not be picklable.\n",
      "  warnings.warn(\"Lambda as constraint is not advised because it may not be picklable.\")\n",
      "/home/cican/miniconda3/envs/ml/lib/python3.12/site-packages/nevergrad/optimization/recaster.py:272: FinishedUnderlyingOptimizerWarning: Underlying optimizer has already converged, returning random points\n",
      "  warnings.warn(\n",
      "/home/cican/miniconda3/envs/ml/lib/python3.12/site-packages/nevergrad/parametrization/core.py:348: UserWarning: Lambda as constraint is not advised because it may not be picklable.\n",
      "  warnings.warn(\"Lambda as constraint is not advised because it may not be picklable.\")\n",
      "/home/cican/miniconda3/envs/ml/lib/python3.12/site-packages/nevergrad/optimization/recaster.py:272: FinishedUnderlyingOptimizerWarning: Underlying optimizer has already converged, returning random points\n",
      "  warnings.warn(\n"
     ]
    },
    {
     "name": "stdout",
     "output_type": "stream",
     "text": [
      "Optimizing for n=20 and m=5, trial 32/50\n"
     ]
    },
    {
     "name": "stderr",
     "output_type": "stream",
     "text": [
      "/home/cican/miniconda3/envs/ml/lib/python3.12/site-packages/nevergrad/parametrization/core.py:348: UserWarning: Lambda as constraint is not advised because it may not be picklable.\n",
      "  warnings.warn(\"Lambda as constraint is not advised because it may not be picklable.\")\n",
      "/home/cican/miniconda3/envs/ml/lib/python3.12/site-packages/nevergrad/optimization/recaster.py:272: FinishedUnderlyingOptimizerWarning: Underlying optimizer has already converged, returning random points\n",
      "  warnings.warn(\n"
     ]
    },
    {
     "name": "stdout",
     "output_type": "stream",
     "text": [
      "Could not satisfy constraints.\n"
     ]
    },
    {
     "name": "stderr",
     "output_type": "stream",
     "text": [
      "/home/cican/miniconda3/envs/ml/lib/python3.12/site-packages/nevergrad/parametrization/core.py:348: UserWarning: Lambda as constraint is not advised because it may not be picklable.\n",
      "  warnings.warn(\"Lambda as constraint is not advised because it may not be picklable.\")\n",
      "/home/cican/miniconda3/envs/ml/lib/python3.12/site-packages/nevergrad/optimization/recaster.py:272: FinishedUnderlyingOptimizerWarning: Underlying optimizer has already converged, returning random points\n",
      "  warnings.warn(\n"
     ]
    },
    {
     "name": "stdout",
     "output_type": "stream",
     "text": [
      "Could not satisfy constraints.\n",
      "Optimizing for n=20 and m=5, trial 33/50\n"
     ]
    },
    {
     "name": "stderr",
     "output_type": "stream",
     "text": [
      "/home/cican/miniconda3/envs/ml/lib/python3.12/site-packages/nevergrad/parametrization/core.py:348: UserWarning: Lambda as constraint is not advised because it may not be picklable.\n",
      "  warnings.warn(\"Lambda as constraint is not advised because it may not be picklable.\")\n",
      "/home/cican/miniconda3/envs/ml/lib/python3.12/site-packages/nevergrad/optimization/recaster.py:272: FinishedUnderlyingOptimizerWarning: Underlying optimizer has already converged, returning random points\n",
      "  warnings.warn(\n"
     ]
    },
    {
     "name": "stdout",
     "output_type": "stream",
     "text": [
      "Could not satisfy constraints.\n"
     ]
    },
    {
     "name": "stderr",
     "output_type": "stream",
     "text": [
      "/home/cican/miniconda3/envs/ml/lib/python3.12/site-packages/nevergrad/parametrization/core.py:348: UserWarning: Lambda as constraint is not advised because it may not be picklable.\n",
      "  warnings.warn(\"Lambda as constraint is not advised because it may not be picklable.\")\n",
      "/home/cican/miniconda3/envs/ml/lib/python3.12/site-packages/nevergrad/optimization/recaster.py:272: FinishedUnderlyingOptimizerWarning: Underlying optimizer has already converged, returning random points\n",
      "  warnings.warn(\n"
     ]
    },
    {
     "name": "stdout",
     "output_type": "stream",
     "text": [
      "Could not satisfy constraints.\n",
      "Optimizing for n=20 and m=5, trial 34/50\n"
     ]
    },
    {
     "name": "stderr",
     "output_type": "stream",
     "text": [
      "/home/cican/miniconda3/envs/ml/lib/python3.12/site-packages/nevergrad/parametrization/core.py:348: UserWarning: Lambda as constraint is not advised because it may not be picklable.\n",
      "  warnings.warn(\"Lambda as constraint is not advised because it may not be picklable.\")\n",
      "/home/cican/miniconda3/envs/ml/lib/python3.12/site-packages/nevergrad/optimization/recaster.py:272: FinishedUnderlyingOptimizerWarning: Underlying optimizer has already converged, returning random points\n",
      "  warnings.warn(\n",
      "/home/cican/miniconda3/envs/ml/lib/python3.12/site-packages/nevergrad/parametrization/core.py:348: UserWarning: Lambda as constraint is not advised because it may not be picklable.\n",
      "  warnings.warn(\"Lambda as constraint is not advised because it may not be picklable.\")\n",
      "/home/cican/miniconda3/envs/ml/lib/python3.12/site-packages/nevergrad/optimization/recaster.py:272: FinishedUnderlyingOptimizerWarning: Underlying optimizer has already converged, returning random points\n",
      "  warnings.warn(\n"
     ]
    },
    {
     "name": "stdout",
     "output_type": "stream",
     "text": [
      "Optimizing for n=20 and m=5, trial 35/50\n"
     ]
    },
    {
     "name": "stderr",
     "output_type": "stream",
     "text": [
      "/home/cican/miniconda3/envs/ml/lib/python3.12/site-packages/nevergrad/parametrization/core.py:348: UserWarning: Lambda as constraint is not advised because it may not be picklable.\n",
      "  warnings.warn(\"Lambda as constraint is not advised because it may not be picklable.\")\n",
      "/home/cican/miniconda3/envs/ml/lib/python3.12/site-packages/nevergrad/optimization/recaster.py:272: FinishedUnderlyingOptimizerWarning: Underlying optimizer has already converged, returning random points\n",
      "  warnings.warn(\n"
     ]
    },
    {
     "name": "stdout",
     "output_type": "stream",
     "text": [
      "Could not satisfy constraints.\n"
     ]
    },
    {
     "name": "stderr",
     "output_type": "stream",
     "text": [
      "/home/cican/miniconda3/envs/ml/lib/python3.12/site-packages/nevergrad/parametrization/core.py:348: UserWarning: Lambda as constraint is not advised because it may not be picklable.\n",
      "  warnings.warn(\"Lambda as constraint is not advised because it may not be picklable.\")\n",
      "/home/cican/miniconda3/envs/ml/lib/python3.12/site-packages/nevergrad/optimization/recaster.py:272: FinishedUnderlyingOptimizerWarning: Underlying optimizer has already converged, returning random points\n",
      "  warnings.warn(\n"
     ]
    },
    {
     "name": "stdout",
     "output_type": "stream",
     "text": [
      "Could not satisfy constraints.\n",
      "Optimizing for n=20 and m=5, trial 36/50\n"
     ]
    },
    {
     "name": "stderr",
     "output_type": "stream",
     "text": [
      "/home/cican/miniconda3/envs/ml/lib/python3.12/site-packages/nevergrad/parametrization/core.py:348: UserWarning: Lambda as constraint is not advised because it may not be picklable.\n",
      "  warnings.warn(\"Lambda as constraint is not advised because it may not be picklable.\")\n",
      "/home/cican/miniconda3/envs/ml/lib/python3.12/site-packages/nevergrad/optimization/recaster.py:272: FinishedUnderlyingOptimizerWarning: Underlying optimizer has already converged, returning random points\n",
      "  warnings.warn(\n"
     ]
    },
    {
     "name": "stdout",
     "output_type": "stream",
     "text": [
      "Could not satisfy constraints.\n"
     ]
    },
    {
     "name": "stderr",
     "output_type": "stream",
     "text": [
      "/home/cican/miniconda3/envs/ml/lib/python3.12/site-packages/nevergrad/parametrization/core.py:348: UserWarning: Lambda as constraint is not advised because it may not be picklable.\n",
      "  warnings.warn(\"Lambda as constraint is not advised because it may not be picklable.\")\n",
      "/home/cican/miniconda3/envs/ml/lib/python3.12/site-packages/nevergrad/optimization/recaster.py:272: FinishedUnderlyingOptimizerWarning: Underlying optimizer has already converged, returning random points\n",
      "  warnings.warn(\n"
     ]
    },
    {
     "name": "stdout",
     "output_type": "stream",
     "text": [
      "Could not satisfy constraints.\n",
      "Optimizing for n=20 and m=5, trial 37/50\n"
     ]
    },
    {
     "name": "stderr",
     "output_type": "stream",
     "text": [
      "/home/cican/miniconda3/envs/ml/lib/python3.12/site-packages/nevergrad/parametrization/core.py:348: UserWarning: Lambda as constraint is not advised because it may not be picklable.\n",
      "  warnings.warn(\"Lambda as constraint is not advised because it may not be picklable.\")\n",
      "/home/cican/miniconda3/envs/ml/lib/python3.12/site-packages/nevergrad/optimization/recaster.py:272: FinishedUnderlyingOptimizerWarning: Underlying optimizer has already converged, returning random points\n",
      "  warnings.warn(\n"
     ]
    },
    {
     "name": "stdout",
     "output_type": "stream",
     "text": [
      "Could not satisfy constraints.\n"
     ]
    },
    {
     "name": "stderr",
     "output_type": "stream",
     "text": [
      "/home/cican/miniconda3/envs/ml/lib/python3.12/site-packages/nevergrad/parametrization/core.py:348: UserWarning: Lambda as constraint is not advised because it may not be picklable.\n",
      "  warnings.warn(\"Lambda as constraint is not advised because it may not be picklable.\")\n",
      "/home/cican/miniconda3/envs/ml/lib/python3.12/site-packages/nevergrad/optimization/recaster.py:272: FinishedUnderlyingOptimizerWarning: Underlying optimizer has already converged, returning random points\n",
      "  warnings.warn(\n"
     ]
    },
    {
     "name": "stdout",
     "output_type": "stream",
     "text": [
      "Optimizing for n=20 and m=5, trial 38/50\n"
     ]
    },
    {
     "name": "stderr",
     "output_type": "stream",
     "text": [
      "/home/cican/miniconda3/envs/ml/lib/python3.12/site-packages/nevergrad/parametrization/core.py:348: UserWarning: Lambda as constraint is not advised because it may not be picklable.\n",
      "  warnings.warn(\"Lambda as constraint is not advised because it may not be picklable.\")\n",
      "/home/cican/miniconda3/envs/ml/lib/python3.12/site-packages/nevergrad/optimization/recaster.py:272: FinishedUnderlyingOptimizerWarning: Underlying optimizer has already converged, returning random points\n",
      "  warnings.warn(\n"
     ]
    },
    {
     "name": "stdout",
     "output_type": "stream",
     "text": [
      "Could not satisfy constraints.\n"
     ]
    },
    {
     "name": "stderr",
     "output_type": "stream",
     "text": [
      "/home/cican/miniconda3/envs/ml/lib/python3.12/site-packages/nevergrad/parametrization/core.py:348: UserWarning: Lambda as constraint is not advised because it may not be picklable.\n",
      "  warnings.warn(\"Lambda as constraint is not advised because it may not be picklable.\")\n",
      "/home/cican/miniconda3/envs/ml/lib/python3.12/site-packages/nevergrad/optimization/recaster.py:272: FinishedUnderlyingOptimizerWarning: Underlying optimizer has already converged, returning random points\n",
      "  warnings.warn(\n"
     ]
    },
    {
     "name": "stdout",
     "output_type": "stream",
     "text": [
      "Could not satisfy constraints.\n",
      "Optimizing for n=20 and m=5, trial 39/50\n"
     ]
    },
    {
     "name": "stderr",
     "output_type": "stream",
     "text": [
      "/home/cican/miniconda3/envs/ml/lib/python3.12/site-packages/nevergrad/parametrization/core.py:348: UserWarning: Lambda as constraint is not advised because it may not be picklable.\n",
      "  warnings.warn(\"Lambda as constraint is not advised because it may not be picklable.\")\n",
      "/home/cican/miniconda3/envs/ml/lib/python3.12/site-packages/nevergrad/optimization/recaster.py:272: FinishedUnderlyingOptimizerWarning: Underlying optimizer has already converged, returning random points\n",
      "  warnings.warn(\n",
      "/home/cican/miniconda3/envs/ml/lib/python3.12/site-packages/nevergrad/parametrization/core.py:348: UserWarning: Lambda as constraint is not advised because it may not be picklable.\n",
      "  warnings.warn(\"Lambda as constraint is not advised because it may not be picklable.\")\n",
      "/home/cican/miniconda3/envs/ml/lib/python3.12/site-packages/nevergrad/optimization/recaster.py:272: FinishedUnderlyingOptimizerWarning: Underlying optimizer has already converged, returning random points\n",
      "  warnings.warn(\n"
     ]
    },
    {
     "name": "stdout",
     "output_type": "stream",
     "text": [
      "Optimizing for n=20 and m=5, trial 40/50\n"
     ]
    },
    {
     "name": "stderr",
     "output_type": "stream",
     "text": [
      "/home/cican/miniconda3/envs/ml/lib/python3.12/site-packages/nevergrad/parametrization/core.py:348: UserWarning: Lambda as constraint is not advised because it may not be picklable.\n",
      "  warnings.warn(\"Lambda as constraint is not advised because it may not be picklable.\")\n",
      "/home/cican/miniconda3/envs/ml/lib/python3.12/site-packages/nevergrad/optimization/recaster.py:272: FinishedUnderlyingOptimizerWarning: Underlying optimizer has already converged, returning random points\n",
      "  warnings.warn(\n",
      "/home/cican/miniconda3/envs/ml/lib/python3.12/site-packages/nevergrad/parametrization/core.py:348: UserWarning: Lambda as constraint is not advised because it may not be picklable.\n",
      "  warnings.warn(\"Lambda as constraint is not advised because it may not be picklable.\")\n",
      "/home/cican/miniconda3/envs/ml/lib/python3.12/site-packages/nevergrad/optimization/recaster.py:272: FinishedUnderlyingOptimizerWarning: Underlying optimizer has already converged, returning random points\n",
      "  warnings.warn(\n"
     ]
    },
    {
     "name": "stdout",
     "output_type": "stream",
     "text": [
      "Could not satisfy constraints.\n",
      "Optimizing for n=20 and m=5, trial 41/50\n"
     ]
    },
    {
     "name": "stderr",
     "output_type": "stream",
     "text": [
      "/home/cican/miniconda3/envs/ml/lib/python3.12/site-packages/nevergrad/parametrization/core.py:348: UserWarning: Lambda as constraint is not advised because it may not be picklable.\n",
      "  warnings.warn(\"Lambda as constraint is not advised because it may not be picklable.\")\n",
      "/home/cican/miniconda3/envs/ml/lib/python3.12/site-packages/nevergrad/optimization/recaster.py:272: FinishedUnderlyingOptimizerWarning: Underlying optimizer has already converged, returning random points\n",
      "  warnings.warn(\n"
     ]
    },
    {
     "name": "stdout",
     "output_type": "stream",
     "text": [
      "Could not satisfy constraints.\n"
     ]
    },
    {
     "name": "stderr",
     "output_type": "stream",
     "text": [
      "/home/cican/miniconda3/envs/ml/lib/python3.12/site-packages/nevergrad/parametrization/core.py:348: UserWarning: Lambda as constraint is not advised because it may not be picklable.\n",
      "  warnings.warn(\"Lambda as constraint is not advised because it may not be picklable.\")\n",
      "/home/cican/miniconda3/envs/ml/lib/python3.12/site-packages/nevergrad/optimization/recaster.py:272: FinishedUnderlyingOptimizerWarning: Underlying optimizer has already converged, returning random points\n",
      "  warnings.warn(\n"
     ]
    },
    {
     "name": "stdout",
     "output_type": "stream",
     "text": [
      "Optimizing for n=20 and m=5, trial 42/50\n"
     ]
    },
    {
     "name": "stderr",
     "output_type": "stream",
     "text": [
      "/home/cican/miniconda3/envs/ml/lib/python3.12/site-packages/nevergrad/parametrization/core.py:348: UserWarning: Lambda as constraint is not advised because it may not be picklable.\n",
      "  warnings.warn(\"Lambda as constraint is not advised because it may not be picklable.\")\n",
      "/home/cican/miniconda3/envs/ml/lib/python3.12/site-packages/nevergrad/optimization/recaster.py:272: FinishedUnderlyingOptimizerWarning: Underlying optimizer has already converged, returning random points\n",
      "  warnings.warn(\n"
     ]
    },
    {
     "name": "stdout",
     "output_type": "stream",
     "text": [
      "Could not satisfy constraints.\n"
     ]
    },
    {
     "name": "stderr",
     "output_type": "stream",
     "text": [
      "/home/cican/miniconda3/envs/ml/lib/python3.12/site-packages/nevergrad/parametrization/core.py:348: UserWarning: Lambda as constraint is not advised because it may not be picklable.\n",
      "  warnings.warn(\"Lambda as constraint is not advised because it may not be picklable.\")\n",
      "/home/cican/miniconda3/envs/ml/lib/python3.12/site-packages/nevergrad/optimization/recaster.py:272: FinishedUnderlyingOptimizerWarning: Underlying optimizer has already converged, returning random points\n",
      "  warnings.warn(\n"
     ]
    },
    {
     "name": "stdout",
     "output_type": "stream",
     "text": [
      "Optimizing for n=20 and m=5, trial 43/50\n"
     ]
    },
    {
     "name": "stderr",
     "output_type": "stream",
     "text": [
      "/home/cican/miniconda3/envs/ml/lib/python3.12/site-packages/nevergrad/parametrization/core.py:348: UserWarning: Lambda as constraint is not advised because it may not be picklable.\n",
      "  warnings.warn(\"Lambda as constraint is not advised because it may not be picklable.\")\n",
      "/home/cican/miniconda3/envs/ml/lib/python3.12/site-packages/nevergrad/optimization/recaster.py:272: FinishedUnderlyingOptimizerWarning: Underlying optimizer has already converged, returning random points\n",
      "  warnings.warn(\n",
      "/home/cican/miniconda3/envs/ml/lib/python3.12/site-packages/nevergrad/parametrization/core.py:348: UserWarning: Lambda as constraint is not advised because it may not be picklable.\n",
      "  warnings.warn(\"Lambda as constraint is not advised because it may not be picklable.\")\n",
      "/home/cican/miniconda3/envs/ml/lib/python3.12/site-packages/nevergrad/optimization/recaster.py:272: FinishedUnderlyingOptimizerWarning: Underlying optimizer has already converged, returning random points\n",
      "  warnings.warn(\n"
     ]
    },
    {
     "name": "stdout",
     "output_type": "stream",
     "text": [
      "Could not satisfy constraints.\n",
      "Optimizing for n=20 and m=5, trial 44/50\n"
     ]
    },
    {
     "name": "stderr",
     "output_type": "stream",
     "text": [
      "/home/cican/miniconda3/envs/ml/lib/python3.12/site-packages/nevergrad/parametrization/core.py:348: UserWarning: Lambda as constraint is not advised because it may not be picklable.\n",
      "  warnings.warn(\"Lambda as constraint is not advised because it may not be picklable.\")\n",
      "/home/cican/miniconda3/envs/ml/lib/python3.12/site-packages/nevergrad/optimization/recaster.py:272: FinishedUnderlyingOptimizerWarning: Underlying optimizer has already converged, returning random points\n",
      "  warnings.warn(\n",
      "/home/cican/miniconda3/envs/ml/lib/python3.12/site-packages/nevergrad/parametrization/core.py:348: UserWarning: Lambda as constraint is not advised because it may not be picklable.\n",
      "  warnings.warn(\"Lambda as constraint is not advised because it may not be picklable.\")\n",
      "/home/cican/miniconda3/envs/ml/lib/python3.12/site-packages/nevergrad/optimization/recaster.py:272: FinishedUnderlyingOptimizerWarning: Underlying optimizer has already converged, returning random points\n",
      "  warnings.warn(\n"
     ]
    },
    {
     "name": "stdout",
     "output_type": "stream",
     "text": [
      "Could not satisfy constraints.\n",
      "Optimizing for n=20 and m=5, trial 45/50\n"
     ]
    },
    {
     "name": "stderr",
     "output_type": "stream",
     "text": [
      "/home/cican/miniconda3/envs/ml/lib/python3.12/site-packages/nevergrad/parametrization/core.py:348: UserWarning: Lambda as constraint is not advised because it may not be picklable.\n",
      "  warnings.warn(\"Lambda as constraint is not advised because it may not be picklable.\")\n",
      "/home/cican/miniconda3/envs/ml/lib/python3.12/site-packages/nevergrad/optimization/recaster.py:272: FinishedUnderlyingOptimizerWarning: Underlying optimizer has already converged, returning random points\n",
      "  warnings.warn(\n",
      "/home/cican/miniconda3/envs/ml/lib/python3.12/site-packages/nevergrad/parametrization/core.py:348: UserWarning: Lambda as constraint is not advised because it may not be picklable.\n",
      "  warnings.warn(\"Lambda as constraint is not advised because it may not be picklable.\")\n",
      "/home/cican/miniconda3/envs/ml/lib/python3.12/site-packages/nevergrad/optimization/recaster.py:272: FinishedUnderlyingOptimizerWarning: Underlying optimizer has already converged, returning random points\n",
      "  warnings.warn(\n"
     ]
    },
    {
     "name": "stdout",
     "output_type": "stream",
     "text": [
      "Optimizing for n=20 and m=5, trial 46/50\n"
     ]
    },
    {
     "name": "stderr",
     "output_type": "stream",
     "text": [
      "/home/cican/miniconda3/envs/ml/lib/python3.12/site-packages/nevergrad/parametrization/core.py:348: UserWarning: Lambda as constraint is not advised because it may not be picklable.\n",
      "  warnings.warn(\"Lambda as constraint is not advised because it may not be picklable.\")\n",
      "/home/cican/miniconda3/envs/ml/lib/python3.12/site-packages/nevergrad/optimization/recaster.py:272: FinishedUnderlyingOptimizerWarning: Underlying optimizer has already converged, returning random points\n",
      "  warnings.warn(\n"
     ]
    },
    {
     "name": "stdout",
     "output_type": "stream",
     "text": [
      "Could not satisfy constraints.\n"
     ]
    },
    {
     "name": "stderr",
     "output_type": "stream",
     "text": [
      "/home/cican/miniconda3/envs/ml/lib/python3.12/site-packages/nevergrad/parametrization/core.py:348: UserWarning: Lambda as constraint is not advised because it may not be picklable.\n",
      "  warnings.warn(\"Lambda as constraint is not advised because it may not be picklable.\")\n",
      "/home/cican/miniconda3/envs/ml/lib/python3.12/site-packages/nevergrad/optimization/recaster.py:272: FinishedUnderlyingOptimizerWarning: Underlying optimizer has already converged, returning random points\n",
      "  warnings.warn(\n"
     ]
    },
    {
     "name": "stdout",
     "output_type": "stream",
     "text": [
      "Optimizing for n=20 and m=5, trial 47/50\n"
     ]
    },
    {
     "name": "stderr",
     "output_type": "stream",
     "text": [
      "/home/cican/miniconda3/envs/ml/lib/python3.12/site-packages/nevergrad/parametrization/core.py:348: UserWarning: Lambda as constraint is not advised because it may not be picklable.\n",
      "  warnings.warn(\"Lambda as constraint is not advised because it may not be picklable.\")\n",
      "/home/cican/miniconda3/envs/ml/lib/python3.12/site-packages/nevergrad/optimization/recaster.py:272: FinishedUnderlyingOptimizerWarning: Underlying optimizer has already converged, returning random points\n",
      "  warnings.warn(\n",
      "/home/cican/miniconda3/envs/ml/lib/python3.12/site-packages/nevergrad/parametrization/core.py:348: UserWarning: Lambda as constraint is not advised because it may not be picklable.\n",
      "  warnings.warn(\"Lambda as constraint is not advised because it may not be picklable.\")\n",
      "/home/cican/miniconda3/envs/ml/lib/python3.12/site-packages/nevergrad/optimization/recaster.py:272: FinishedUnderlyingOptimizerWarning: Underlying optimizer has already converged, returning random points\n",
      "  warnings.warn(\n"
     ]
    },
    {
     "name": "stdout",
     "output_type": "stream",
     "text": [
      "Optimizing for n=20 and m=5, trial 48/50\n"
     ]
    },
    {
     "name": "stderr",
     "output_type": "stream",
     "text": [
      "/home/cican/miniconda3/envs/ml/lib/python3.12/site-packages/nevergrad/parametrization/core.py:348: UserWarning: Lambda as constraint is not advised because it may not be picklable.\n",
      "  warnings.warn(\"Lambda as constraint is not advised because it may not be picklable.\")\n",
      "/home/cican/miniconda3/envs/ml/lib/python3.12/site-packages/nevergrad/optimization/recaster.py:272: FinishedUnderlyingOptimizerWarning: Underlying optimizer has already converged, returning random points\n",
      "  warnings.warn(\n",
      "/home/cican/miniconda3/envs/ml/lib/python3.12/site-packages/nevergrad/parametrization/core.py:348: UserWarning: Lambda as constraint is not advised because it may not be picklable.\n",
      "  warnings.warn(\"Lambda as constraint is not advised because it may not be picklable.\")\n",
      "/home/cican/miniconda3/envs/ml/lib/python3.12/site-packages/nevergrad/optimization/recaster.py:272: FinishedUnderlyingOptimizerWarning: Underlying optimizer has already converged, returning random points\n",
      "  warnings.warn(\n"
     ]
    },
    {
     "name": "stdout",
     "output_type": "stream",
     "text": [
      "Optimizing for n=20 and m=5, trial 49/50\n"
     ]
    },
    {
     "name": "stderr",
     "output_type": "stream",
     "text": [
      "/home/cican/miniconda3/envs/ml/lib/python3.12/site-packages/nevergrad/parametrization/core.py:348: UserWarning: Lambda as constraint is not advised because it may not be picklable.\n",
      "  warnings.warn(\"Lambda as constraint is not advised because it may not be picklable.\")\n",
      "/home/cican/miniconda3/envs/ml/lib/python3.12/site-packages/nevergrad/optimization/recaster.py:272: FinishedUnderlyingOptimizerWarning: Underlying optimizer has already converged, returning random points\n",
      "  warnings.warn(\n"
     ]
    },
    {
     "name": "stdout",
     "output_type": "stream",
     "text": [
      "Could not satisfy constraints.\n"
     ]
    },
    {
     "name": "stderr",
     "output_type": "stream",
     "text": [
      "/home/cican/miniconda3/envs/ml/lib/python3.12/site-packages/nevergrad/parametrization/core.py:348: UserWarning: Lambda as constraint is not advised because it may not be picklable.\n",
      "  warnings.warn(\"Lambda as constraint is not advised because it may not be picklable.\")\n",
      "/home/cican/miniconda3/envs/ml/lib/python3.12/site-packages/nevergrad/optimization/recaster.py:272: FinishedUnderlyingOptimizerWarning: Underlying optimizer has already converged, returning random points\n",
      "  warnings.warn(\n"
     ]
    },
    {
     "name": "stdout",
     "output_type": "stream",
     "text": [
      "Optimizing for n=20 and m=5, trial 50/50\n"
     ]
    },
    {
     "name": "stderr",
     "output_type": "stream",
     "text": [
      "/home/cican/miniconda3/envs/ml/lib/python3.12/site-packages/nevergrad/parametrization/core.py:348: UserWarning: Lambda as constraint is not advised because it may not be picklable.\n",
      "  warnings.warn(\"Lambda as constraint is not advised because it may not be picklable.\")\n",
      "/home/cican/miniconda3/envs/ml/lib/python3.12/site-packages/nevergrad/optimization/recaster.py:272: FinishedUnderlyingOptimizerWarning: Underlying optimizer has already converged, returning random points\n",
      "  warnings.warn(\n"
     ]
    },
    {
     "name": "stdout",
     "output_type": "stream",
     "text": [
      "Could not satisfy constraints.\n"
     ]
    },
    {
     "name": "stderr",
     "output_type": "stream",
     "text": [
      "/home/cican/miniconda3/envs/ml/lib/python3.12/site-packages/nevergrad/parametrization/core.py:348: UserWarning: Lambda as constraint is not advised because it may not be picklable.\n",
      "  warnings.warn(\"Lambda as constraint is not advised because it may not be picklable.\")\n",
      "/home/cican/miniconda3/envs/ml/lib/python3.12/site-packages/nevergrad/optimization/recaster.py:272: FinishedUnderlyingOptimizerWarning: Underlying optimizer has already converged, returning random points\n",
      "  warnings.warn(\n"
     ]
    },
    {
     "name": "stdout",
     "output_type": "stream",
     "text": [
      "Optimizing for n=20 and m=10, trial 1/50\n"
     ]
    },
    {
     "name": "stderr",
     "output_type": "stream",
     "text": [
      "/home/cican/miniconda3/envs/ml/lib/python3.12/site-packages/nevergrad/parametrization/core.py:348: UserWarning: Lambda as constraint is not advised because it may not be picklable.\n",
      "  warnings.warn(\"Lambda as constraint is not advised because it may not be picklable.\")\n",
      "/home/cican/miniconda3/envs/ml/lib/python3.12/site-packages/nevergrad/optimization/recaster.py:272: FinishedUnderlyingOptimizerWarning: Underlying optimizer has already converged, returning random points\n",
      "  warnings.warn(\n"
     ]
    },
    {
     "name": "stdout",
     "output_type": "stream",
     "text": [
      "Could not satisfy constraints.\n"
     ]
    },
    {
     "name": "stderr",
     "output_type": "stream",
     "text": [
      "/home/cican/miniconda3/envs/ml/lib/python3.12/site-packages/nevergrad/parametrization/core.py:348: UserWarning: Lambda as constraint is not advised because it may not be picklable.\n",
      "  warnings.warn(\"Lambda as constraint is not advised because it may not be picklable.\")\n",
      "/home/cican/miniconda3/envs/ml/lib/python3.12/site-packages/nevergrad/optimization/recaster.py:272: FinishedUnderlyingOptimizerWarning: Underlying optimizer has already converged, returning random points\n",
      "  warnings.warn(\n"
     ]
    },
    {
     "name": "stdout",
     "output_type": "stream",
     "text": [
      "Optimizing for n=20 and m=10, trial 2/50\n"
     ]
    },
    {
     "name": "stderr",
     "output_type": "stream",
     "text": [
      "/home/cican/miniconda3/envs/ml/lib/python3.12/site-packages/nevergrad/parametrization/core.py:348: UserWarning: Lambda as constraint is not advised because it may not be picklable.\n",
      "  warnings.warn(\"Lambda as constraint is not advised because it may not be picklable.\")\n",
      "/home/cican/miniconda3/envs/ml/lib/python3.12/site-packages/nevergrad/optimization/recaster.py:272: FinishedUnderlyingOptimizerWarning: Underlying optimizer has already converged, returning random points\n",
      "  warnings.warn(\n",
      "/home/cican/miniconda3/envs/ml/lib/python3.12/site-packages/nevergrad/parametrization/core.py:348: UserWarning: Lambda as constraint is not advised because it may not be picklable.\n",
      "  warnings.warn(\"Lambda as constraint is not advised because it may not be picklable.\")\n",
      "/home/cican/miniconda3/envs/ml/lib/python3.12/site-packages/nevergrad/optimization/recaster.py:272: FinishedUnderlyingOptimizerWarning: Underlying optimizer has already converged, returning random points\n",
      "  warnings.warn(\n"
     ]
    },
    {
     "name": "stdout",
     "output_type": "stream",
     "text": [
      "Could not satisfy constraints.\n",
      "Optimizing for n=20 and m=10, trial 3/50\n"
     ]
    },
    {
     "name": "stderr",
     "output_type": "stream",
     "text": [
      "/home/cican/miniconda3/envs/ml/lib/python3.12/site-packages/nevergrad/parametrization/core.py:348: UserWarning: Lambda as constraint is not advised because it may not be picklable.\n",
      "  warnings.warn(\"Lambda as constraint is not advised because it may not be picklable.\")\n",
      "/home/cican/miniconda3/envs/ml/lib/python3.12/site-packages/nevergrad/optimization/recaster.py:272: FinishedUnderlyingOptimizerWarning: Underlying optimizer has already converged, returning random points\n",
      "  warnings.warn(\n",
      "/home/cican/miniconda3/envs/ml/lib/python3.12/site-packages/nevergrad/parametrization/core.py:348: UserWarning: Lambda as constraint is not advised because it may not be picklable.\n",
      "  warnings.warn(\"Lambda as constraint is not advised because it may not be picklable.\")\n",
      "/home/cican/miniconda3/envs/ml/lib/python3.12/site-packages/nevergrad/optimization/recaster.py:272: FinishedUnderlyingOptimizerWarning: Underlying optimizer has already converged, returning random points\n",
      "  warnings.warn(\n"
     ]
    },
    {
     "name": "stdout",
     "output_type": "stream",
     "text": [
      "Could not satisfy constraints.\n",
      "Optimizing for n=20 and m=10, trial 4/50\n"
     ]
    },
    {
     "name": "stderr",
     "output_type": "stream",
     "text": [
      "/home/cican/miniconda3/envs/ml/lib/python3.12/site-packages/nevergrad/parametrization/core.py:348: UserWarning: Lambda as constraint is not advised because it may not be picklable.\n",
      "  warnings.warn(\"Lambda as constraint is not advised because it may not be picklable.\")\n",
      "/home/cican/miniconda3/envs/ml/lib/python3.12/site-packages/nevergrad/optimization/recaster.py:272: FinishedUnderlyingOptimizerWarning: Underlying optimizer has already converged, returning random points\n",
      "  warnings.warn(\n",
      "/home/cican/miniconda3/envs/ml/lib/python3.12/site-packages/nevergrad/parametrization/core.py:348: UserWarning: Lambda as constraint is not advised because it may not be picklable.\n",
      "  warnings.warn(\"Lambda as constraint is not advised because it may not be picklable.\")\n",
      "/home/cican/miniconda3/envs/ml/lib/python3.12/site-packages/nevergrad/optimization/recaster.py:272: FinishedUnderlyingOptimizerWarning: Underlying optimizer has already converged, returning random points\n",
      "  warnings.warn(\n"
     ]
    },
    {
     "name": "stdout",
     "output_type": "stream",
     "text": [
      "Could not satisfy constraints.\n",
      "Optimizing for n=20 and m=10, trial 5/50\n"
     ]
    },
    {
     "name": "stderr",
     "output_type": "stream",
     "text": [
      "/home/cican/miniconda3/envs/ml/lib/python3.12/site-packages/nevergrad/parametrization/core.py:348: UserWarning: Lambda as constraint is not advised because it may not be picklable.\n",
      "  warnings.warn(\"Lambda as constraint is not advised because it may not be picklable.\")\n",
      "/home/cican/miniconda3/envs/ml/lib/python3.12/site-packages/nevergrad/optimization/recaster.py:272: FinishedUnderlyingOptimizerWarning: Underlying optimizer has already converged, returning random points\n",
      "  warnings.warn(\n",
      "/home/cican/miniconda3/envs/ml/lib/python3.12/site-packages/nevergrad/parametrization/core.py:348: UserWarning: Lambda as constraint is not advised because it may not be picklable.\n",
      "  warnings.warn(\"Lambda as constraint is not advised because it may not be picklable.\")\n",
      "/home/cican/miniconda3/envs/ml/lib/python3.12/site-packages/nevergrad/optimization/recaster.py:272: FinishedUnderlyingOptimizerWarning: Underlying optimizer has already converged, returning random points\n",
      "  warnings.warn(\n"
     ]
    },
    {
     "name": "stdout",
     "output_type": "stream",
     "text": [
      "Could not satisfy constraints.\n",
      "Optimizing for n=20 and m=10, trial 6/50\n"
     ]
    },
    {
     "name": "stderr",
     "output_type": "stream",
     "text": [
      "/home/cican/miniconda3/envs/ml/lib/python3.12/site-packages/nevergrad/parametrization/core.py:348: UserWarning: Lambda as constraint is not advised because it may not be picklable.\n",
      "  warnings.warn(\"Lambda as constraint is not advised because it may not be picklable.\")\n",
      "/home/cican/miniconda3/envs/ml/lib/python3.12/site-packages/nevergrad/optimization/recaster.py:272: FinishedUnderlyingOptimizerWarning: Underlying optimizer has already converged, returning random points\n",
      "  warnings.warn(\n"
     ]
    },
    {
     "name": "stdout",
     "output_type": "stream",
     "text": [
      "Could not satisfy constraints.\n"
     ]
    },
    {
     "name": "stderr",
     "output_type": "stream",
     "text": [
      "/home/cican/miniconda3/envs/ml/lib/python3.12/site-packages/nevergrad/parametrization/core.py:348: UserWarning: Lambda as constraint is not advised because it may not be picklable.\n",
      "  warnings.warn(\"Lambda as constraint is not advised because it may not be picklable.\")\n",
      "/home/cican/miniconda3/envs/ml/lib/python3.12/site-packages/nevergrad/optimization/recaster.py:272: FinishedUnderlyingOptimizerWarning: Underlying optimizer has already converged, returning random points\n",
      "  warnings.warn(\n"
     ]
    },
    {
     "name": "stdout",
     "output_type": "stream",
     "text": [
      "Optimizing for n=20 and m=10, trial 7/50\n"
     ]
    },
    {
     "name": "stderr",
     "output_type": "stream",
     "text": [
      "/home/cican/miniconda3/envs/ml/lib/python3.12/site-packages/nevergrad/parametrization/core.py:348: UserWarning: Lambda as constraint is not advised because it may not be picklable.\n",
      "  warnings.warn(\"Lambda as constraint is not advised because it may not be picklable.\")\n",
      "/home/cican/miniconda3/envs/ml/lib/python3.12/site-packages/nevergrad/optimization/recaster.py:272: FinishedUnderlyingOptimizerWarning: Underlying optimizer has already converged, returning random points\n",
      "  warnings.warn(\n"
     ]
    },
    {
     "name": "stdout",
     "output_type": "stream",
     "text": [
      "Could not satisfy constraints.\n"
     ]
    },
    {
     "name": "stderr",
     "output_type": "stream",
     "text": [
      "/home/cican/miniconda3/envs/ml/lib/python3.12/site-packages/nevergrad/parametrization/core.py:348: UserWarning: Lambda as constraint is not advised because it may not be picklable.\n",
      "  warnings.warn(\"Lambda as constraint is not advised because it may not be picklable.\")\n",
      "/home/cican/miniconda3/envs/ml/lib/python3.12/site-packages/nevergrad/optimization/recaster.py:272: FinishedUnderlyingOptimizerWarning: Underlying optimizer has already converged, returning random points\n",
      "  warnings.warn(\n"
     ]
    },
    {
     "name": "stdout",
     "output_type": "stream",
     "text": [
      "Could not satisfy constraints.\n",
      "Optimizing for n=20 and m=10, trial 8/50\n"
     ]
    },
    {
     "name": "stderr",
     "output_type": "stream",
     "text": [
      "/home/cican/miniconda3/envs/ml/lib/python3.12/site-packages/nevergrad/parametrization/core.py:348: UserWarning: Lambda as constraint is not advised because it may not be picklable.\n",
      "  warnings.warn(\"Lambda as constraint is not advised because it may not be picklable.\")\n",
      "/home/cican/miniconda3/envs/ml/lib/python3.12/site-packages/nevergrad/optimization/recaster.py:272: FinishedUnderlyingOptimizerWarning: Underlying optimizer has already converged, returning random points\n",
      "  warnings.warn(\n",
      "/home/cican/miniconda3/envs/ml/lib/python3.12/site-packages/nevergrad/parametrization/core.py:348: UserWarning: Lambda as constraint is not advised because it may not be picklable.\n",
      "  warnings.warn(\"Lambda as constraint is not advised because it may not be picklable.\")\n",
      "/home/cican/miniconda3/envs/ml/lib/python3.12/site-packages/nevergrad/optimization/recaster.py:272: FinishedUnderlyingOptimizerWarning: Underlying optimizer has already converged, returning random points\n",
      "  warnings.warn(\n"
     ]
    },
    {
     "name": "stdout",
     "output_type": "stream",
     "text": [
      "Optimizing for n=20 and m=10, trial 9/50\n"
     ]
    },
    {
     "name": "stderr",
     "output_type": "stream",
     "text": [
      "/home/cican/miniconda3/envs/ml/lib/python3.12/site-packages/nevergrad/parametrization/core.py:348: UserWarning: Lambda as constraint is not advised because it may not be picklable.\n",
      "  warnings.warn(\"Lambda as constraint is not advised because it may not be picklable.\")\n",
      "/home/cican/miniconda3/envs/ml/lib/python3.12/site-packages/nevergrad/optimization/recaster.py:272: FinishedUnderlyingOptimizerWarning: Underlying optimizer has already converged, returning random points\n",
      "  warnings.warn(\n"
     ]
    },
    {
     "name": "stdout",
     "output_type": "stream",
     "text": [
      "Could not satisfy constraints.\n"
     ]
    },
    {
     "name": "stderr",
     "output_type": "stream",
     "text": [
      "/home/cican/miniconda3/envs/ml/lib/python3.12/site-packages/nevergrad/parametrization/core.py:348: UserWarning: Lambda as constraint is not advised because it may not be picklable.\n",
      "  warnings.warn(\"Lambda as constraint is not advised because it may not be picklable.\")\n",
      "/home/cican/miniconda3/envs/ml/lib/python3.12/site-packages/nevergrad/optimization/recaster.py:272: FinishedUnderlyingOptimizerWarning: Underlying optimizer has already converged, returning random points\n",
      "  warnings.warn(\n"
     ]
    },
    {
     "name": "stdout",
     "output_type": "stream",
     "text": [
      "Optimizing for n=20 and m=10, trial 10/50\n"
     ]
    },
    {
     "name": "stderr",
     "output_type": "stream",
     "text": [
      "/home/cican/miniconda3/envs/ml/lib/python3.12/site-packages/nevergrad/parametrization/core.py:348: UserWarning: Lambda as constraint is not advised because it may not be picklable.\n",
      "  warnings.warn(\"Lambda as constraint is not advised because it may not be picklable.\")\n",
      "/home/cican/miniconda3/envs/ml/lib/python3.12/site-packages/nevergrad/optimization/recaster.py:272: FinishedUnderlyingOptimizerWarning: Underlying optimizer has already converged, returning random points\n",
      "  warnings.warn(\n"
     ]
    },
    {
     "name": "stdout",
     "output_type": "stream",
     "text": [
      "Could not satisfy constraints.\n"
     ]
    },
    {
     "name": "stderr",
     "output_type": "stream",
     "text": [
      "/home/cican/miniconda3/envs/ml/lib/python3.12/site-packages/nevergrad/parametrization/core.py:348: UserWarning: Lambda as constraint is not advised because it may not be picklable.\n",
      "  warnings.warn(\"Lambda as constraint is not advised because it may not be picklable.\")\n",
      "/home/cican/miniconda3/envs/ml/lib/python3.12/site-packages/nevergrad/optimization/recaster.py:272: FinishedUnderlyingOptimizerWarning: Underlying optimizer has already converged, returning random points\n",
      "  warnings.warn(\n"
     ]
    },
    {
     "name": "stdout",
     "output_type": "stream",
     "text": [
      "Optimizing for n=20 and m=10, trial 11/50\n"
     ]
    },
    {
     "name": "stderr",
     "output_type": "stream",
     "text": [
      "/home/cican/miniconda3/envs/ml/lib/python3.12/site-packages/nevergrad/parametrization/core.py:348: UserWarning: Lambda as constraint is not advised because it may not be picklable.\n",
      "  warnings.warn(\"Lambda as constraint is not advised because it may not be picklable.\")\n",
      "/home/cican/miniconda3/envs/ml/lib/python3.12/site-packages/nevergrad/optimization/recaster.py:272: FinishedUnderlyingOptimizerWarning: Underlying optimizer has already converged, returning random points\n",
      "  warnings.warn(\n"
     ]
    },
    {
     "name": "stdout",
     "output_type": "stream",
     "text": [
      "Could not satisfy constraints.\n"
     ]
    },
    {
     "name": "stderr",
     "output_type": "stream",
     "text": [
      "/home/cican/miniconda3/envs/ml/lib/python3.12/site-packages/nevergrad/parametrization/core.py:348: UserWarning: Lambda as constraint is not advised because it may not be picklable.\n",
      "  warnings.warn(\"Lambda as constraint is not advised because it may not be picklable.\")\n",
      "/home/cican/miniconda3/envs/ml/lib/python3.12/site-packages/nevergrad/optimization/recaster.py:272: FinishedUnderlyingOptimizerWarning: Underlying optimizer has already converged, returning random points\n",
      "  warnings.warn(\n"
     ]
    },
    {
     "name": "stdout",
     "output_type": "stream",
     "text": [
      "Could not satisfy constraints.\n",
      "Optimizing for n=20 and m=10, trial 12/50\n"
     ]
    },
    {
     "name": "stderr",
     "output_type": "stream",
     "text": [
      "/home/cican/miniconda3/envs/ml/lib/python3.12/site-packages/nevergrad/parametrization/core.py:348: UserWarning: Lambda as constraint is not advised because it may not be picklable.\n",
      "  warnings.warn(\"Lambda as constraint is not advised because it may not be picklable.\")\n",
      "/home/cican/miniconda3/envs/ml/lib/python3.12/site-packages/nevergrad/optimization/recaster.py:272: FinishedUnderlyingOptimizerWarning: Underlying optimizer has already converged, returning random points\n",
      "  warnings.warn(\n"
     ]
    },
    {
     "name": "stdout",
     "output_type": "stream",
     "text": [
      "Could not satisfy constraints.\n"
     ]
    },
    {
     "name": "stderr",
     "output_type": "stream",
     "text": [
      "/home/cican/miniconda3/envs/ml/lib/python3.12/site-packages/nevergrad/parametrization/core.py:348: UserWarning: Lambda as constraint is not advised because it may not be picklable.\n",
      "  warnings.warn(\"Lambda as constraint is not advised because it may not be picklable.\")\n",
      "/home/cican/miniconda3/envs/ml/lib/python3.12/site-packages/nevergrad/optimization/recaster.py:272: FinishedUnderlyingOptimizerWarning: Underlying optimizer has already converged, returning random points\n",
      "  warnings.warn(\n"
     ]
    },
    {
     "name": "stdout",
     "output_type": "stream",
     "text": [
      "Optimizing for n=20 and m=10, trial 13/50\n"
     ]
    },
    {
     "name": "stderr",
     "output_type": "stream",
     "text": [
      "/home/cican/miniconda3/envs/ml/lib/python3.12/site-packages/nevergrad/parametrization/core.py:348: UserWarning: Lambda as constraint is not advised because it may not be picklable.\n",
      "  warnings.warn(\"Lambda as constraint is not advised because it may not be picklable.\")\n",
      "/home/cican/miniconda3/envs/ml/lib/python3.12/site-packages/nevergrad/optimization/recaster.py:272: FinishedUnderlyingOptimizerWarning: Underlying optimizer has already converged, returning random points\n",
      "  warnings.warn(\n",
      "/home/cican/miniconda3/envs/ml/lib/python3.12/site-packages/nevergrad/parametrization/core.py:348: UserWarning: Lambda as constraint is not advised because it may not be picklable.\n",
      "  warnings.warn(\"Lambda as constraint is not advised because it may not be picklable.\")\n",
      "/home/cican/miniconda3/envs/ml/lib/python3.12/site-packages/nevergrad/optimization/recaster.py:272: FinishedUnderlyingOptimizerWarning: Underlying optimizer has already converged, returning random points\n",
      "  warnings.warn(\n"
     ]
    },
    {
     "name": "stdout",
     "output_type": "stream",
     "text": [
      "Optimizing for n=20 and m=10, trial 14/50\n"
     ]
    },
    {
     "name": "stderr",
     "output_type": "stream",
     "text": [
      "/home/cican/miniconda3/envs/ml/lib/python3.12/site-packages/nevergrad/parametrization/core.py:348: UserWarning: Lambda as constraint is not advised because it may not be picklable.\n",
      "  warnings.warn(\"Lambda as constraint is not advised because it may not be picklable.\")\n",
      "/home/cican/miniconda3/envs/ml/lib/python3.12/site-packages/nevergrad/optimization/recaster.py:272: FinishedUnderlyingOptimizerWarning: Underlying optimizer has already converged, returning random points\n",
      "  warnings.warn(\n",
      "/home/cican/miniconda3/envs/ml/lib/python3.12/site-packages/nevergrad/parametrization/core.py:348: UserWarning: Lambda as constraint is not advised because it may not be picklable.\n",
      "  warnings.warn(\"Lambda as constraint is not advised because it may not be picklable.\")\n",
      "/home/cican/miniconda3/envs/ml/lib/python3.12/site-packages/nevergrad/optimization/recaster.py:272: FinishedUnderlyingOptimizerWarning: Underlying optimizer has already converged, returning random points\n",
      "  warnings.warn(\n"
     ]
    },
    {
     "name": "stdout",
     "output_type": "stream",
     "text": [
      "Optimizing for n=20 and m=10, trial 15/50\n"
     ]
    },
    {
     "name": "stderr",
     "output_type": "stream",
     "text": [
      "/home/cican/miniconda3/envs/ml/lib/python3.12/site-packages/nevergrad/parametrization/core.py:348: UserWarning: Lambda as constraint is not advised because it may not be picklable.\n",
      "  warnings.warn(\"Lambda as constraint is not advised because it may not be picklable.\")\n",
      "/home/cican/miniconda3/envs/ml/lib/python3.12/site-packages/nevergrad/optimization/recaster.py:272: FinishedUnderlyingOptimizerWarning: Underlying optimizer has already converged, returning random points\n",
      "  warnings.warn(\n",
      "/home/cican/miniconda3/envs/ml/lib/python3.12/site-packages/nevergrad/parametrization/core.py:348: UserWarning: Lambda as constraint is not advised because it may not be picklable.\n",
      "  warnings.warn(\"Lambda as constraint is not advised because it may not be picklable.\")\n",
      "/home/cican/miniconda3/envs/ml/lib/python3.12/site-packages/nevergrad/optimization/recaster.py:272: FinishedUnderlyingOptimizerWarning: Underlying optimizer has already converged, returning random points\n",
      "  warnings.warn(\n"
     ]
    },
    {
     "name": "stdout",
     "output_type": "stream",
     "text": [
      "Optimizing for n=20 and m=10, trial 16/50\n"
     ]
    },
    {
     "name": "stderr",
     "output_type": "stream",
     "text": [
      "/home/cican/miniconda3/envs/ml/lib/python3.12/site-packages/nevergrad/parametrization/core.py:348: UserWarning: Lambda as constraint is not advised because it may not be picklable.\n",
      "  warnings.warn(\"Lambda as constraint is not advised because it may not be picklable.\")\n",
      "/home/cican/miniconda3/envs/ml/lib/python3.12/site-packages/nevergrad/optimization/recaster.py:272: FinishedUnderlyingOptimizerWarning: Underlying optimizer has already converged, returning random points\n",
      "  warnings.warn(\n",
      "/home/cican/miniconda3/envs/ml/lib/python3.12/site-packages/nevergrad/parametrization/core.py:348: UserWarning: Lambda as constraint is not advised because it may not be picklable.\n",
      "  warnings.warn(\"Lambda as constraint is not advised because it may not be picklable.\")\n",
      "/home/cican/miniconda3/envs/ml/lib/python3.12/site-packages/nevergrad/optimization/recaster.py:272: FinishedUnderlyingOptimizerWarning: Underlying optimizer has already converged, returning random points\n",
      "  warnings.warn(\n"
     ]
    },
    {
     "name": "stdout",
     "output_type": "stream",
     "text": [
      "Could not satisfy constraints.\n",
      "Optimizing for n=20 and m=10, trial 17/50\n"
     ]
    },
    {
     "name": "stderr",
     "output_type": "stream",
     "text": [
      "/home/cican/miniconda3/envs/ml/lib/python3.12/site-packages/nevergrad/parametrization/core.py:348: UserWarning: Lambda as constraint is not advised because it may not be picklable.\n",
      "  warnings.warn(\"Lambda as constraint is not advised because it may not be picklable.\")\n",
      "/home/cican/miniconda3/envs/ml/lib/python3.12/site-packages/nevergrad/optimization/recaster.py:272: FinishedUnderlyingOptimizerWarning: Underlying optimizer has already converged, returning random points\n",
      "  warnings.warn(\n"
     ]
    },
    {
     "name": "stdout",
     "output_type": "stream",
     "text": [
      "Could not satisfy constraints.\n"
     ]
    },
    {
     "name": "stderr",
     "output_type": "stream",
     "text": [
      "/home/cican/miniconda3/envs/ml/lib/python3.12/site-packages/nevergrad/parametrization/core.py:348: UserWarning: Lambda as constraint is not advised because it may not be picklable.\n",
      "  warnings.warn(\"Lambda as constraint is not advised because it may not be picklable.\")\n",
      "/home/cican/miniconda3/envs/ml/lib/python3.12/site-packages/nevergrad/optimization/recaster.py:272: FinishedUnderlyingOptimizerWarning: Underlying optimizer has already converged, returning random points\n",
      "  warnings.warn(\n"
     ]
    },
    {
     "name": "stdout",
     "output_type": "stream",
     "text": [
      "Optimizing for n=20 and m=10, trial 18/50\n"
     ]
    },
    {
     "name": "stderr",
     "output_type": "stream",
     "text": [
      "/home/cican/miniconda3/envs/ml/lib/python3.12/site-packages/nevergrad/parametrization/core.py:348: UserWarning: Lambda as constraint is not advised because it may not be picklable.\n",
      "  warnings.warn(\"Lambda as constraint is not advised because it may not be picklable.\")\n",
      "/home/cican/miniconda3/envs/ml/lib/python3.12/site-packages/nevergrad/optimization/recaster.py:272: FinishedUnderlyingOptimizerWarning: Underlying optimizer has already converged, returning random points\n",
      "  warnings.warn(\n"
     ]
    },
    {
     "name": "stdout",
     "output_type": "stream",
     "text": [
      "Could not satisfy constraints.\n"
     ]
    },
    {
     "name": "stderr",
     "output_type": "stream",
     "text": [
      "/home/cican/miniconda3/envs/ml/lib/python3.12/site-packages/nevergrad/parametrization/core.py:348: UserWarning: Lambda as constraint is not advised because it may not be picklable.\n",
      "  warnings.warn(\"Lambda as constraint is not advised because it may not be picklable.\")\n",
      "/home/cican/miniconda3/envs/ml/lib/python3.12/site-packages/nevergrad/optimization/recaster.py:272: FinishedUnderlyingOptimizerWarning: Underlying optimizer has already converged, returning random points\n",
      "  warnings.warn(\n"
     ]
    },
    {
     "name": "stdout",
     "output_type": "stream",
     "text": [
      "Could not satisfy constraints.\n",
      "Optimizing for n=20 and m=10, trial 19/50\n"
     ]
    },
    {
     "name": "stderr",
     "output_type": "stream",
     "text": [
      "/home/cican/miniconda3/envs/ml/lib/python3.12/site-packages/nevergrad/parametrization/core.py:348: UserWarning: Lambda as constraint is not advised because it may not be picklable.\n",
      "  warnings.warn(\"Lambda as constraint is not advised because it may not be picklable.\")\n",
      "/home/cican/miniconda3/envs/ml/lib/python3.12/site-packages/nevergrad/optimization/recaster.py:272: FinishedUnderlyingOptimizerWarning: Underlying optimizer has already converged, returning random points\n",
      "  warnings.warn(\n"
     ]
    },
    {
     "name": "stdout",
     "output_type": "stream",
     "text": [
      "Could not satisfy constraints.\n"
     ]
    },
    {
     "name": "stderr",
     "output_type": "stream",
     "text": [
      "/home/cican/miniconda3/envs/ml/lib/python3.12/site-packages/nevergrad/parametrization/core.py:348: UserWarning: Lambda as constraint is not advised because it may not be picklable.\n",
      "  warnings.warn(\"Lambda as constraint is not advised because it may not be picklable.\")\n",
      "/home/cican/miniconda3/envs/ml/lib/python3.12/site-packages/nevergrad/optimization/recaster.py:272: FinishedUnderlyingOptimizerWarning: Underlying optimizer has already converged, returning random points\n",
      "  warnings.warn(\n"
     ]
    },
    {
     "name": "stdout",
     "output_type": "stream",
     "text": [
      "Could not satisfy constraints.\n",
      "Optimizing for n=20 and m=10, trial 20/50\n"
     ]
    },
    {
     "name": "stderr",
     "output_type": "stream",
     "text": [
      "/home/cican/miniconda3/envs/ml/lib/python3.12/site-packages/nevergrad/parametrization/core.py:348: UserWarning: Lambda as constraint is not advised because it may not be picklable.\n",
      "  warnings.warn(\"Lambda as constraint is not advised because it may not be picklable.\")\n",
      "/home/cican/miniconda3/envs/ml/lib/python3.12/site-packages/nevergrad/optimization/recaster.py:272: FinishedUnderlyingOptimizerWarning: Underlying optimizer has already converged, returning random points\n",
      "  warnings.warn(\n",
      "/home/cican/miniconda3/envs/ml/lib/python3.12/site-packages/nevergrad/parametrization/core.py:348: UserWarning: Lambda as constraint is not advised because it may not be picklable.\n",
      "  warnings.warn(\"Lambda as constraint is not advised because it may not be picklable.\")\n",
      "/home/cican/miniconda3/envs/ml/lib/python3.12/site-packages/nevergrad/optimization/recaster.py:272: FinishedUnderlyingOptimizerWarning: Underlying optimizer has already converged, returning random points\n",
      "  warnings.warn(\n"
     ]
    },
    {
     "name": "stdout",
     "output_type": "stream",
     "text": [
      "Optimizing for n=20 and m=10, trial 21/50\n"
     ]
    },
    {
     "name": "stderr",
     "output_type": "stream",
     "text": [
      "/home/cican/miniconda3/envs/ml/lib/python3.12/site-packages/nevergrad/parametrization/core.py:348: UserWarning: Lambda as constraint is not advised because it may not be picklable.\n",
      "  warnings.warn(\"Lambda as constraint is not advised because it may not be picklable.\")\n",
      "/home/cican/miniconda3/envs/ml/lib/python3.12/site-packages/nevergrad/optimization/recaster.py:272: FinishedUnderlyingOptimizerWarning: Underlying optimizer has already converged, returning random points\n",
      "  warnings.warn(\n"
     ]
    },
    {
     "name": "stdout",
     "output_type": "stream",
     "text": [
      "Could not satisfy constraints.\n"
     ]
    },
    {
     "name": "stderr",
     "output_type": "stream",
     "text": [
      "/home/cican/miniconda3/envs/ml/lib/python3.12/site-packages/nevergrad/parametrization/core.py:348: UserWarning: Lambda as constraint is not advised because it may not be picklable.\n",
      "  warnings.warn(\"Lambda as constraint is not advised because it may not be picklable.\")\n",
      "/home/cican/miniconda3/envs/ml/lib/python3.12/site-packages/nevergrad/optimization/recaster.py:272: FinishedUnderlyingOptimizerWarning: Underlying optimizer has already converged, returning random points\n",
      "  warnings.warn(\n"
     ]
    },
    {
     "name": "stdout",
     "output_type": "stream",
     "text": [
      "Optimizing for n=20 and m=10, trial 22/50\n"
     ]
    },
    {
     "name": "stderr",
     "output_type": "stream",
     "text": [
      "/home/cican/miniconda3/envs/ml/lib/python3.12/site-packages/nevergrad/parametrization/core.py:348: UserWarning: Lambda as constraint is not advised because it may not be picklable.\n",
      "  warnings.warn(\"Lambda as constraint is not advised because it may not be picklable.\")\n",
      "/home/cican/miniconda3/envs/ml/lib/python3.12/site-packages/nevergrad/optimization/recaster.py:272: FinishedUnderlyingOptimizerWarning: Underlying optimizer has already converged, returning random points\n",
      "  warnings.warn(\n"
     ]
    },
    {
     "name": "stdout",
     "output_type": "stream",
     "text": [
      "Could not satisfy constraints.\n"
     ]
    },
    {
     "name": "stderr",
     "output_type": "stream",
     "text": [
      "/home/cican/miniconda3/envs/ml/lib/python3.12/site-packages/nevergrad/parametrization/core.py:348: UserWarning: Lambda as constraint is not advised because it may not be picklable.\n",
      "  warnings.warn(\"Lambda as constraint is not advised because it may not be picklable.\")\n",
      "/home/cican/miniconda3/envs/ml/lib/python3.12/site-packages/nevergrad/optimization/recaster.py:272: FinishedUnderlyingOptimizerWarning: Underlying optimizer has already converged, returning random points\n",
      "  warnings.warn(\n"
     ]
    },
    {
     "name": "stdout",
     "output_type": "stream",
     "text": [
      "Optimizing for n=20 and m=10, trial 23/50\n"
     ]
    },
    {
     "name": "stderr",
     "output_type": "stream",
     "text": [
      "/home/cican/miniconda3/envs/ml/lib/python3.12/site-packages/nevergrad/parametrization/core.py:348: UserWarning: Lambda as constraint is not advised because it may not be picklable.\n",
      "  warnings.warn(\"Lambda as constraint is not advised because it may not be picklable.\")\n",
      "/home/cican/miniconda3/envs/ml/lib/python3.12/site-packages/nevergrad/optimization/recaster.py:272: FinishedUnderlyingOptimizerWarning: Underlying optimizer has already converged, returning random points\n",
      "  warnings.warn(\n"
     ]
    },
    {
     "name": "stdout",
     "output_type": "stream",
     "text": [
      "Could not satisfy constraints.\n"
     ]
    },
    {
     "name": "stderr",
     "output_type": "stream",
     "text": [
      "/home/cican/miniconda3/envs/ml/lib/python3.12/site-packages/nevergrad/parametrization/core.py:348: UserWarning: Lambda as constraint is not advised because it may not be picklable.\n",
      "  warnings.warn(\"Lambda as constraint is not advised because it may not be picklable.\")\n",
      "/home/cican/miniconda3/envs/ml/lib/python3.12/site-packages/nevergrad/optimization/recaster.py:272: FinishedUnderlyingOptimizerWarning: Underlying optimizer has already converged, returning random points\n",
      "  warnings.warn(\n"
     ]
    },
    {
     "name": "stdout",
     "output_type": "stream",
     "text": [
      "Optimizing for n=20 and m=10, trial 24/50\n"
     ]
    },
    {
     "name": "stderr",
     "output_type": "stream",
     "text": [
      "/home/cican/miniconda3/envs/ml/lib/python3.12/site-packages/nevergrad/parametrization/core.py:348: UserWarning: Lambda as constraint is not advised because it may not be picklable.\n",
      "  warnings.warn(\"Lambda as constraint is not advised because it may not be picklable.\")\n",
      "/home/cican/miniconda3/envs/ml/lib/python3.12/site-packages/nevergrad/optimization/recaster.py:272: FinishedUnderlyingOptimizerWarning: Underlying optimizer has already converged, returning random points\n",
      "  warnings.warn(\n"
     ]
    },
    {
     "name": "stdout",
     "output_type": "stream",
     "text": [
      "Could not satisfy constraints.\n"
     ]
    },
    {
     "name": "stderr",
     "output_type": "stream",
     "text": [
      "/home/cican/miniconda3/envs/ml/lib/python3.12/site-packages/nevergrad/parametrization/core.py:348: UserWarning: Lambda as constraint is not advised because it may not be picklable.\n",
      "  warnings.warn(\"Lambda as constraint is not advised because it may not be picklable.\")\n",
      "/home/cican/miniconda3/envs/ml/lib/python3.12/site-packages/nevergrad/optimization/recaster.py:272: FinishedUnderlyingOptimizerWarning: Underlying optimizer has already converged, returning random points\n",
      "  warnings.warn(\n"
     ]
    },
    {
     "name": "stdout",
     "output_type": "stream",
     "text": [
      "Optimizing for n=20 and m=10, trial 25/50\n"
     ]
    },
    {
     "name": "stderr",
     "output_type": "stream",
     "text": [
      "/home/cican/miniconda3/envs/ml/lib/python3.12/site-packages/nevergrad/parametrization/core.py:348: UserWarning: Lambda as constraint is not advised because it may not be picklable.\n",
      "  warnings.warn(\"Lambda as constraint is not advised because it may not be picklable.\")\n",
      "/home/cican/miniconda3/envs/ml/lib/python3.12/site-packages/nevergrad/optimization/recaster.py:272: FinishedUnderlyingOptimizerWarning: Underlying optimizer has already converged, returning random points\n",
      "  warnings.warn(\n",
      "/home/cican/miniconda3/envs/ml/lib/python3.12/site-packages/nevergrad/parametrization/core.py:348: UserWarning: Lambda as constraint is not advised because it may not be picklable.\n",
      "  warnings.warn(\"Lambda as constraint is not advised because it may not be picklable.\")\n",
      "/home/cican/miniconda3/envs/ml/lib/python3.12/site-packages/nevergrad/optimization/recaster.py:272: FinishedUnderlyingOptimizerWarning: Underlying optimizer has already converged, returning random points\n",
      "  warnings.warn(\n"
     ]
    },
    {
     "name": "stdout",
     "output_type": "stream",
     "text": [
      "Optimizing for n=20 and m=10, trial 26/50\n"
     ]
    },
    {
     "name": "stderr",
     "output_type": "stream",
     "text": [
      "/home/cican/miniconda3/envs/ml/lib/python3.12/site-packages/nevergrad/parametrization/core.py:348: UserWarning: Lambda as constraint is not advised because it may not be picklable.\n",
      "  warnings.warn(\"Lambda as constraint is not advised because it may not be picklable.\")\n",
      "/home/cican/miniconda3/envs/ml/lib/python3.12/site-packages/nevergrad/optimization/recaster.py:272: FinishedUnderlyingOptimizerWarning: Underlying optimizer has already converged, returning random points\n",
      "  warnings.warn(\n",
      "/home/cican/miniconda3/envs/ml/lib/python3.12/site-packages/nevergrad/parametrization/core.py:348: UserWarning: Lambda as constraint is not advised because it may not be picklable.\n",
      "  warnings.warn(\"Lambda as constraint is not advised because it may not be picklable.\")\n",
      "/home/cican/miniconda3/envs/ml/lib/python3.12/site-packages/nevergrad/optimization/recaster.py:272: FinishedUnderlyingOptimizerWarning: Underlying optimizer has already converged, returning random points\n",
      "  warnings.warn(\n"
     ]
    },
    {
     "name": "stdout",
     "output_type": "stream",
     "text": [
      "Optimizing for n=20 and m=10, trial 27/50\n"
     ]
    },
    {
     "name": "stderr",
     "output_type": "stream",
     "text": [
      "/home/cican/miniconda3/envs/ml/lib/python3.12/site-packages/nevergrad/parametrization/core.py:348: UserWarning: Lambda as constraint is not advised because it may not be picklable.\n",
      "  warnings.warn(\"Lambda as constraint is not advised because it may not be picklable.\")\n",
      "/home/cican/miniconda3/envs/ml/lib/python3.12/site-packages/nevergrad/optimization/recaster.py:272: FinishedUnderlyingOptimizerWarning: Underlying optimizer has already converged, returning random points\n",
      "  warnings.warn(\n",
      "/home/cican/miniconda3/envs/ml/lib/python3.12/site-packages/nevergrad/parametrization/core.py:348: UserWarning: Lambda as constraint is not advised because it may not be picklable.\n",
      "  warnings.warn(\"Lambda as constraint is not advised because it may not be picklable.\")\n",
      "/home/cican/miniconda3/envs/ml/lib/python3.12/site-packages/nevergrad/optimization/recaster.py:272: FinishedUnderlyingOptimizerWarning: Underlying optimizer has already converged, returning random points\n",
      "  warnings.warn(\n"
     ]
    },
    {
     "name": "stdout",
     "output_type": "stream",
     "text": [
      "Optimizing for n=20 and m=10, trial 28/50\n"
     ]
    },
    {
     "name": "stderr",
     "output_type": "stream",
     "text": [
      "/home/cican/miniconda3/envs/ml/lib/python3.12/site-packages/nevergrad/parametrization/core.py:348: UserWarning: Lambda as constraint is not advised because it may not be picklable.\n",
      "  warnings.warn(\"Lambda as constraint is not advised because it may not be picklable.\")\n",
      "/home/cican/miniconda3/envs/ml/lib/python3.12/site-packages/nevergrad/optimization/recaster.py:272: FinishedUnderlyingOptimizerWarning: Underlying optimizer has already converged, returning random points\n",
      "  warnings.warn(\n"
     ]
    },
    {
     "name": "stdout",
     "output_type": "stream",
     "text": [
      "Could not satisfy constraints.\n"
     ]
    },
    {
     "name": "stderr",
     "output_type": "stream",
     "text": [
      "/home/cican/miniconda3/envs/ml/lib/python3.12/site-packages/nevergrad/parametrization/core.py:348: UserWarning: Lambda as constraint is not advised because it may not be picklable.\n",
      "  warnings.warn(\"Lambda as constraint is not advised because it may not be picklable.\")\n",
      "/home/cican/miniconda3/envs/ml/lib/python3.12/site-packages/nevergrad/optimization/recaster.py:272: FinishedUnderlyingOptimizerWarning: Underlying optimizer has already converged, returning random points\n",
      "  warnings.warn(\n"
     ]
    },
    {
     "name": "stdout",
     "output_type": "stream",
     "text": [
      "Optimizing for n=20 and m=10, trial 29/50\n"
     ]
    },
    {
     "name": "stderr",
     "output_type": "stream",
     "text": [
      "/home/cican/miniconda3/envs/ml/lib/python3.12/site-packages/nevergrad/parametrization/core.py:348: UserWarning: Lambda as constraint is not advised because it may not be picklable.\n",
      "  warnings.warn(\"Lambda as constraint is not advised because it may not be picklable.\")\n",
      "/home/cican/miniconda3/envs/ml/lib/python3.12/site-packages/nevergrad/optimization/recaster.py:272: FinishedUnderlyingOptimizerWarning: Underlying optimizer has already converged, returning random points\n",
      "  warnings.warn(\n"
     ]
    },
    {
     "name": "stdout",
     "output_type": "stream",
     "text": [
      "Could not satisfy constraints.\n"
     ]
    },
    {
     "name": "stderr",
     "output_type": "stream",
     "text": [
      "/home/cican/miniconda3/envs/ml/lib/python3.12/site-packages/nevergrad/parametrization/core.py:348: UserWarning: Lambda as constraint is not advised because it may not be picklable.\n",
      "  warnings.warn(\"Lambda as constraint is not advised because it may not be picklable.\")\n",
      "/home/cican/miniconda3/envs/ml/lib/python3.12/site-packages/nevergrad/optimization/recaster.py:272: FinishedUnderlyingOptimizerWarning: Underlying optimizer has already converged, returning random points\n",
      "  warnings.warn(\n"
     ]
    },
    {
     "name": "stdout",
     "output_type": "stream",
     "text": [
      "Could not satisfy constraints.\n",
      "Optimizing for n=20 and m=10, trial 30/50\n"
     ]
    },
    {
     "name": "stderr",
     "output_type": "stream",
     "text": [
      "/home/cican/miniconda3/envs/ml/lib/python3.12/site-packages/nevergrad/parametrization/core.py:348: UserWarning: Lambda as constraint is not advised because it may not be picklable.\n",
      "  warnings.warn(\"Lambda as constraint is not advised because it may not be picklable.\")\n",
      "/home/cican/miniconda3/envs/ml/lib/python3.12/site-packages/nevergrad/optimization/recaster.py:272: FinishedUnderlyingOptimizerWarning: Underlying optimizer has already converged, returning random points\n",
      "  warnings.warn(\n"
     ]
    },
    {
     "name": "stdout",
     "output_type": "stream",
     "text": [
      "Could not satisfy constraints.\n"
     ]
    },
    {
     "name": "stderr",
     "output_type": "stream",
     "text": [
      "/home/cican/miniconda3/envs/ml/lib/python3.12/site-packages/nevergrad/parametrization/core.py:348: UserWarning: Lambda as constraint is not advised because it may not be picklable.\n",
      "  warnings.warn(\"Lambda as constraint is not advised because it may not be picklable.\")\n",
      "/home/cican/miniconda3/envs/ml/lib/python3.12/site-packages/nevergrad/optimization/recaster.py:272: FinishedUnderlyingOptimizerWarning: Underlying optimizer has already converged, returning random points\n",
      "  warnings.warn(\n"
     ]
    },
    {
     "name": "stdout",
     "output_type": "stream",
     "text": [
      "Could not satisfy constraints.\n",
      "Optimizing for n=20 and m=10, trial 31/50\n"
     ]
    },
    {
     "name": "stderr",
     "output_type": "stream",
     "text": [
      "/home/cican/miniconda3/envs/ml/lib/python3.12/site-packages/nevergrad/parametrization/core.py:348: UserWarning: Lambda as constraint is not advised because it may not be picklable.\n",
      "  warnings.warn(\"Lambda as constraint is not advised because it may not be picklable.\")\n",
      "/home/cican/miniconda3/envs/ml/lib/python3.12/site-packages/nevergrad/optimization/recaster.py:272: FinishedUnderlyingOptimizerWarning: Underlying optimizer has already converged, returning random points\n",
      "  warnings.warn(\n",
      "/home/cican/miniconda3/envs/ml/lib/python3.12/site-packages/nevergrad/parametrization/core.py:348: UserWarning: Lambda as constraint is not advised because it may not be picklable.\n",
      "  warnings.warn(\"Lambda as constraint is not advised because it may not be picklable.\")\n",
      "/home/cican/miniconda3/envs/ml/lib/python3.12/site-packages/nevergrad/optimization/recaster.py:272: FinishedUnderlyingOptimizerWarning: Underlying optimizer has already converged, returning random points\n",
      "  warnings.warn(\n"
     ]
    },
    {
     "name": "stdout",
     "output_type": "stream",
     "text": [
      "Optimizing for n=20 and m=10, trial 32/50\n"
     ]
    },
    {
     "name": "stderr",
     "output_type": "stream",
     "text": [
      "/home/cican/miniconda3/envs/ml/lib/python3.12/site-packages/nevergrad/parametrization/core.py:348: UserWarning: Lambda as constraint is not advised because it may not be picklable.\n",
      "  warnings.warn(\"Lambda as constraint is not advised because it may not be picklable.\")\n",
      "/home/cican/miniconda3/envs/ml/lib/python3.12/site-packages/nevergrad/optimization/recaster.py:272: FinishedUnderlyingOptimizerWarning: Underlying optimizer has already converged, returning random points\n",
      "  warnings.warn(\n"
     ]
    },
    {
     "name": "stdout",
     "output_type": "stream",
     "text": [
      "Could not satisfy constraints.\n"
     ]
    },
    {
     "name": "stderr",
     "output_type": "stream",
     "text": [
      "/home/cican/miniconda3/envs/ml/lib/python3.12/site-packages/nevergrad/parametrization/core.py:348: UserWarning: Lambda as constraint is not advised because it may not be picklable.\n",
      "  warnings.warn(\"Lambda as constraint is not advised because it may not be picklable.\")\n",
      "/home/cican/miniconda3/envs/ml/lib/python3.12/site-packages/nevergrad/optimization/recaster.py:272: FinishedUnderlyingOptimizerWarning: Underlying optimizer has already converged, returning random points\n",
      "  warnings.warn(\n"
     ]
    },
    {
     "name": "stdout",
     "output_type": "stream",
     "text": [
      "Could not satisfy constraints.\n",
      "Optimizing for n=20 and m=10, trial 33/50\n"
     ]
    },
    {
     "name": "stderr",
     "output_type": "stream",
     "text": [
      "/home/cican/miniconda3/envs/ml/lib/python3.12/site-packages/nevergrad/parametrization/core.py:348: UserWarning: Lambda as constraint is not advised because it may not be picklable.\n",
      "  warnings.warn(\"Lambda as constraint is not advised because it may not be picklable.\")\n",
      "/home/cican/miniconda3/envs/ml/lib/python3.12/site-packages/nevergrad/optimization/recaster.py:272: FinishedUnderlyingOptimizerWarning: Underlying optimizer has already converged, returning random points\n",
      "  warnings.warn(\n",
      "/home/cican/miniconda3/envs/ml/lib/python3.12/site-packages/nevergrad/parametrization/core.py:348: UserWarning: Lambda as constraint is not advised because it may not be picklable.\n",
      "  warnings.warn(\"Lambda as constraint is not advised because it may not be picklable.\")\n",
      "/home/cican/miniconda3/envs/ml/lib/python3.12/site-packages/nevergrad/optimization/recaster.py:272: FinishedUnderlyingOptimizerWarning: Underlying optimizer has already converged, returning random points\n",
      "  warnings.warn(\n"
     ]
    },
    {
     "name": "stdout",
     "output_type": "stream",
     "text": [
      "Optimizing for n=20 and m=10, trial 34/50\n"
     ]
    },
    {
     "name": "stderr",
     "output_type": "stream",
     "text": [
      "/home/cican/miniconda3/envs/ml/lib/python3.12/site-packages/nevergrad/parametrization/core.py:348: UserWarning: Lambda as constraint is not advised because it may not be picklable.\n",
      "  warnings.warn(\"Lambda as constraint is not advised because it may not be picklable.\")\n",
      "/home/cican/miniconda3/envs/ml/lib/python3.12/site-packages/nevergrad/optimization/recaster.py:272: FinishedUnderlyingOptimizerWarning: Underlying optimizer has already converged, returning random points\n",
      "  warnings.warn(\n"
     ]
    },
    {
     "name": "stdout",
     "output_type": "stream",
     "text": [
      "Could not satisfy constraints.\n"
     ]
    },
    {
     "name": "stderr",
     "output_type": "stream",
     "text": [
      "/home/cican/miniconda3/envs/ml/lib/python3.12/site-packages/nevergrad/parametrization/core.py:348: UserWarning: Lambda as constraint is not advised because it may not be picklable.\n",
      "  warnings.warn(\"Lambda as constraint is not advised because it may not be picklable.\")\n",
      "/home/cican/miniconda3/envs/ml/lib/python3.12/site-packages/nevergrad/optimization/recaster.py:272: FinishedUnderlyingOptimizerWarning: Underlying optimizer has already converged, returning random points\n",
      "  warnings.warn(\n"
     ]
    },
    {
     "name": "stdout",
     "output_type": "stream",
     "text": [
      "Optimizing for n=20 and m=10, trial 35/50\n"
     ]
    },
    {
     "name": "stderr",
     "output_type": "stream",
     "text": [
      "/home/cican/miniconda3/envs/ml/lib/python3.12/site-packages/nevergrad/parametrization/core.py:348: UserWarning: Lambda as constraint is not advised because it may not be picklable.\n",
      "  warnings.warn(\"Lambda as constraint is not advised because it may not be picklable.\")\n",
      "/home/cican/miniconda3/envs/ml/lib/python3.12/site-packages/nevergrad/optimization/recaster.py:272: FinishedUnderlyingOptimizerWarning: Underlying optimizer has already converged, returning random points\n",
      "  warnings.warn(\n",
      "/home/cican/miniconda3/envs/ml/lib/python3.12/site-packages/nevergrad/parametrization/core.py:348: UserWarning: Lambda as constraint is not advised because it may not be picklable.\n",
      "  warnings.warn(\"Lambda as constraint is not advised because it may not be picklable.\")\n",
      "/home/cican/miniconda3/envs/ml/lib/python3.12/site-packages/nevergrad/optimization/recaster.py:272: FinishedUnderlyingOptimizerWarning: Underlying optimizer has already converged, returning random points\n",
      "  warnings.warn(\n"
     ]
    },
    {
     "name": "stdout",
     "output_type": "stream",
     "text": [
      "Optimizing for n=20 and m=10, trial 36/50\n"
     ]
    },
    {
     "name": "stderr",
     "output_type": "stream",
     "text": [
      "/home/cican/miniconda3/envs/ml/lib/python3.12/site-packages/nevergrad/parametrization/core.py:348: UserWarning: Lambda as constraint is not advised because it may not be picklable.\n",
      "  warnings.warn(\"Lambda as constraint is not advised because it may not be picklable.\")\n",
      "/home/cican/miniconda3/envs/ml/lib/python3.12/site-packages/nevergrad/optimization/recaster.py:272: FinishedUnderlyingOptimizerWarning: Underlying optimizer has already converged, returning random points\n",
      "  warnings.warn(\n",
      "/home/cican/miniconda3/envs/ml/lib/python3.12/site-packages/nevergrad/parametrization/core.py:348: UserWarning: Lambda as constraint is not advised because it may not be picklable.\n",
      "  warnings.warn(\"Lambda as constraint is not advised because it may not be picklable.\")\n",
      "/home/cican/miniconda3/envs/ml/lib/python3.12/site-packages/nevergrad/optimization/recaster.py:272: FinishedUnderlyingOptimizerWarning: Underlying optimizer has already converged, returning random points\n",
      "  warnings.warn(\n"
     ]
    },
    {
     "name": "stdout",
     "output_type": "stream",
     "text": [
      "Could not satisfy constraints.\n",
      "Optimizing for n=20 and m=10, trial 37/50\n"
     ]
    },
    {
     "name": "stderr",
     "output_type": "stream",
     "text": [
      "/home/cican/miniconda3/envs/ml/lib/python3.12/site-packages/nevergrad/parametrization/core.py:348: UserWarning: Lambda as constraint is not advised because it may not be picklable.\n",
      "  warnings.warn(\"Lambda as constraint is not advised because it may not be picklable.\")\n",
      "/home/cican/miniconda3/envs/ml/lib/python3.12/site-packages/nevergrad/optimization/recaster.py:272: FinishedUnderlyingOptimizerWarning: Underlying optimizer has already converged, returning random points\n",
      "  warnings.warn(\n",
      "/home/cican/miniconda3/envs/ml/lib/python3.12/site-packages/nevergrad/parametrization/core.py:348: UserWarning: Lambda as constraint is not advised because it may not be picklable.\n",
      "  warnings.warn(\"Lambda as constraint is not advised because it may not be picklable.\")\n",
      "/home/cican/miniconda3/envs/ml/lib/python3.12/site-packages/nevergrad/optimization/recaster.py:272: FinishedUnderlyingOptimizerWarning: Underlying optimizer has already converged, returning random points\n",
      "  warnings.warn(\n"
     ]
    },
    {
     "name": "stdout",
     "output_type": "stream",
     "text": [
      "Optimizing for n=20 and m=10, trial 38/50\n"
     ]
    },
    {
     "name": "stderr",
     "output_type": "stream",
     "text": [
      "/home/cican/miniconda3/envs/ml/lib/python3.12/site-packages/nevergrad/parametrization/core.py:348: UserWarning: Lambda as constraint is not advised because it may not be picklable.\n",
      "  warnings.warn(\"Lambda as constraint is not advised because it may not be picklable.\")\n",
      "/home/cican/miniconda3/envs/ml/lib/python3.12/site-packages/nevergrad/optimization/recaster.py:272: FinishedUnderlyingOptimizerWarning: Underlying optimizer has already converged, returning random points\n",
      "  warnings.warn(\n",
      "/home/cican/miniconda3/envs/ml/lib/python3.12/site-packages/nevergrad/parametrization/core.py:348: UserWarning: Lambda as constraint is not advised because it may not be picklable.\n",
      "  warnings.warn(\"Lambda as constraint is not advised because it may not be picklable.\")\n",
      "/home/cican/miniconda3/envs/ml/lib/python3.12/site-packages/nevergrad/optimization/recaster.py:272: FinishedUnderlyingOptimizerWarning: Underlying optimizer has already converged, returning random points\n",
      "  warnings.warn(\n"
     ]
    },
    {
     "name": "stdout",
     "output_type": "stream",
     "text": [
      "Optimizing for n=20 and m=10, trial 39/50\n"
     ]
    },
    {
     "name": "stderr",
     "output_type": "stream",
     "text": [
      "/home/cican/miniconda3/envs/ml/lib/python3.12/site-packages/nevergrad/parametrization/core.py:348: UserWarning: Lambda as constraint is not advised because it may not be picklable.\n",
      "  warnings.warn(\"Lambda as constraint is not advised because it may not be picklable.\")\n",
      "/home/cican/miniconda3/envs/ml/lib/python3.12/site-packages/nevergrad/optimization/recaster.py:272: FinishedUnderlyingOptimizerWarning: Underlying optimizer has already converged, returning random points\n",
      "  warnings.warn(\n",
      "/home/cican/miniconda3/envs/ml/lib/python3.12/site-packages/nevergrad/parametrization/core.py:348: UserWarning: Lambda as constraint is not advised because it may not be picklable.\n",
      "  warnings.warn(\"Lambda as constraint is not advised because it may not be picklable.\")\n",
      "/home/cican/miniconda3/envs/ml/lib/python3.12/site-packages/nevergrad/optimization/recaster.py:272: FinishedUnderlyingOptimizerWarning: Underlying optimizer has already converged, returning random points\n",
      "  warnings.warn(\n"
     ]
    },
    {
     "name": "stdout",
     "output_type": "stream",
     "text": [
      "Optimizing for n=20 and m=10, trial 40/50\n"
     ]
    },
    {
     "name": "stderr",
     "output_type": "stream",
     "text": [
      "/home/cican/miniconda3/envs/ml/lib/python3.12/site-packages/nevergrad/parametrization/core.py:348: UserWarning: Lambda as constraint is not advised because it may not be picklable.\n",
      "  warnings.warn(\"Lambda as constraint is not advised because it may not be picklable.\")\n",
      "/home/cican/miniconda3/envs/ml/lib/python3.12/site-packages/nevergrad/optimization/recaster.py:272: FinishedUnderlyingOptimizerWarning: Underlying optimizer has already converged, returning random points\n",
      "  warnings.warn(\n",
      "/home/cican/miniconda3/envs/ml/lib/python3.12/site-packages/nevergrad/parametrization/core.py:348: UserWarning: Lambda as constraint is not advised because it may not be picklable.\n",
      "  warnings.warn(\"Lambda as constraint is not advised because it may not be picklable.\")\n",
      "/home/cican/miniconda3/envs/ml/lib/python3.12/site-packages/nevergrad/optimization/recaster.py:272: FinishedUnderlyingOptimizerWarning: Underlying optimizer has already converged, returning random points\n",
      "  warnings.warn(\n"
     ]
    },
    {
     "name": "stdout",
     "output_type": "stream",
     "text": [
      "Optimizing for n=20 and m=10, trial 41/50\n"
     ]
    },
    {
     "name": "stderr",
     "output_type": "stream",
     "text": [
      "/home/cican/miniconda3/envs/ml/lib/python3.12/site-packages/nevergrad/parametrization/core.py:348: UserWarning: Lambda as constraint is not advised because it may not be picklable.\n",
      "  warnings.warn(\"Lambda as constraint is not advised because it may not be picklable.\")\n",
      "/home/cican/miniconda3/envs/ml/lib/python3.12/site-packages/nevergrad/optimization/recaster.py:272: FinishedUnderlyingOptimizerWarning: Underlying optimizer has already converged, returning random points\n",
      "  warnings.warn(\n"
     ]
    },
    {
     "name": "stdout",
     "output_type": "stream",
     "text": [
      "Could not satisfy constraints.\n"
     ]
    },
    {
     "name": "stderr",
     "output_type": "stream",
     "text": [
      "/home/cican/miniconda3/envs/ml/lib/python3.12/site-packages/nevergrad/parametrization/core.py:348: UserWarning: Lambda as constraint is not advised because it may not be picklable.\n",
      "  warnings.warn(\"Lambda as constraint is not advised because it may not be picklable.\")\n",
      "/home/cican/miniconda3/envs/ml/lib/python3.12/site-packages/nevergrad/optimization/recaster.py:272: FinishedUnderlyingOptimizerWarning: Underlying optimizer has already converged, returning random points\n",
      "  warnings.warn(\n"
     ]
    },
    {
     "name": "stdout",
     "output_type": "stream",
     "text": [
      "Optimizing for n=20 and m=10, trial 42/50\n"
     ]
    },
    {
     "name": "stderr",
     "output_type": "stream",
     "text": [
      "/home/cican/miniconda3/envs/ml/lib/python3.12/site-packages/nevergrad/parametrization/core.py:348: UserWarning: Lambda as constraint is not advised because it may not be picklable.\n",
      "  warnings.warn(\"Lambda as constraint is not advised because it may not be picklable.\")\n",
      "/home/cican/miniconda3/envs/ml/lib/python3.12/site-packages/nevergrad/optimization/recaster.py:272: FinishedUnderlyingOptimizerWarning: Underlying optimizer has already converged, returning random points\n",
      "  warnings.warn(\n",
      "/home/cican/miniconda3/envs/ml/lib/python3.12/site-packages/nevergrad/parametrization/core.py:348: UserWarning: Lambda as constraint is not advised because it may not be picklable.\n",
      "  warnings.warn(\"Lambda as constraint is not advised because it may not be picklable.\")\n",
      "/home/cican/miniconda3/envs/ml/lib/python3.12/site-packages/nevergrad/optimization/recaster.py:272: FinishedUnderlyingOptimizerWarning: Underlying optimizer has already converged, returning random points\n",
      "  warnings.warn(\n"
     ]
    },
    {
     "name": "stdout",
     "output_type": "stream",
     "text": [
      "Could not satisfy constraints.\n",
      "Optimizing for n=20 and m=10, trial 43/50\n"
     ]
    },
    {
     "name": "stderr",
     "output_type": "stream",
     "text": [
      "/home/cican/miniconda3/envs/ml/lib/python3.12/site-packages/nevergrad/parametrization/core.py:348: UserWarning: Lambda as constraint is not advised because it may not be picklable.\n",
      "  warnings.warn(\"Lambda as constraint is not advised because it may not be picklable.\")\n",
      "/home/cican/miniconda3/envs/ml/lib/python3.12/site-packages/nevergrad/optimization/recaster.py:272: FinishedUnderlyingOptimizerWarning: Underlying optimizer has already converged, returning random points\n",
      "  warnings.warn(\n",
      "/home/cican/miniconda3/envs/ml/lib/python3.12/site-packages/nevergrad/parametrization/core.py:348: UserWarning: Lambda as constraint is not advised because it may not be picklable.\n",
      "  warnings.warn(\"Lambda as constraint is not advised because it may not be picklable.\")\n",
      "/home/cican/miniconda3/envs/ml/lib/python3.12/site-packages/nevergrad/optimization/recaster.py:272: FinishedUnderlyingOptimizerWarning: Underlying optimizer has already converged, returning random points\n",
      "  warnings.warn(\n"
     ]
    },
    {
     "name": "stdout",
     "output_type": "stream",
     "text": [
      "Optimizing for n=20 and m=10, trial 44/50\n"
     ]
    },
    {
     "name": "stderr",
     "output_type": "stream",
     "text": [
      "/home/cican/miniconda3/envs/ml/lib/python3.12/site-packages/nevergrad/parametrization/core.py:348: UserWarning: Lambda as constraint is not advised because it may not be picklable.\n",
      "  warnings.warn(\"Lambda as constraint is not advised because it may not be picklable.\")\n",
      "/home/cican/miniconda3/envs/ml/lib/python3.12/site-packages/nevergrad/optimization/recaster.py:272: FinishedUnderlyingOptimizerWarning: Underlying optimizer has already converged, returning random points\n",
      "  warnings.warn(\n"
     ]
    },
    {
     "name": "stdout",
     "output_type": "stream",
     "text": [
      "Could not satisfy constraints.\n"
     ]
    },
    {
     "name": "stderr",
     "output_type": "stream",
     "text": [
      "/home/cican/miniconda3/envs/ml/lib/python3.12/site-packages/nevergrad/parametrization/core.py:348: UserWarning: Lambda as constraint is not advised because it may not be picklable.\n",
      "  warnings.warn(\"Lambda as constraint is not advised because it may not be picklable.\")\n",
      "/home/cican/miniconda3/envs/ml/lib/python3.12/site-packages/nevergrad/optimization/recaster.py:272: FinishedUnderlyingOptimizerWarning: Underlying optimizer has already converged, returning random points\n",
      "  warnings.warn(\n"
     ]
    },
    {
     "name": "stdout",
     "output_type": "stream",
     "text": [
      "Optimizing for n=20 and m=10, trial 45/50\n"
     ]
    },
    {
     "name": "stderr",
     "output_type": "stream",
     "text": [
      "/home/cican/miniconda3/envs/ml/lib/python3.12/site-packages/nevergrad/parametrization/core.py:348: UserWarning: Lambda as constraint is not advised because it may not be picklable.\n",
      "  warnings.warn(\"Lambda as constraint is not advised because it may not be picklable.\")\n",
      "/home/cican/miniconda3/envs/ml/lib/python3.12/site-packages/nevergrad/optimization/recaster.py:272: FinishedUnderlyingOptimizerWarning: Underlying optimizer has already converged, returning random points\n",
      "  warnings.warn(\n",
      "/home/cican/miniconda3/envs/ml/lib/python3.12/site-packages/nevergrad/parametrization/core.py:348: UserWarning: Lambda as constraint is not advised because it may not be picklable.\n",
      "  warnings.warn(\"Lambda as constraint is not advised because it may not be picklable.\")\n",
      "/home/cican/miniconda3/envs/ml/lib/python3.12/site-packages/nevergrad/optimization/recaster.py:272: FinishedUnderlyingOptimizerWarning: Underlying optimizer has already converged, returning random points\n",
      "  warnings.warn(\n"
     ]
    },
    {
     "name": "stdout",
     "output_type": "stream",
     "text": [
      "Optimizing for n=20 and m=10, trial 46/50\n"
     ]
    },
    {
     "name": "stderr",
     "output_type": "stream",
     "text": [
      "/home/cican/miniconda3/envs/ml/lib/python3.12/site-packages/nevergrad/parametrization/core.py:348: UserWarning: Lambda as constraint is not advised because it may not be picklable.\n",
      "  warnings.warn(\"Lambda as constraint is not advised because it may not be picklable.\")\n",
      "/home/cican/miniconda3/envs/ml/lib/python3.12/site-packages/nevergrad/optimization/recaster.py:272: FinishedUnderlyingOptimizerWarning: Underlying optimizer has already converged, returning random points\n",
      "  warnings.warn(\n",
      "/home/cican/miniconda3/envs/ml/lib/python3.12/site-packages/nevergrad/parametrization/core.py:348: UserWarning: Lambda as constraint is not advised because it may not be picklable.\n",
      "  warnings.warn(\"Lambda as constraint is not advised because it may not be picklable.\")\n",
      "/home/cican/miniconda3/envs/ml/lib/python3.12/site-packages/nevergrad/optimization/recaster.py:272: FinishedUnderlyingOptimizerWarning: Underlying optimizer has already converged, returning random points\n",
      "  warnings.warn(\n"
     ]
    },
    {
     "name": "stdout",
     "output_type": "stream",
     "text": [
      "Could not satisfy constraints.\n",
      "Optimizing for n=20 and m=10, trial 47/50\n"
     ]
    },
    {
     "name": "stderr",
     "output_type": "stream",
     "text": [
      "/home/cican/miniconda3/envs/ml/lib/python3.12/site-packages/nevergrad/parametrization/core.py:348: UserWarning: Lambda as constraint is not advised because it may not be picklable.\n",
      "  warnings.warn(\"Lambda as constraint is not advised because it may not be picklable.\")\n",
      "/home/cican/miniconda3/envs/ml/lib/python3.12/site-packages/nevergrad/optimization/recaster.py:272: FinishedUnderlyingOptimizerWarning: Underlying optimizer has already converged, returning random points\n",
      "  warnings.warn(\n",
      "/home/cican/miniconda3/envs/ml/lib/python3.12/site-packages/nevergrad/parametrization/core.py:348: UserWarning: Lambda as constraint is not advised because it may not be picklable.\n",
      "  warnings.warn(\"Lambda as constraint is not advised because it may not be picklable.\")\n",
      "/home/cican/miniconda3/envs/ml/lib/python3.12/site-packages/nevergrad/optimization/recaster.py:272: FinishedUnderlyingOptimizerWarning: Underlying optimizer has already converged, returning random points\n",
      "  warnings.warn(\n"
     ]
    },
    {
     "name": "stdout",
     "output_type": "stream",
     "text": [
      "Optimizing for n=20 and m=10, trial 48/50\n"
     ]
    },
    {
     "name": "stderr",
     "output_type": "stream",
     "text": [
      "/home/cican/miniconda3/envs/ml/lib/python3.12/site-packages/nevergrad/parametrization/core.py:348: UserWarning: Lambda as constraint is not advised because it may not be picklable.\n",
      "  warnings.warn(\"Lambda as constraint is not advised because it may not be picklable.\")\n",
      "/home/cican/miniconda3/envs/ml/lib/python3.12/site-packages/nevergrad/optimization/recaster.py:272: FinishedUnderlyingOptimizerWarning: Underlying optimizer has already converged, returning random points\n",
      "  warnings.warn(\n",
      "/home/cican/miniconda3/envs/ml/lib/python3.12/site-packages/nevergrad/parametrization/core.py:348: UserWarning: Lambda as constraint is not advised because it may not be picklable.\n",
      "  warnings.warn(\"Lambda as constraint is not advised because it may not be picklable.\")\n",
      "/home/cican/miniconda3/envs/ml/lib/python3.12/site-packages/nevergrad/optimization/recaster.py:272: FinishedUnderlyingOptimizerWarning: Underlying optimizer has already converged, returning random points\n",
      "  warnings.warn(\n"
     ]
    },
    {
     "name": "stdout",
     "output_type": "stream",
     "text": [
      "Could not satisfy constraints.\n",
      "Optimizing for n=20 and m=10, trial 49/50\n"
     ]
    },
    {
     "name": "stderr",
     "output_type": "stream",
     "text": [
      "/home/cican/miniconda3/envs/ml/lib/python3.12/site-packages/nevergrad/parametrization/core.py:348: UserWarning: Lambda as constraint is not advised because it may not be picklable.\n",
      "  warnings.warn(\"Lambda as constraint is not advised because it may not be picklable.\")\n",
      "/home/cican/miniconda3/envs/ml/lib/python3.12/site-packages/nevergrad/optimization/recaster.py:272: FinishedUnderlyingOptimizerWarning: Underlying optimizer has already converged, returning random points\n",
      "  warnings.warn(\n"
     ]
    },
    {
     "name": "stdout",
     "output_type": "stream",
     "text": [
      "Could not satisfy constraints.\n"
     ]
    },
    {
     "name": "stderr",
     "output_type": "stream",
     "text": [
      "/home/cican/miniconda3/envs/ml/lib/python3.12/site-packages/nevergrad/parametrization/core.py:348: UserWarning: Lambda as constraint is not advised because it may not be picklable.\n",
      "  warnings.warn(\"Lambda as constraint is not advised because it may not be picklable.\")\n",
      "/home/cican/miniconda3/envs/ml/lib/python3.12/site-packages/nevergrad/optimization/recaster.py:272: FinishedUnderlyingOptimizerWarning: Underlying optimizer has already converged, returning random points\n",
      "  warnings.warn(\n"
     ]
    },
    {
     "name": "stdout",
     "output_type": "stream",
     "text": [
      "Could not satisfy constraints.\n",
      "Optimizing for n=20 and m=10, trial 50/50\n"
     ]
    },
    {
     "name": "stderr",
     "output_type": "stream",
     "text": [
      "/home/cican/miniconda3/envs/ml/lib/python3.12/site-packages/nevergrad/parametrization/core.py:348: UserWarning: Lambda as constraint is not advised because it may not be picklable.\n",
      "  warnings.warn(\"Lambda as constraint is not advised because it may not be picklable.\")\n",
      "/home/cican/miniconda3/envs/ml/lib/python3.12/site-packages/nevergrad/optimization/recaster.py:272: FinishedUnderlyingOptimizerWarning: Underlying optimizer has already converged, returning random points\n",
      "  warnings.warn(\n",
      "/home/cican/miniconda3/envs/ml/lib/python3.12/site-packages/nevergrad/parametrization/core.py:348: UserWarning: Lambda as constraint is not advised because it may not be picklable.\n",
      "  warnings.warn(\"Lambda as constraint is not advised because it may not be picklable.\")\n",
      "/home/cican/miniconda3/envs/ml/lib/python3.12/site-packages/nevergrad/optimization/recaster.py:272: FinishedUnderlyingOptimizerWarning: Underlying optimizer has already converged, returning random points\n",
      "  warnings.warn(\n"
     ]
    },
    {
     "name": "stdout",
     "output_type": "stream",
     "text": [
      "Could not satisfy constraints.\n",
      "Optimizing for n=25 and m=5, trial 1/50\n"
     ]
    },
    {
     "name": "stderr",
     "output_type": "stream",
     "text": [
      "/home/cican/miniconda3/envs/ml/lib/python3.12/site-packages/nevergrad/parametrization/core.py:348: UserWarning: Lambda as constraint is not advised because it may not be picklable.\n",
      "  warnings.warn(\"Lambda as constraint is not advised because it may not be picklable.\")\n",
      "/home/cican/miniconda3/envs/ml/lib/python3.12/site-packages/nevergrad/optimization/recaster.py:272: FinishedUnderlyingOptimizerWarning: Underlying optimizer has already converged, returning random points\n",
      "  warnings.warn(\n"
     ]
    },
    {
     "name": "stdout",
     "output_type": "stream",
     "text": [
      "Could not satisfy constraints.\n"
     ]
    },
    {
     "name": "stderr",
     "output_type": "stream",
     "text": [
      "/home/cican/miniconda3/envs/ml/lib/python3.12/site-packages/nevergrad/parametrization/core.py:348: UserWarning: Lambda as constraint is not advised because it may not be picklable.\n",
      "  warnings.warn(\"Lambda as constraint is not advised because it may not be picklable.\")\n",
      "/home/cican/miniconda3/envs/ml/lib/python3.12/site-packages/nevergrad/optimization/recaster.py:272: FinishedUnderlyingOptimizerWarning: Underlying optimizer has already converged, returning random points\n",
      "  warnings.warn(\n"
     ]
    },
    {
     "name": "stdout",
     "output_type": "stream",
     "text": [
      "Could not satisfy constraints.\n",
      "Optimizing for n=25 and m=5, trial 2/50\n"
     ]
    },
    {
     "name": "stderr",
     "output_type": "stream",
     "text": [
      "/home/cican/miniconda3/envs/ml/lib/python3.12/site-packages/nevergrad/parametrization/core.py:348: UserWarning: Lambda as constraint is not advised because it may not be picklable.\n",
      "  warnings.warn(\"Lambda as constraint is not advised because it may not be picklable.\")\n",
      "/home/cican/miniconda3/envs/ml/lib/python3.12/site-packages/nevergrad/optimization/recaster.py:272: FinishedUnderlyingOptimizerWarning: Underlying optimizer has already converged, returning random points\n",
      "  warnings.warn(\n"
     ]
    },
    {
     "name": "stdout",
     "output_type": "stream",
     "text": [
      "Could not satisfy constraints.\n"
     ]
    },
    {
     "name": "stderr",
     "output_type": "stream",
     "text": [
      "/home/cican/miniconda3/envs/ml/lib/python3.12/site-packages/nevergrad/parametrization/core.py:348: UserWarning: Lambda as constraint is not advised because it may not be picklable.\n",
      "  warnings.warn(\"Lambda as constraint is not advised because it may not be picklable.\")\n",
      "/home/cican/miniconda3/envs/ml/lib/python3.12/site-packages/nevergrad/optimization/recaster.py:272: FinishedUnderlyingOptimizerWarning: Underlying optimizer has already converged, returning random points\n",
      "  warnings.warn(\n"
     ]
    },
    {
     "name": "stdout",
     "output_type": "stream",
     "text": [
      "Optimizing for n=25 and m=5, trial 3/50\n"
     ]
    },
    {
     "name": "stderr",
     "output_type": "stream",
     "text": [
      "/home/cican/miniconda3/envs/ml/lib/python3.12/site-packages/nevergrad/parametrization/core.py:348: UserWarning: Lambda as constraint is not advised because it may not be picklable.\n",
      "  warnings.warn(\"Lambda as constraint is not advised because it may not be picklable.\")\n",
      "/home/cican/miniconda3/envs/ml/lib/python3.12/site-packages/nevergrad/optimization/recaster.py:272: FinishedUnderlyingOptimizerWarning: Underlying optimizer has already converged, returning random points\n",
      "  warnings.warn(\n"
     ]
    },
    {
     "name": "stdout",
     "output_type": "stream",
     "text": [
      "Could not satisfy constraints.\n"
     ]
    },
    {
     "name": "stderr",
     "output_type": "stream",
     "text": [
      "/home/cican/miniconda3/envs/ml/lib/python3.12/site-packages/nevergrad/parametrization/core.py:348: UserWarning: Lambda as constraint is not advised because it may not be picklable.\n",
      "  warnings.warn(\"Lambda as constraint is not advised because it may not be picklable.\")\n",
      "/home/cican/miniconda3/envs/ml/lib/python3.12/site-packages/nevergrad/optimization/recaster.py:272: FinishedUnderlyingOptimizerWarning: Underlying optimizer has already converged, returning random points\n",
      "  warnings.warn(\n"
     ]
    },
    {
     "name": "stdout",
     "output_type": "stream",
     "text": [
      "Could not satisfy constraints.\n",
      "Optimizing for n=25 and m=5, trial 4/50\n"
     ]
    },
    {
     "name": "stderr",
     "output_type": "stream",
     "text": [
      "/home/cican/miniconda3/envs/ml/lib/python3.12/site-packages/nevergrad/parametrization/core.py:348: UserWarning: Lambda as constraint is not advised because it may not be picklable.\n",
      "  warnings.warn(\"Lambda as constraint is not advised because it may not be picklable.\")\n",
      "/home/cican/miniconda3/envs/ml/lib/python3.12/site-packages/nevergrad/optimization/recaster.py:272: FinishedUnderlyingOptimizerWarning: Underlying optimizer has already converged, returning random points\n",
      "  warnings.warn(\n",
      "/home/cican/miniconda3/envs/ml/lib/python3.12/site-packages/nevergrad/parametrization/core.py:348: UserWarning: Lambda as constraint is not advised because it may not be picklable.\n",
      "  warnings.warn(\"Lambda as constraint is not advised because it may not be picklable.\")\n",
      "/home/cican/miniconda3/envs/ml/lib/python3.12/site-packages/nevergrad/optimization/recaster.py:272: FinishedUnderlyingOptimizerWarning: Underlying optimizer has already converged, returning random points\n",
      "  warnings.warn(\n"
     ]
    },
    {
     "name": "stdout",
     "output_type": "stream",
     "text": [
      "Optimizing for n=25 and m=5, trial 5/50\n"
     ]
    },
    {
     "name": "stderr",
     "output_type": "stream",
     "text": [
      "/home/cican/miniconda3/envs/ml/lib/python3.12/site-packages/nevergrad/parametrization/core.py:348: UserWarning: Lambda as constraint is not advised because it may not be picklable.\n",
      "  warnings.warn(\"Lambda as constraint is not advised because it may not be picklable.\")\n",
      "/home/cican/miniconda3/envs/ml/lib/python3.12/site-packages/nevergrad/optimization/recaster.py:272: FinishedUnderlyingOptimizerWarning: Underlying optimizer has already converged, returning random points\n",
      "  warnings.warn(\n",
      "/home/cican/miniconda3/envs/ml/lib/python3.12/site-packages/nevergrad/parametrization/core.py:348: UserWarning: Lambda as constraint is not advised because it may not be picklable.\n",
      "  warnings.warn(\"Lambda as constraint is not advised because it may not be picklable.\")\n",
      "/home/cican/miniconda3/envs/ml/lib/python3.12/site-packages/nevergrad/optimization/recaster.py:272: FinishedUnderlyingOptimizerWarning: Underlying optimizer has already converged, returning random points\n",
      "  warnings.warn(\n"
     ]
    },
    {
     "name": "stdout",
     "output_type": "stream",
     "text": [
      "Optimizing for n=25 and m=5, trial 6/50\n"
     ]
    },
    {
     "name": "stderr",
     "output_type": "stream",
     "text": [
      "/home/cican/miniconda3/envs/ml/lib/python3.12/site-packages/nevergrad/parametrization/core.py:348: UserWarning: Lambda as constraint is not advised because it may not be picklable.\n",
      "  warnings.warn(\"Lambda as constraint is not advised because it may not be picklable.\")\n",
      "/home/cican/miniconda3/envs/ml/lib/python3.12/site-packages/nevergrad/optimization/recaster.py:272: FinishedUnderlyingOptimizerWarning: Underlying optimizer has already converged, returning random points\n",
      "  warnings.warn(\n"
     ]
    },
    {
     "name": "stdout",
     "output_type": "stream",
     "text": [
      "Could not satisfy constraints.\n"
     ]
    },
    {
     "name": "stderr",
     "output_type": "stream",
     "text": [
      "/home/cican/miniconda3/envs/ml/lib/python3.12/site-packages/nevergrad/parametrization/core.py:348: UserWarning: Lambda as constraint is not advised because it may not be picklable.\n",
      "  warnings.warn(\"Lambda as constraint is not advised because it may not be picklable.\")\n",
      "/home/cican/miniconda3/envs/ml/lib/python3.12/site-packages/nevergrad/optimization/recaster.py:272: FinishedUnderlyingOptimizerWarning: Underlying optimizer has already converged, returning random points\n",
      "  warnings.warn(\n"
     ]
    },
    {
     "name": "stdout",
     "output_type": "stream",
     "text": [
      "Could not satisfy constraints.\n",
      "Optimizing for n=25 and m=5, trial 7/50\n"
     ]
    },
    {
     "name": "stderr",
     "output_type": "stream",
     "text": [
      "/home/cican/miniconda3/envs/ml/lib/python3.12/site-packages/nevergrad/parametrization/core.py:348: UserWarning: Lambda as constraint is not advised because it may not be picklable.\n",
      "  warnings.warn(\"Lambda as constraint is not advised because it may not be picklable.\")\n",
      "/home/cican/miniconda3/envs/ml/lib/python3.12/site-packages/nevergrad/optimization/recaster.py:272: FinishedUnderlyingOptimizerWarning: Underlying optimizer has already converged, returning random points\n",
      "  warnings.warn(\n"
     ]
    },
    {
     "name": "stdout",
     "output_type": "stream",
     "text": [
      "Could not satisfy constraints.\n"
     ]
    },
    {
     "name": "stderr",
     "output_type": "stream",
     "text": [
      "/home/cican/miniconda3/envs/ml/lib/python3.12/site-packages/nevergrad/parametrization/core.py:348: UserWarning: Lambda as constraint is not advised because it may not be picklable.\n",
      "  warnings.warn(\"Lambda as constraint is not advised because it may not be picklable.\")\n",
      "/home/cican/miniconda3/envs/ml/lib/python3.12/site-packages/nevergrad/optimization/recaster.py:272: FinishedUnderlyingOptimizerWarning: Underlying optimizer has already converged, returning random points\n",
      "  warnings.warn(\n"
     ]
    },
    {
     "name": "stdout",
     "output_type": "stream",
     "text": [
      "Could not satisfy constraints.\n",
      "Optimizing for n=25 and m=5, trial 8/50\n"
     ]
    },
    {
     "name": "stderr",
     "output_type": "stream",
     "text": [
      "/home/cican/miniconda3/envs/ml/lib/python3.12/site-packages/nevergrad/parametrization/core.py:348: UserWarning: Lambda as constraint is not advised because it may not be picklable.\n",
      "  warnings.warn(\"Lambda as constraint is not advised because it may not be picklable.\")\n",
      "/home/cican/miniconda3/envs/ml/lib/python3.12/site-packages/nevergrad/optimization/recaster.py:272: FinishedUnderlyingOptimizerWarning: Underlying optimizer has already converged, returning random points\n",
      "  warnings.warn(\n"
     ]
    },
    {
     "name": "stdout",
     "output_type": "stream",
     "text": [
      "Could not satisfy constraints.\n"
     ]
    },
    {
     "name": "stderr",
     "output_type": "stream",
     "text": [
      "/home/cican/miniconda3/envs/ml/lib/python3.12/site-packages/nevergrad/parametrization/core.py:348: UserWarning: Lambda as constraint is not advised because it may not be picklable.\n",
      "  warnings.warn(\"Lambda as constraint is not advised because it may not be picklable.\")\n",
      "/home/cican/miniconda3/envs/ml/lib/python3.12/site-packages/nevergrad/optimization/recaster.py:272: FinishedUnderlyingOptimizerWarning: Underlying optimizer has already converged, returning random points\n",
      "  warnings.warn(\n"
     ]
    },
    {
     "name": "stdout",
     "output_type": "stream",
     "text": [
      "Could not satisfy constraints.\n",
      "Optimizing for n=25 and m=5, trial 9/50\n"
     ]
    },
    {
     "name": "stderr",
     "output_type": "stream",
     "text": [
      "/home/cican/miniconda3/envs/ml/lib/python3.12/site-packages/nevergrad/parametrization/core.py:348: UserWarning: Lambda as constraint is not advised because it may not be picklable.\n",
      "  warnings.warn(\"Lambda as constraint is not advised because it may not be picklable.\")\n",
      "/home/cican/miniconda3/envs/ml/lib/python3.12/site-packages/nevergrad/optimization/recaster.py:272: FinishedUnderlyingOptimizerWarning: Underlying optimizer has already converged, returning random points\n",
      "  warnings.warn(\n",
      "/home/cican/miniconda3/envs/ml/lib/python3.12/site-packages/nevergrad/parametrization/core.py:348: UserWarning: Lambda as constraint is not advised because it may not be picklable.\n",
      "  warnings.warn(\"Lambda as constraint is not advised because it may not be picklable.\")\n",
      "/home/cican/miniconda3/envs/ml/lib/python3.12/site-packages/nevergrad/optimization/recaster.py:272: FinishedUnderlyingOptimizerWarning: Underlying optimizer has already converged, returning random points\n",
      "  warnings.warn(\n"
     ]
    },
    {
     "name": "stdout",
     "output_type": "stream",
     "text": [
      "Could not satisfy constraints.\n",
      "Optimizing for n=25 and m=5, trial 10/50\n"
     ]
    },
    {
     "name": "stderr",
     "output_type": "stream",
     "text": [
      "/home/cican/miniconda3/envs/ml/lib/python3.12/site-packages/nevergrad/parametrization/core.py:348: UserWarning: Lambda as constraint is not advised because it may not be picklable.\n",
      "  warnings.warn(\"Lambda as constraint is not advised because it may not be picklable.\")\n",
      "/home/cican/miniconda3/envs/ml/lib/python3.12/site-packages/nevergrad/optimization/recaster.py:272: FinishedUnderlyingOptimizerWarning: Underlying optimizer has already converged, returning random points\n",
      "  warnings.warn(\n",
      "/home/cican/miniconda3/envs/ml/lib/python3.12/site-packages/nevergrad/parametrization/core.py:348: UserWarning: Lambda as constraint is not advised because it may not be picklable.\n",
      "  warnings.warn(\"Lambda as constraint is not advised because it may not be picklable.\")\n",
      "/home/cican/miniconda3/envs/ml/lib/python3.12/site-packages/nevergrad/optimization/recaster.py:272: FinishedUnderlyingOptimizerWarning: Underlying optimizer has already converged, returning random points\n",
      "  warnings.warn(\n"
     ]
    },
    {
     "name": "stdout",
     "output_type": "stream",
     "text": [
      "Could not satisfy constraints.\n",
      "Optimizing for n=25 and m=5, trial 11/50\n"
     ]
    },
    {
     "name": "stderr",
     "output_type": "stream",
     "text": [
      "/home/cican/miniconda3/envs/ml/lib/python3.12/site-packages/nevergrad/parametrization/core.py:348: UserWarning: Lambda as constraint is not advised because it may not be picklable.\n",
      "  warnings.warn(\"Lambda as constraint is not advised because it may not be picklable.\")\n",
      "/home/cican/miniconda3/envs/ml/lib/python3.12/site-packages/nevergrad/optimization/recaster.py:272: FinishedUnderlyingOptimizerWarning: Underlying optimizer has already converged, returning random points\n",
      "  warnings.warn(\n"
     ]
    },
    {
     "name": "stdout",
     "output_type": "stream",
     "text": [
      "Could not satisfy constraints.\n"
     ]
    },
    {
     "name": "stderr",
     "output_type": "stream",
     "text": [
      "/home/cican/miniconda3/envs/ml/lib/python3.12/site-packages/nevergrad/parametrization/core.py:348: UserWarning: Lambda as constraint is not advised because it may not be picklable.\n",
      "  warnings.warn(\"Lambda as constraint is not advised because it may not be picklable.\")\n",
      "/home/cican/miniconda3/envs/ml/lib/python3.12/site-packages/nevergrad/optimization/recaster.py:272: FinishedUnderlyingOptimizerWarning: Underlying optimizer has already converged, returning random points\n",
      "  warnings.warn(\n"
     ]
    },
    {
     "name": "stdout",
     "output_type": "stream",
     "text": [
      "Optimizing for n=25 and m=5, trial 12/50\n"
     ]
    },
    {
     "name": "stderr",
     "output_type": "stream",
     "text": [
      "/home/cican/miniconda3/envs/ml/lib/python3.12/site-packages/nevergrad/parametrization/core.py:348: UserWarning: Lambda as constraint is not advised because it may not be picklable.\n",
      "  warnings.warn(\"Lambda as constraint is not advised because it may not be picklable.\")\n",
      "/home/cican/miniconda3/envs/ml/lib/python3.12/site-packages/nevergrad/optimization/recaster.py:272: FinishedUnderlyingOptimizerWarning: Underlying optimizer has already converged, returning random points\n",
      "  warnings.warn(\n",
      "/home/cican/miniconda3/envs/ml/lib/python3.12/site-packages/nevergrad/parametrization/core.py:348: UserWarning: Lambda as constraint is not advised because it may not be picklable.\n",
      "  warnings.warn(\"Lambda as constraint is not advised because it may not be picklable.\")\n",
      "/home/cican/miniconda3/envs/ml/lib/python3.12/site-packages/nevergrad/optimization/recaster.py:272: FinishedUnderlyingOptimizerWarning: Underlying optimizer has already converged, returning random points\n",
      "  warnings.warn(\n"
     ]
    },
    {
     "name": "stdout",
     "output_type": "stream",
     "text": [
      "Optimizing for n=25 and m=5, trial 13/50\n"
     ]
    },
    {
     "name": "stderr",
     "output_type": "stream",
     "text": [
      "/home/cican/miniconda3/envs/ml/lib/python3.12/site-packages/nevergrad/parametrization/core.py:348: UserWarning: Lambda as constraint is not advised because it may not be picklable.\n",
      "  warnings.warn(\"Lambda as constraint is not advised because it may not be picklable.\")\n",
      "/home/cican/miniconda3/envs/ml/lib/python3.12/site-packages/nevergrad/optimization/recaster.py:272: FinishedUnderlyingOptimizerWarning: Underlying optimizer has already converged, returning random points\n",
      "  warnings.warn(\n"
     ]
    },
    {
     "name": "stdout",
     "output_type": "stream",
     "text": [
      "Could not satisfy constraints.\n"
     ]
    },
    {
     "name": "stderr",
     "output_type": "stream",
     "text": [
      "/home/cican/miniconda3/envs/ml/lib/python3.12/site-packages/nevergrad/parametrization/core.py:348: UserWarning: Lambda as constraint is not advised because it may not be picklable.\n",
      "  warnings.warn(\"Lambda as constraint is not advised because it may not be picklable.\")\n",
      "/home/cican/miniconda3/envs/ml/lib/python3.12/site-packages/nevergrad/optimization/recaster.py:272: FinishedUnderlyingOptimizerWarning: Underlying optimizer has already converged, returning random points\n",
      "  warnings.warn(\n"
     ]
    },
    {
     "name": "stdout",
     "output_type": "stream",
     "text": [
      "Could not satisfy constraints.\n",
      "Optimizing for n=25 and m=5, trial 14/50\n"
     ]
    },
    {
     "name": "stderr",
     "output_type": "stream",
     "text": [
      "/home/cican/miniconda3/envs/ml/lib/python3.12/site-packages/nevergrad/parametrization/core.py:348: UserWarning: Lambda as constraint is not advised because it may not be picklable.\n",
      "  warnings.warn(\"Lambda as constraint is not advised because it may not be picklable.\")\n",
      "/home/cican/miniconda3/envs/ml/lib/python3.12/site-packages/nevergrad/optimization/recaster.py:272: FinishedUnderlyingOptimizerWarning: Underlying optimizer has already converged, returning random points\n",
      "  warnings.warn(\n"
     ]
    },
    {
     "name": "stdout",
     "output_type": "stream",
     "text": [
      "Could not satisfy constraints.\n"
     ]
    },
    {
     "name": "stderr",
     "output_type": "stream",
     "text": [
      "/home/cican/miniconda3/envs/ml/lib/python3.12/site-packages/nevergrad/parametrization/core.py:348: UserWarning: Lambda as constraint is not advised because it may not be picklable.\n",
      "  warnings.warn(\"Lambda as constraint is not advised because it may not be picklable.\")\n",
      "/home/cican/miniconda3/envs/ml/lib/python3.12/site-packages/nevergrad/optimization/recaster.py:272: FinishedUnderlyingOptimizerWarning: Underlying optimizer has already converged, returning random points\n",
      "  warnings.warn(\n"
     ]
    },
    {
     "name": "stdout",
     "output_type": "stream",
     "text": [
      "Optimizing for n=25 and m=5, trial 15/50\n"
     ]
    },
    {
     "name": "stderr",
     "output_type": "stream",
     "text": [
      "/home/cican/miniconda3/envs/ml/lib/python3.12/site-packages/nevergrad/parametrization/core.py:348: UserWarning: Lambda as constraint is not advised because it may not be picklable.\n",
      "  warnings.warn(\"Lambda as constraint is not advised because it may not be picklable.\")\n",
      "/home/cican/miniconda3/envs/ml/lib/python3.12/site-packages/nevergrad/optimization/recaster.py:272: FinishedUnderlyingOptimizerWarning: Underlying optimizer has already converged, returning random points\n",
      "  warnings.warn(\n",
      "/home/cican/miniconda3/envs/ml/lib/python3.12/site-packages/nevergrad/parametrization/core.py:348: UserWarning: Lambda as constraint is not advised because it may not be picklable.\n",
      "  warnings.warn(\"Lambda as constraint is not advised because it may not be picklable.\")\n",
      "/home/cican/miniconda3/envs/ml/lib/python3.12/site-packages/nevergrad/optimization/recaster.py:272: FinishedUnderlyingOptimizerWarning: Underlying optimizer has already converged, returning random points\n",
      "  warnings.warn(\n"
     ]
    },
    {
     "name": "stdout",
     "output_type": "stream",
     "text": [
      "Optimizing for n=25 and m=5, trial 16/50\n"
     ]
    },
    {
     "name": "stderr",
     "output_type": "stream",
     "text": [
      "/home/cican/miniconda3/envs/ml/lib/python3.12/site-packages/nevergrad/parametrization/core.py:348: UserWarning: Lambda as constraint is not advised because it may not be picklable.\n",
      "  warnings.warn(\"Lambda as constraint is not advised because it may not be picklable.\")\n",
      "/home/cican/miniconda3/envs/ml/lib/python3.12/site-packages/nevergrad/optimization/recaster.py:272: FinishedUnderlyingOptimizerWarning: Underlying optimizer has already converged, returning random points\n",
      "  warnings.warn(\n",
      "/home/cican/miniconda3/envs/ml/lib/python3.12/site-packages/nevergrad/parametrization/core.py:348: UserWarning: Lambda as constraint is not advised because it may not be picklable.\n",
      "  warnings.warn(\"Lambda as constraint is not advised because it may not be picklable.\")\n",
      "/home/cican/miniconda3/envs/ml/lib/python3.12/site-packages/nevergrad/optimization/recaster.py:272: FinishedUnderlyingOptimizerWarning: Underlying optimizer has already converged, returning random points\n",
      "  warnings.warn(\n"
     ]
    },
    {
     "name": "stdout",
     "output_type": "stream",
     "text": [
      "Could not satisfy constraints.\n",
      "Optimizing for n=25 and m=5, trial 17/50\n"
     ]
    },
    {
     "name": "stderr",
     "output_type": "stream",
     "text": [
      "/home/cican/miniconda3/envs/ml/lib/python3.12/site-packages/nevergrad/parametrization/core.py:348: UserWarning: Lambda as constraint is not advised because it may not be picklable.\n",
      "  warnings.warn(\"Lambda as constraint is not advised because it may not be picklable.\")\n",
      "/home/cican/miniconda3/envs/ml/lib/python3.12/site-packages/nevergrad/optimization/recaster.py:272: FinishedUnderlyingOptimizerWarning: Underlying optimizer has already converged, returning random points\n",
      "  warnings.warn(\n",
      "/home/cican/miniconda3/envs/ml/lib/python3.12/site-packages/nevergrad/parametrization/core.py:348: UserWarning: Lambda as constraint is not advised because it may not be picklable.\n",
      "  warnings.warn(\"Lambda as constraint is not advised because it may not be picklable.\")\n",
      "/home/cican/miniconda3/envs/ml/lib/python3.12/site-packages/nevergrad/optimization/recaster.py:272: FinishedUnderlyingOptimizerWarning: Underlying optimizer has already converged, returning random points\n",
      "  warnings.warn(\n"
     ]
    },
    {
     "name": "stdout",
     "output_type": "stream",
     "text": [
      "Could not satisfy constraints.\n",
      "Optimizing for n=25 and m=5, trial 18/50\n"
     ]
    },
    {
     "name": "stderr",
     "output_type": "stream",
     "text": [
      "/home/cican/miniconda3/envs/ml/lib/python3.12/site-packages/nevergrad/parametrization/core.py:348: UserWarning: Lambda as constraint is not advised because it may not be picklable.\n",
      "  warnings.warn(\"Lambda as constraint is not advised because it may not be picklable.\")\n",
      "/home/cican/miniconda3/envs/ml/lib/python3.12/site-packages/nevergrad/optimization/recaster.py:272: FinishedUnderlyingOptimizerWarning: Underlying optimizer has already converged, returning random points\n",
      "  warnings.warn(\n"
     ]
    },
    {
     "name": "stdout",
     "output_type": "stream",
     "text": [
      "Could not satisfy constraints.\n"
     ]
    },
    {
     "name": "stderr",
     "output_type": "stream",
     "text": [
      "/home/cican/miniconda3/envs/ml/lib/python3.12/site-packages/nevergrad/parametrization/core.py:348: UserWarning: Lambda as constraint is not advised because it may not be picklable.\n",
      "  warnings.warn(\"Lambda as constraint is not advised because it may not be picklable.\")\n",
      "/home/cican/miniconda3/envs/ml/lib/python3.12/site-packages/nevergrad/optimization/recaster.py:272: FinishedUnderlyingOptimizerWarning: Underlying optimizer has already converged, returning random points\n",
      "  warnings.warn(\n"
     ]
    },
    {
     "name": "stdout",
     "output_type": "stream",
     "text": [
      "Optimizing for n=25 and m=5, trial 19/50\n"
     ]
    },
    {
     "name": "stderr",
     "output_type": "stream",
     "text": [
      "/home/cican/miniconda3/envs/ml/lib/python3.12/site-packages/nevergrad/parametrization/core.py:348: UserWarning: Lambda as constraint is not advised because it may not be picklable.\n",
      "  warnings.warn(\"Lambda as constraint is not advised because it may not be picklable.\")\n",
      "/home/cican/miniconda3/envs/ml/lib/python3.12/site-packages/nevergrad/optimization/recaster.py:272: FinishedUnderlyingOptimizerWarning: Underlying optimizer has already converged, returning random points\n",
      "  warnings.warn(\n"
     ]
    },
    {
     "name": "stdout",
     "output_type": "stream",
     "text": [
      "Could not satisfy constraints.\n"
     ]
    },
    {
     "name": "stderr",
     "output_type": "stream",
     "text": [
      "/home/cican/miniconda3/envs/ml/lib/python3.12/site-packages/nevergrad/parametrization/core.py:348: UserWarning: Lambda as constraint is not advised because it may not be picklable.\n",
      "  warnings.warn(\"Lambda as constraint is not advised because it may not be picklable.\")\n",
      "/home/cican/miniconda3/envs/ml/lib/python3.12/site-packages/nevergrad/optimization/recaster.py:272: FinishedUnderlyingOptimizerWarning: Underlying optimizer has already converged, returning random points\n",
      "  warnings.warn(\n"
     ]
    },
    {
     "name": "stdout",
     "output_type": "stream",
     "text": [
      "Optimizing for n=25 and m=5, trial 20/50\n"
     ]
    },
    {
     "name": "stderr",
     "output_type": "stream",
     "text": [
      "/home/cican/miniconda3/envs/ml/lib/python3.12/site-packages/nevergrad/parametrization/core.py:348: UserWarning: Lambda as constraint is not advised because it may not be picklable.\n",
      "  warnings.warn(\"Lambda as constraint is not advised because it may not be picklable.\")\n",
      "/home/cican/miniconda3/envs/ml/lib/python3.12/site-packages/nevergrad/optimization/recaster.py:272: FinishedUnderlyingOptimizerWarning: Underlying optimizer has already converged, returning random points\n",
      "  warnings.warn(\n",
      "/home/cican/miniconda3/envs/ml/lib/python3.12/site-packages/nevergrad/parametrization/core.py:348: UserWarning: Lambda as constraint is not advised because it may not be picklable.\n",
      "  warnings.warn(\"Lambda as constraint is not advised because it may not be picklable.\")\n",
      "/home/cican/miniconda3/envs/ml/lib/python3.12/site-packages/nevergrad/optimization/recaster.py:272: FinishedUnderlyingOptimizerWarning: Underlying optimizer has already converged, returning random points\n",
      "  warnings.warn(\n"
     ]
    },
    {
     "name": "stdout",
     "output_type": "stream",
     "text": [
      "Optimizing for n=25 and m=5, trial 21/50\n"
     ]
    },
    {
     "name": "stderr",
     "output_type": "stream",
     "text": [
      "/home/cican/miniconda3/envs/ml/lib/python3.12/site-packages/nevergrad/parametrization/core.py:348: UserWarning: Lambda as constraint is not advised because it may not be picklable.\n",
      "  warnings.warn(\"Lambda as constraint is not advised because it may not be picklable.\")\n",
      "/home/cican/miniconda3/envs/ml/lib/python3.12/site-packages/nevergrad/optimization/recaster.py:272: FinishedUnderlyingOptimizerWarning: Underlying optimizer has already converged, returning random points\n",
      "  warnings.warn(\n",
      "/home/cican/miniconda3/envs/ml/lib/python3.12/site-packages/nevergrad/parametrization/core.py:348: UserWarning: Lambda as constraint is not advised because it may not be picklable.\n",
      "  warnings.warn(\"Lambda as constraint is not advised because it may not be picklable.\")\n",
      "/home/cican/miniconda3/envs/ml/lib/python3.12/site-packages/nevergrad/optimization/recaster.py:272: FinishedUnderlyingOptimizerWarning: Underlying optimizer has already converged, returning random points\n",
      "  warnings.warn(\n"
     ]
    },
    {
     "name": "stdout",
     "output_type": "stream",
     "text": [
      "Optimizing for n=25 and m=5, trial 22/50\n"
     ]
    },
    {
     "name": "stderr",
     "output_type": "stream",
     "text": [
      "/home/cican/miniconda3/envs/ml/lib/python3.12/site-packages/nevergrad/parametrization/core.py:348: UserWarning: Lambda as constraint is not advised because it may not be picklable.\n",
      "  warnings.warn(\"Lambda as constraint is not advised because it may not be picklable.\")\n",
      "/home/cican/miniconda3/envs/ml/lib/python3.12/site-packages/nevergrad/optimization/recaster.py:272: FinishedUnderlyingOptimizerWarning: Underlying optimizer has already converged, returning random points\n",
      "  warnings.warn(\n"
     ]
    },
    {
     "name": "stdout",
     "output_type": "stream",
     "text": [
      "Could not satisfy constraints.\n"
     ]
    },
    {
     "name": "stderr",
     "output_type": "stream",
     "text": [
      "/home/cican/miniconda3/envs/ml/lib/python3.12/site-packages/nevergrad/parametrization/core.py:348: UserWarning: Lambda as constraint is not advised because it may not be picklable.\n",
      "  warnings.warn(\"Lambda as constraint is not advised because it may not be picklable.\")\n",
      "/home/cican/miniconda3/envs/ml/lib/python3.12/site-packages/nevergrad/optimization/recaster.py:272: FinishedUnderlyingOptimizerWarning: Underlying optimizer has already converged, returning random points\n",
      "  warnings.warn(\n"
     ]
    },
    {
     "name": "stdout",
     "output_type": "stream",
     "text": [
      "Optimizing for n=25 and m=5, trial 23/50\n"
     ]
    },
    {
     "name": "stderr",
     "output_type": "stream",
     "text": [
      "/home/cican/miniconda3/envs/ml/lib/python3.12/site-packages/nevergrad/parametrization/core.py:348: UserWarning: Lambda as constraint is not advised because it may not be picklable.\n",
      "  warnings.warn(\"Lambda as constraint is not advised because it may not be picklable.\")\n",
      "/home/cican/miniconda3/envs/ml/lib/python3.12/site-packages/nevergrad/optimization/recaster.py:272: FinishedUnderlyingOptimizerWarning: Underlying optimizer has already converged, returning random points\n",
      "  warnings.warn(\n",
      "/home/cican/miniconda3/envs/ml/lib/python3.12/site-packages/nevergrad/parametrization/core.py:348: UserWarning: Lambda as constraint is not advised because it may not be picklable.\n",
      "  warnings.warn(\"Lambda as constraint is not advised because it may not be picklable.\")\n",
      "/home/cican/miniconda3/envs/ml/lib/python3.12/site-packages/nevergrad/optimization/recaster.py:272: FinishedUnderlyingOptimizerWarning: Underlying optimizer has already converged, returning random points\n",
      "  warnings.warn(\n"
     ]
    },
    {
     "name": "stdout",
     "output_type": "stream",
     "text": [
      "Could not satisfy constraints.\n",
      "Optimizing for n=25 and m=5, trial 24/50\n"
     ]
    },
    {
     "name": "stderr",
     "output_type": "stream",
     "text": [
      "/home/cican/miniconda3/envs/ml/lib/python3.12/site-packages/nevergrad/parametrization/core.py:348: UserWarning: Lambda as constraint is not advised because it may not be picklable.\n",
      "  warnings.warn(\"Lambda as constraint is not advised because it may not be picklable.\")\n",
      "/home/cican/miniconda3/envs/ml/lib/python3.12/site-packages/nevergrad/optimization/recaster.py:272: FinishedUnderlyingOptimizerWarning: Underlying optimizer has already converged, returning random points\n",
      "  warnings.warn(\n",
      "/home/cican/miniconda3/envs/ml/lib/python3.12/site-packages/nevergrad/parametrization/core.py:348: UserWarning: Lambda as constraint is not advised because it may not be picklable.\n",
      "  warnings.warn(\"Lambda as constraint is not advised because it may not be picklable.\")\n",
      "/home/cican/miniconda3/envs/ml/lib/python3.12/site-packages/nevergrad/optimization/recaster.py:272: FinishedUnderlyingOptimizerWarning: Underlying optimizer has already converged, returning random points\n",
      "  warnings.warn(\n"
     ]
    },
    {
     "name": "stdout",
     "output_type": "stream",
     "text": [
      "Optimizing for n=25 and m=5, trial 25/50\n"
     ]
    },
    {
     "name": "stderr",
     "output_type": "stream",
     "text": [
      "/home/cican/miniconda3/envs/ml/lib/python3.12/site-packages/nevergrad/parametrization/core.py:348: UserWarning: Lambda as constraint is not advised because it may not be picklable.\n",
      "  warnings.warn(\"Lambda as constraint is not advised because it may not be picklable.\")\n",
      "/home/cican/miniconda3/envs/ml/lib/python3.12/site-packages/nevergrad/optimization/recaster.py:272: FinishedUnderlyingOptimizerWarning: Underlying optimizer has already converged, returning random points\n",
      "  warnings.warn(\n",
      "/home/cican/miniconda3/envs/ml/lib/python3.12/site-packages/nevergrad/parametrization/core.py:348: UserWarning: Lambda as constraint is not advised because it may not be picklable.\n",
      "  warnings.warn(\"Lambda as constraint is not advised because it may not be picklable.\")\n",
      "/home/cican/miniconda3/envs/ml/lib/python3.12/site-packages/nevergrad/optimization/recaster.py:272: FinishedUnderlyingOptimizerWarning: Underlying optimizer has already converged, returning random points\n",
      "  warnings.warn(\n"
     ]
    },
    {
     "name": "stdout",
     "output_type": "stream",
     "text": [
      "Optimizing for n=25 and m=5, trial 26/50\n"
     ]
    },
    {
     "name": "stderr",
     "output_type": "stream",
     "text": [
      "/home/cican/miniconda3/envs/ml/lib/python3.12/site-packages/nevergrad/parametrization/core.py:348: UserWarning: Lambda as constraint is not advised because it may not be picklable.\n",
      "  warnings.warn(\"Lambda as constraint is not advised because it may not be picklable.\")\n",
      "/home/cican/miniconda3/envs/ml/lib/python3.12/site-packages/nevergrad/optimization/recaster.py:272: FinishedUnderlyingOptimizerWarning: Underlying optimizer has already converged, returning random points\n",
      "  warnings.warn(\n",
      "/home/cican/miniconda3/envs/ml/lib/python3.12/site-packages/nevergrad/parametrization/core.py:348: UserWarning: Lambda as constraint is not advised because it may not be picklable.\n",
      "  warnings.warn(\"Lambda as constraint is not advised because it may not be picklable.\")\n",
      "/home/cican/miniconda3/envs/ml/lib/python3.12/site-packages/nevergrad/optimization/recaster.py:272: FinishedUnderlyingOptimizerWarning: Underlying optimizer has already converged, returning random points\n",
      "  warnings.warn(\n"
     ]
    },
    {
     "name": "stdout",
     "output_type": "stream",
     "text": [
      "Optimizing for n=25 and m=5, trial 27/50\n"
     ]
    },
    {
     "name": "stderr",
     "output_type": "stream",
     "text": [
      "/home/cican/miniconda3/envs/ml/lib/python3.12/site-packages/nevergrad/parametrization/core.py:348: UserWarning: Lambda as constraint is not advised because it may not be picklable.\n",
      "  warnings.warn(\"Lambda as constraint is not advised because it may not be picklable.\")\n",
      "/home/cican/miniconda3/envs/ml/lib/python3.12/site-packages/nevergrad/optimization/recaster.py:272: FinishedUnderlyingOptimizerWarning: Underlying optimizer has already converged, returning random points\n",
      "  warnings.warn(\n"
     ]
    },
    {
     "name": "stdout",
     "output_type": "stream",
     "text": [
      "Could not satisfy constraints.\n"
     ]
    },
    {
     "name": "stderr",
     "output_type": "stream",
     "text": [
      "/home/cican/miniconda3/envs/ml/lib/python3.12/site-packages/nevergrad/parametrization/core.py:348: UserWarning: Lambda as constraint is not advised because it may not be picklable.\n",
      "  warnings.warn(\"Lambda as constraint is not advised because it may not be picklable.\")\n",
      "/home/cican/miniconda3/envs/ml/lib/python3.12/site-packages/nevergrad/optimization/recaster.py:272: FinishedUnderlyingOptimizerWarning: Underlying optimizer has already converged, returning random points\n",
      "  warnings.warn(\n"
     ]
    },
    {
     "name": "stdout",
     "output_type": "stream",
     "text": [
      "Optimizing for n=25 and m=5, trial 28/50\n"
     ]
    },
    {
     "name": "stderr",
     "output_type": "stream",
     "text": [
      "/home/cican/miniconda3/envs/ml/lib/python3.12/site-packages/nevergrad/parametrization/core.py:348: UserWarning: Lambda as constraint is not advised because it may not be picklable.\n",
      "  warnings.warn(\"Lambda as constraint is not advised because it may not be picklable.\")\n",
      "/home/cican/miniconda3/envs/ml/lib/python3.12/site-packages/nevergrad/optimization/recaster.py:272: FinishedUnderlyingOptimizerWarning: Underlying optimizer has already converged, returning random points\n",
      "  warnings.warn(\n"
     ]
    },
    {
     "name": "stdout",
     "output_type": "stream",
     "text": [
      "Could not satisfy constraints.\n"
     ]
    },
    {
     "name": "stderr",
     "output_type": "stream",
     "text": [
      "/home/cican/miniconda3/envs/ml/lib/python3.12/site-packages/nevergrad/parametrization/core.py:348: UserWarning: Lambda as constraint is not advised because it may not be picklable.\n",
      "  warnings.warn(\"Lambda as constraint is not advised because it may not be picklable.\")\n",
      "/home/cican/miniconda3/envs/ml/lib/python3.12/site-packages/nevergrad/optimization/recaster.py:272: FinishedUnderlyingOptimizerWarning: Underlying optimizer has already converged, returning random points\n",
      "  warnings.warn(\n"
     ]
    },
    {
     "name": "stdout",
     "output_type": "stream",
     "text": [
      "Could not satisfy constraints.\n",
      "Optimizing for n=25 and m=5, trial 29/50\n"
     ]
    },
    {
     "name": "stderr",
     "output_type": "stream",
     "text": [
      "/home/cican/miniconda3/envs/ml/lib/python3.12/site-packages/nevergrad/parametrization/core.py:348: UserWarning: Lambda as constraint is not advised because it may not be picklable.\n",
      "  warnings.warn(\"Lambda as constraint is not advised because it may not be picklable.\")\n",
      "/home/cican/miniconda3/envs/ml/lib/python3.12/site-packages/nevergrad/optimization/recaster.py:272: FinishedUnderlyingOptimizerWarning: Underlying optimizer has already converged, returning random points\n",
      "  warnings.warn(\n"
     ]
    },
    {
     "name": "stdout",
     "output_type": "stream",
     "text": [
      "Could not satisfy constraints.\n"
     ]
    },
    {
     "name": "stderr",
     "output_type": "stream",
     "text": [
      "/home/cican/miniconda3/envs/ml/lib/python3.12/site-packages/nevergrad/parametrization/core.py:348: UserWarning: Lambda as constraint is not advised because it may not be picklable.\n",
      "  warnings.warn(\"Lambda as constraint is not advised because it may not be picklable.\")\n",
      "/home/cican/miniconda3/envs/ml/lib/python3.12/site-packages/nevergrad/optimization/recaster.py:272: FinishedUnderlyingOptimizerWarning: Underlying optimizer has already converged, returning random points\n",
      "  warnings.warn(\n"
     ]
    },
    {
     "name": "stdout",
     "output_type": "stream",
     "text": [
      "Could not satisfy constraints.\n",
      "Optimizing for n=25 and m=5, trial 30/50\n"
     ]
    },
    {
     "name": "stderr",
     "output_type": "stream",
     "text": [
      "/home/cican/miniconda3/envs/ml/lib/python3.12/site-packages/nevergrad/parametrization/core.py:348: UserWarning: Lambda as constraint is not advised because it may not be picklable.\n",
      "  warnings.warn(\"Lambda as constraint is not advised because it may not be picklable.\")\n",
      "/home/cican/miniconda3/envs/ml/lib/python3.12/site-packages/nevergrad/optimization/recaster.py:272: FinishedUnderlyingOptimizerWarning: Underlying optimizer has already converged, returning random points\n",
      "  warnings.warn(\n",
      "/home/cican/miniconda3/envs/ml/lib/python3.12/site-packages/nevergrad/parametrization/core.py:348: UserWarning: Lambda as constraint is not advised because it may not be picklable.\n",
      "  warnings.warn(\"Lambda as constraint is not advised because it may not be picklable.\")\n",
      "/home/cican/miniconda3/envs/ml/lib/python3.12/site-packages/nevergrad/optimization/recaster.py:272: FinishedUnderlyingOptimizerWarning: Underlying optimizer has already converged, returning random points\n",
      "  warnings.warn(\n"
     ]
    },
    {
     "name": "stdout",
     "output_type": "stream",
     "text": [
      "Could not satisfy constraints.\n",
      "Optimizing for n=25 and m=5, trial 31/50\n"
     ]
    },
    {
     "name": "stderr",
     "output_type": "stream",
     "text": [
      "/home/cican/miniconda3/envs/ml/lib/python3.12/site-packages/nevergrad/parametrization/core.py:348: UserWarning: Lambda as constraint is not advised because it may not be picklable.\n",
      "  warnings.warn(\"Lambda as constraint is not advised because it may not be picklable.\")\n",
      "/home/cican/miniconda3/envs/ml/lib/python3.12/site-packages/nevergrad/optimization/recaster.py:272: FinishedUnderlyingOptimizerWarning: Underlying optimizer has already converged, returning random points\n",
      "  warnings.warn(\n",
      "/home/cican/miniconda3/envs/ml/lib/python3.12/site-packages/nevergrad/parametrization/core.py:348: UserWarning: Lambda as constraint is not advised because it may not be picklable.\n",
      "  warnings.warn(\"Lambda as constraint is not advised because it may not be picklable.\")\n",
      "/home/cican/miniconda3/envs/ml/lib/python3.12/site-packages/nevergrad/optimization/recaster.py:272: FinishedUnderlyingOptimizerWarning: Underlying optimizer has already converged, returning random points\n",
      "  warnings.warn(\n"
     ]
    },
    {
     "name": "stdout",
     "output_type": "stream",
     "text": [
      "Could not satisfy constraints.\n",
      "Optimizing for n=25 and m=5, trial 32/50\n"
     ]
    },
    {
     "name": "stderr",
     "output_type": "stream",
     "text": [
      "/home/cican/miniconda3/envs/ml/lib/python3.12/site-packages/nevergrad/parametrization/core.py:348: UserWarning: Lambda as constraint is not advised because it may not be picklable.\n",
      "  warnings.warn(\"Lambda as constraint is not advised because it may not be picklable.\")\n",
      "/home/cican/miniconda3/envs/ml/lib/python3.12/site-packages/nevergrad/optimization/recaster.py:272: FinishedUnderlyingOptimizerWarning: Underlying optimizer has already converged, returning random points\n",
      "  warnings.warn(\n"
     ]
    },
    {
     "name": "stdout",
     "output_type": "stream",
     "text": [
      "Could not satisfy constraints.\n"
     ]
    },
    {
     "name": "stderr",
     "output_type": "stream",
     "text": [
      "/home/cican/miniconda3/envs/ml/lib/python3.12/site-packages/nevergrad/parametrization/core.py:348: UserWarning: Lambda as constraint is not advised because it may not be picklable.\n",
      "  warnings.warn(\"Lambda as constraint is not advised because it may not be picklable.\")\n",
      "/home/cican/miniconda3/envs/ml/lib/python3.12/site-packages/nevergrad/optimization/recaster.py:272: FinishedUnderlyingOptimizerWarning: Underlying optimizer has already converged, returning random points\n",
      "  warnings.warn(\n"
     ]
    },
    {
     "name": "stdout",
     "output_type": "stream",
     "text": [
      "Could not satisfy constraints.\n",
      "Optimizing for n=25 and m=5, trial 33/50\n"
     ]
    },
    {
     "name": "stderr",
     "output_type": "stream",
     "text": [
      "/home/cican/miniconda3/envs/ml/lib/python3.12/site-packages/nevergrad/parametrization/core.py:348: UserWarning: Lambda as constraint is not advised because it may not be picklable.\n",
      "  warnings.warn(\"Lambda as constraint is not advised because it may not be picklable.\")\n",
      "/home/cican/miniconda3/envs/ml/lib/python3.12/site-packages/nevergrad/optimization/recaster.py:272: FinishedUnderlyingOptimizerWarning: Underlying optimizer has already converged, returning random points\n",
      "  warnings.warn(\n"
     ]
    },
    {
     "name": "stdout",
     "output_type": "stream",
     "text": [
      "Could not satisfy constraints.\n"
     ]
    },
    {
     "name": "stderr",
     "output_type": "stream",
     "text": [
      "/home/cican/miniconda3/envs/ml/lib/python3.12/site-packages/nevergrad/parametrization/core.py:348: UserWarning: Lambda as constraint is not advised because it may not be picklable.\n",
      "  warnings.warn(\"Lambda as constraint is not advised because it may not be picklable.\")\n",
      "/home/cican/miniconda3/envs/ml/lib/python3.12/site-packages/nevergrad/optimization/recaster.py:272: FinishedUnderlyingOptimizerWarning: Underlying optimizer has already converged, returning random points\n",
      "  warnings.warn(\n"
     ]
    },
    {
     "name": "stdout",
     "output_type": "stream",
     "text": [
      "Could not satisfy constraints.\n",
      "Optimizing for n=25 and m=5, trial 34/50\n"
     ]
    },
    {
     "name": "stderr",
     "output_type": "stream",
     "text": [
      "/home/cican/miniconda3/envs/ml/lib/python3.12/site-packages/nevergrad/parametrization/core.py:348: UserWarning: Lambda as constraint is not advised because it may not be picklable.\n",
      "  warnings.warn(\"Lambda as constraint is not advised because it may not be picklable.\")\n",
      "/home/cican/miniconda3/envs/ml/lib/python3.12/site-packages/nevergrad/optimization/recaster.py:272: FinishedUnderlyingOptimizerWarning: Underlying optimizer has already converged, returning random points\n",
      "  warnings.warn(\n"
     ]
    },
    {
     "name": "stdout",
     "output_type": "stream",
     "text": [
      "Could not satisfy constraints.\n"
     ]
    },
    {
     "name": "stderr",
     "output_type": "stream",
     "text": [
      "/home/cican/miniconda3/envs/ml/lib/python3.12/site-packages/nevergrad/parametrization/core.py:348: UserWarning: Lambda as constraint is not advised because it may not be picklable.\n",
      "  warnings.warn(\"Lambda as constraint is not advised because it may not be picklable.\")\n",
      "/home/cican/miniconda3/envs/ml/lib/python3.12/site-packages/nevergrad/optimization/recaster.py:272: FinishedUnderlyingOptimizerWarning: Underlying optimizer has already converged, returning random points\n",
      "  warnings.warn(\n"
     ]
    },
    {
     "name": "stdout",
     "output_type": "stream",
     "text": [
      "Could not satisfy constraints.\n",
      "Optimizing for n=25 and m=5, trial 35/50\n"
     ]
    },
    {
     "name": "stderr",
     "output_type": "stream",
     "text": [
      "/home/cican/miniconda3/envs/ml/lib/python3.12/site-packages/nevergrad/parametrization/core.py:348: UserWarning: Lambda as constraint is not advised because it may not be picklable.\n",
      "  warnings.warn(\"Lambda as constraint is not advised because it may not be picklable.\")\n",
      "/home/cican/miniconda3/envs/ml/lib/python3.12/site-packages/nevergrad/optimization/recaster.py:272: FinishedUnderlyingOptimizerWarning: Underlying optimizer has already converged, returning random points\n",
      "  warnings.warn(\n",
      "/home/cican/miniconda3/envs/ml/lib/python3.12/site-packages/nevergrad/parametrization/core.py:348: UserWarning: Lambda as constraint is not advised because it may not be picklable.\n",
      "  warnings.warn(\"Lambda as constraint is not advised because it may not be picklable.\")\n",
      "/home/cican/miniconda3/envs/ml/lib/python3.12/site-packages/nevergrad/optimization/recaster.py:272: FinishedUnderlyingOptimizerWarning: Underlying optimizer has already converged, returning random points\n",
      "  warnings.warn(\n"
     ]
    },
    {
     "name": "stdout",
     "output_type": "stream",
     "text": [
      "Could not satisfy constraints.\n",
      "Optimizing for n=25 and m=5, trial 36/50\n"
     ]
    },
    {
     "name": "stderr",
     "output_type": "stream",
     "text": [
      "/home/cican/miniconda3/envs/ml/lib/python3.12/site-packages/nevergrad/parametrization/core.py:348: UserWarning: Lambda as constraint is not advised because it may not be picklable.\n",
      "  warnings.warn(\"Lambda as constraint is not advised because it may not be picklable.\")\n",
      "/home/cican/miniconda3/envs/ml/lib/python3.12/site-packages/nevergrad/optimization/recaster.py:272: FinishedUnderlyingOptimizerWarning: Underlying optimizer has already converged, returning random points\n",
      "  warnings.warn(\n",
      "/home/cican/miniconda3/envs/ml/lib/python3.12/site-packages/nevergrad/parametrization/core.py:348: UserWarning: Lambda as constraint is not advised because it may not be picklable.\n",
      "  warnings.warn(\"Lambda as constraint is not advised because it may not be picklable.\")\n",
      "/home/cican/miniconda3/envs/ml/lib/python3.12/site-packages/nevergrad/optimization/recaster.py:272: FinishedUnderlyingOptimizerWarning: Underlying optimizer has already converged, returning random points\n",
      "  warnings.warn(\n"
     ]
    },
    {
     "name": "stdout",
     "output_type": "stream",
     "text": [
      "Could not satisfy constraints.\n",
      "Optimizing for n=25 and m=5, trial 37/50\n"
     ]
    },
    {
     "name": "stderr",
     "output_type": "stream",
     "text": [
      "/home/cican/miniconda3/envs/ml/lib/python3.12/site-packages/nevergrad/parametrization/core.py:348: UserWarning: Lambda as constraint is not advised because it may not be picklable.\n",
      "  warnings.warn(\"Lambda as constraint is not advised because it may not be picklable.\")\n",
      "/home/cican/miniconda3/envs/ml/lib/python3.12/site-packages/nevergrad/optimization/recaster.py:272: FinishedUnderlyingOptimizerWarning: Underlying optimizer has already converged, returning random points\n",
      "  warnings.warn(\n",
      "/home/cican/miniconda3/envs/ml/lib/python3.12/site-packages/nevergrad/parametrization/core.py:348: UserWarning: Lambda as constraint is not advised because it may not be picklable.\n",
      "  warnings.warn(\"Lambda as constraint is not advised because it may not be picklable.\")\n",
      "/home/cican/miniconda3/envs/ml/lib/python3.12/site-packages/nevergrad/optimization/recaster.py:272: FinishedUnderlyingOptimizerWarning: Underlying optimizer has already converged, returning random points\n",
      "  warnings.warn(\n"
     ]
    },
    {
     "name": "stdout",
     "output_type": "stream",
     "text": [
      "Could not satisfy constraints.\n",
      "Optimizing for n=25 and m=5, trial 38/50\n"
     ]
    },
    {
     "name": "stderr",
     "output_type": "stream",
     "text": [
      "/home/cican/miniconda3/envs/ml/lib/python3.12/site-packages/nevergrad/parametrization/core.py:348: UserWarning: Lambda as constraint is not advised because it may not be picklable.\n",
      "  warnings.warn(\"Lambda as constraint is not advised because it may not be picklable.\")\n",
      "/home/cican/miniconda3/envs/ml/lib/python3.12/site-packages/nevergrad/optimization/recaster.py:272: FinishedUnderlyingOptimizerWarning: Underlying optimizer has already converged, returning random points\n",
      "  warnings.warn(\n"
     ]
    },
    {
     "name": "stdout",
     "output_type": "stream",
     "text": [
      "Could not satisfy constraints.\n"
     ]
    },
    {
     "name": "stderr",
     "output_type": "stream",
     "text": [
      "/home/cican/miniconda3/envs/ml/lib/python3.12/site-packages/nevergrad/parametrization/core.py:348: UserWarning: Lambda as constraint is not advised because it may not be picklable.\n",
      "  warnings.warn(\"Lambda as constraint is not advised because it may not be picklable.\")\n",
      "/home/cican/miniconda3/envs/ml/lib/python3.12/site-packages/nevergrad/optimization/recaster.py:272: FinishedUnderlyingOptimizerWarning: Underlying optimizer has already converged, returning random points\n",
      "  warnings.warn(\n"
     ]
    },
    {
     "name": "stdout",
     "output_type": "stream",
     "text": [
      "Could not satisfy constraints.\n",
      "Optimizing for n=25 and m=5, trial 39/50\n"
     ]
    },
    {
     "name": "stderr",
     "output_type": "stream",
     "text": [
      "/home/cican/miniconda3/envs/ml/lib/python3.12/site-packages/nevergrad/parametrization/core.py:348: UserWarning: Lambda as constraint is not advised because it may not be picklable.\n",
      "  warnings.warn(\"Lambda as constraint is not advised because it may not be picklable.\")\n",
      "/home/cican/miniconda3/envs/ml/lib/python3.12/site-packages/nevergrad/optimization/recaster.py:272: FinishedUnderlyingOptimizerWarning: Underlying optimizer has already converged, returning random points\n",
      "  warnings.warn(\n",
      "/home/cican/miniconda3/envs/ml/lib/python3.12/site-packages/nevergrad/parametrization/core.py:348: UserWarning: Lambda as constraint is not advised because it may not be picklable.\n",
      "  warnings.warn(\"Lambda as constraint is not advised because it may not be picklable.\")\n",
      "/home/cican/miniconda3/envs/ml/lib/python3.12/site-packages/nevergrad/optimization/recaster.py:272: FinishedUnderlyingOptimizerWarning: Underlying optimizer has already converged, returning random points\n",
      "  warnings.warn(\n"
     ]
    },
    {
     "name": "stdout",
     "output_type": "stream",
     "text": [
      "Optimizing for n=25 and m=5, trial 40/50\n"
     ]
    },
    {
     "name": "stderr",
     "output_type": "stream",
     "text": [
      "/home/cican/miniconda3/envs/ml/lib/python3.12/site-packages/nevergrad/parametrization/core.py:348: UserWarning: Lambda as constraint is not advised because it may not be picklable.\n",
      "  warnings.warn(\"Lambda as constraint is not advised because it may not be picklable.\")\n",
      "/home/cican/miniconda3/envs/ml/lib/python3.12/site-packages/nevergrad/optimization/recaster.py:272: FinishedUnderlyingOptimizerWarning: Underlying optimizer has already converged, returning random points\n",
      "  warnings.warn(\n"
     ]
    },
    {
     "name": "stdout",
     "output_type": "stream",
     "text": [
      "Could not satisfy constraints.\n"
     ]
    },
    {
     "name": "stderr",
     "output_type": "stream",
     "text": [
      "/home/cican/miniconda3/envs/ml/lib/python3.12/site-packages/nevergrad/parametrization/core.py:348: UserWarning: Lambda as constraint is not advised because it may not be picklable.\n",
      "  warnings.warn(\"Lambda as constraint is not advised because it may not be picklable.\")\n",
      "/home/cican/miniconda3/envs/ml/lib/python3.12/site-packages/nevergrad/optimization/recaster.py:272: FinishedUnderlyingOptimizerWarning: Underlying optimizer has already converged, returning random points\n",
      "  warnings.warn(\n"
     ]
    },
    {
     "name": "stdout",
     "output_type": "stream",
     "text": [
      "Optimizing for n=25 and m=5, trial 41/50\n"
     ]
    },
    {
     "name": "stderr",
     "output_type": "stream",
     "text": [
      "/home/cican/miniconda3/envs/ml/lib/python3.12/site-packages/nevergrad/parametrization/core.py:348: UserWarning: Lambda as constraint is not advised because it may not be picklable.\n",
      "  warnings.warn(\"Lambda as constraint is not advised because it may not be picklable.\")\n",
      "/home/cican/miniconda3/envs/ml/lib/python3.12/site-packages/nevergrad/optimization/recaster.py:272: FinishedUnderlyingOptimizerWarning: Underlying optimizer has already converged, returning random points\n",
      "  warnings.warn(\n",
      "/home/cican/miniconda3/envs/ml/lib/python3.12/site-packages/nevergrad/parametrization/core.py:348: UserWarning: Lambda as constraint is not advised because it may not be picklable.\n",
      "  warnings.warn(\"Lambda as constraint is not advised because it may not be picklable.\")\n",
      "/home/cican/miniconda3/envs/ml/lib/python3.12/site-packages/nevergrad/optimization/recaster.py:272: FinishedUnderlyingOptimizerWarning: Underlying optimizer has already converged, returning random points\n",
      "  warnings.warn(\n"
     ]
    },
    {
     "name": "stdout",
     "output_type": "stream",
     "text": [
      "Could not satisfy constraints.\n",
      "Optimizing for n=25 and m=5, trial 42/50\n"
     ]
    },
    {
     "name": "stderr",
     "output_type": "stream",
     "text": [
      "/home/cican/miniconda3/envs/ml/lib/python3.12/site-packages/nevergrad/parametrization/core.py:348: UserWarning: Lambda as constraint is not advised because it may not be picklable.\n",
      "  warnings.warn(\"Lambda as constraint is not advised because it may not be picklable.\")\n",
      "/home/cican/miniconda3/envs/ml/lib/python3.12/site-packages/nevergrad/optimization/recaster.py:272: FinishedUnderlyingOptimizerWarning: Underlying optimizer has already converged, returning random points\n",
      "  warnings.warn(\n"
     ]
    },
    {
     "name": "stdout",
     "output_type": "stream",
     "text": [
      "Could not satisfy constraints.\n"
     ]
    },
    {
     "name": "stderr",
     "output_type": "stream",
     "text": [
      "/home/cican/miniconda3/envs/ml/lib/python3.12/site-packages/nevergrad/parametrization/core.py:348: UserWarning: Lambda as constraint is not advised because it may not be picklable.\n",
      "  warnings.warn(\"Lambda as constraint is not advised because it may not be picklable.\")\n",
      "/home/cican/miniconda3/envs/ml/lib/python3.12/site-packages/nevergrad/optimization/recaster.py:272: FinishedUnderlyingOptimizerWarning: Underlying optimizer has already converged, returning random points\n",
      "  warnings.warn(\n"
     ]
    },
    {
     "name": "stdout",
     "output_type": "stream",
     "text": [
      "Could not satisfy constraints.\n",
      "Optimizing for n=25 and m=5, trial 43/50\n"
     ]
    },
    {
     "name": "stderr",
     "output_type": "stream",
     "text": [
      "/home/cican/miniconda3/envs/ml/lib/python3.12/site-packages/nevergrad/parametrization/core.py:348: UserWarning: Lambda as constraint is not advised because it may not be picklable.\n",
      "  warnings.warn(\"Lambda as constraint is not advised because it may not be picklable.\")\n",
      "/home/cican/miniconda3/envs/ml/lib/python3.12/site-packages/nevergrad/optimization/recaster.py:272: FinishedUnderlyingOptimizerWarning: Underlying optimizer has already converged, returning random points\n",
      "  warnings.warn(\n",
      "/home/cican/miniconda3/envs/ml/lib/python3.12/site-packages/nevergrad/parametrization/core.py:348: UserWarning: Lambda as constraint is not advised because it may not be picklable.\n",
      "  warnings.warn(\"Lambda as constraint is not advised because it may not be picklable.\")\n",
      "/home/cican/miniconda3/envs/ml/lib/python3.12/site-packages/nevergrad/optimization/recaster.py:272: FinishedUnderlyingOptimizerWarning: Underlying optimizer has already converged, returning random points\n",
      "  warnings.warn(\n"
     ]
    },
    {
     "name": "stdout",
     "output_type": "stream",
     "text": [
      "Optimizing for n=25 and m=5, trial 44/50\n"
     ]
    },
    {
     "name": "stderr",
     "output_type": "stream",
     "text": [
      "/home/cican/miniconda3/envs/ml/lib/python3.12/site-packages/nevergrad/parametrization/core.py:348: UserWarning: Lambda as constraint is not advised because it may not be picklable.\n",
      "  warnings.warn(\"Lambda as constraint is not advised because it may not be picklable.\")\n",
      "/home/cican/miniconda3/envs/ml/lib/python3.12/site-packages/nevergrad/optimization/recaster.py:272: FinishedUnderlyingOptimizerWarning: Underlying optimizer has already converged, returning random points\n",
      "  warnings.warn(\n"
     ]
    },
    {
     "name": "stdout",
     "output_type": "stream",
     "text": [
      "Could not satisfy constraints.\n"
     ]
    },
    {
     "name": "stderr",
     "output_type": "stream",
     "text": [
      "/home/cican/miniconda3/envs/ml/lib/python3.12/site-packages/nevergrad/parametrization/core.py:348: UserWarning: Lambda as constraint is not advised because it may not be picklable.\n",
      "  warnings.warn(\"Lambda as constraint is not advised because it may not be picklable.\")\n",
      "/home/cican/miniconda3/envs/ml/lib/python3.12/site-packages/nevergrad/optimization/recaster.py:272: FinishedUnderlyingOptimizerWarning: Underlying optimizer has already converged, returning random points\n",
      "  warnings.warn(\n"
     ]
    },
    {
     "name": "stdout",
     "output_type": "stream",
     "text": [
      "Could not satisfy constraints.\n",
      "Optimizing for n=25 and m=5, trial 45/50\n"
     ]
    },
    {
     "name": "stderr",
     "output_type": "stream",
     "text": [
      "/home/cican/miniconda3/envs/ml/lib/python3.12/site-packages/nevergrad/parametrization/core.py:348: UserWarning: Lambda as constraint is not advised because it may not be picklable.\n",
      "  warnings.warn(\"Lambda as constraint is not advised because it may not be picklable.\")\n",
      "/home/cican/miniconda3/envs/ml/lib/python3.12/site-packages/nevergrad/optimization/recaster.py:272: FinishedUnderlyingOptimizerWarning: Underlying optimizer has already converged, returning random points\n",
      "  warnings.warn(\n"
     ]
    },
    {
     "name": "stdout",
     "output_type": "stream",
     "text": [
      "Could not satisfy constraints.\n"
     ]
    },
    {
     "name": "stderr",
     "output_type": "stream",
     "text": [
      "/home/cican/miniconda3/envs/ml/lib/python3.12/site-packages/nevergrad/parametrization/core.py:348: UserWarning: Lambda as constraint is not advised because it may not be picklable.\n",
      "  warnings.warn(\"Lambda as constraint is not advised because it may not be picklable.\")\n",
      "/home/cican/miniconda3/envs/ml/lib/python3.12/site-packages/nevergrad/optimization/recaster.py:272: FinishedUnderlyingOptimizerWarning: Underlying optimizer has already converged, returning random points\n",
      "  warnings.warn(\n"
     ]
    },
    {
     "name": "stdout",
     "output_type": "stream",
     "text": [
      "Could not satisfy constraints.\n",
      "Optimizing for n=25 and m=5, trial 46/50\n"
     ]
    },
    {
     "name": "stderr",
     "output_type": "stream",
     "text": [
      "/home/cican/miniconda3/envs/ml/lib/python3.12/site-packages/nevergrad/parametrization/core.py:348: UserWarning: Lambda as constraint is not advised because it may not be picklable.\n",
      "  warnings.warn(\"Lambda as constraint is not advised because it may not be picklable.\")\n",
      "/home/cican/miniconda3/envs/ml/lib/python3.12/site-packages/nevergrad/optimization/recaster.py:272: FinishedUnderlyingOptimizerWarning: Underlying optimizer has already converged, returning random points\n",
      "  warnings.warn(\n",
      "/home/cican/miniconda3/envs/ml/lib/python3.12/site-packages/nevergrad/parametrization/core.py:348: UserWarning: Lambda as constraint is not advised because it may not be picklable.\n",
      "  warnings.warn(\"Lambda as constraint is not advised because it may not be picklable.\")\n",
      "/home/cican/miniconda3/envs/ml/lib/python3.12/site-packages/nevergrad/optimization/recaster.py:272: FinishedUnderlyingOptimizerWarning: Underlying optimizer has already converged, returning random points\n",
      "  warnings.warn(\n"
     ]
    },
    {
     "name": "stdout",
     "output_type": "stream",
     "text": [
      "Could not satisfy constraints.\n",
      "Optimizing for n=25 and m=5, trial 47/50\n"
     ]
    },
    {
     "name": "stderr",
     "output_type": "stream",
     "text": [
      "/home/cican/miniconda3/envs/ml/lib/python3.12/site-packages/nevergrad/parametrization/core.py:348: UserWarning: Lambda as constraint is not advised because it may not be picklable.\n",
      "  warnings.warn(\"Lambda as constraint is not advised because it may not be picklable.\")\n",
      "/home/cican/miniconda3/envs/ml/lib/python3.12/site-packages/nevergrad/optimization/recaster.py:272: FinishedUnderlyingOptimizerWarning: Underlying optimizer has already converged, returning random points\n",
      "  warnings.warn(\n"
     ]
    },
    {
     "name": "stdout",
     "output_type": "stream",
     "text": [
      "Could not satisfy constraints.\n"
     ]
    },
    {
     "name": "stderr",
     "output_type": "stream",
     "text": [
      "/home/cican/miniconda3/envs/ml/lib/python3.12/site-packages/nevergrad/parametrization/core.py:348: UserWarning: Lambda as constraint is not advised because it may not be picklable.\n",
      "  warnings.warn(\"Lambda as constraint is not advised because it may not be picklable.\")\n",
      "/home/cican/miniconda3/envs/ml/lib/python3.12/site-packages/nevergrad/optimization/recaster.py:272: FinishedUnderlyingOptimizerWarning: Underlying optimizer has already converged, returning random points\n",
      "  warnings.warn(\n"
     ]
    },
    {
     "name": "stdout",
     "output_type": "stream",
     "text": [
      "Could not satisfy constraints.\n",
      "Optimizing for n=25 and m=5, trial 48/50\n"
     ]
    },
    {
     "name": "stderr",
     "output_type": "stream",
     "text": [
      "/home/cican/miniconda3/envs/ml/lib/python3.12/site-packages/nevergrad/parametrization/core.py:348: UserWarning: Lambda as constraint is not advised because it may not be picklable.\n",
      "  warnings.warn(\"Lambda as constraint is not advised because it may not be picklable.\")\n",
      "/home/cican/miniconda3/envs/ml/lib/python3.12/site-packages/nevergrad/optimization/recaster.py:272: FinishedUnderlyingOptimizerWarning: Underlying optimizer has already converged, returning random points\n",
      "  warnings.warn(\n"
     ]
    },
    {
     "name": "stdout",
     "output_type": "stream",
     "text": [
      "Could not satisfy constraints.\n"
     ]
    },
    {
     "name": "stderr",
     "output_type": "stream",
     "text": [
      "/home/cican/miniconda3/envs/ml/lib/python3.12/site-packages/nevergrad/parametrization/core.py:348: UserWarning: Lambda as constraint is not advised because it may not be picklable.\n",
      "  warnings.warn(\"Lambda as constraint is not advised because it may not be picklable.\")\n",
      "/home/cican/miniconda3/envs/ml/lib/python3.12/site-packages/nevergrad/optimization/recaster.py:272: FinishedUnderlyingOptimizerWarning: Underlying optimizer has already converged, returning random points\n",
      "  warnings.warn(\n"
     ]
    },
    {
     "name": "stdout",
     "output_type": "stream",
     "text": [
      "Optimizing for n=25 and m=5, trial 49/50\n"
     ]
    },
    {
     "name": "stderr",
     "output_type": "stream",
     "text": [
      "/home/cican/miniconda3/envs/ml/lib/python3.12/site-packages/nevergrad/parametrization/core.py:348: UserWarning: Lambda as constraint is not advised because it may not be picklable.\n",
      "  warnings.warn(\"Lambda as constraint is not advised because it may not be picklable.\")\n",
      "/home/cican/miniconda3/envs/ml/lib/python3.12/site-packages/nevergrad/optimization/recaster.py:272: FinishedUnderlyingOptimizerWarning: Underlying optimizer has already converged, returning random points\n",
      "  warnings.warn(\n"
     ]
    },
    {
     "name": "stdout",
     "output_type": "stream",
     "text": [
      "Could not satisfy constraints.\n"
     ]
    },
    {
     "name": "stderr",
     "output_type": "stream",
     "text": [
      "/home/cican/miniconda3/envs/ml/lib/python3.12/site-packages/nevergrad/parametrization/core.py:348: UserWarning: Lambda as constraint is not advised because it may not be picklable.\n",
      "  warnings.warn(\"Lambda as constraint is not advised because it may not be picklable.\")\n",
      "/home/cican/miniconda3/envs/ml/lib/python3.12/site-packages/nevergrad/optimization/recaster.py:272: FinishedUnderlyingOptimizerWarning: Underlying optimizer has already converged, returning random points\n",
      "  warnings.warn(\n"
     ]
    },
    {
     "name": "stdout",
     "output_type": "stream",
     "text": [
      "Could not satisfy constraints.\n",
      "Optimizing for n=25 and m=5, trial 50/50\n"
     ]
    },
    {
     "name": "stderr",
     "output_type": "stream",
     "text": [
      "/home/cican/miniconda3/envs/ml/lib/python3.12/site-packages/nevergrad/parametrization/core.py:348: UserWarning: Lambda as constraint is not advised because it may not be picklable.\n",
      "  warnings.warn(\"Lambda as constraint is not advised because it may not be picklable.\")\n",
      "/home/cican/miniconda3/envs/ml/lib/python3.12/site-packages/nevergrad/optimization/recaster.py:272: FinishedUnderlyingOptimizerWarning: Underlying optimizer has already converged, returning random points\n",
      "  warnings.warn(\n",
      "/home/cican/miniconda3/envs/ml/lib/python3.12/site-packages/nevergrad/parametrization/core.py:348: UserWarning: Lambda as constraint is not advised because it may not be picklable.\n",
      "  warnings.warn(\"Lambda as constraint is not advised because it may not be picklable.\")\n",
      "/home/cican/miniconda3/envs/ml/lib/python3.12/site-packages/nevergrad/optimization/recaster.py:272: FinishedUnderlyingOptimizerWarning: Underlying optimizer has already converged, returning random points\n",
      "  warnings.warn(\n"
     ]
    },
    {
     "name": "stdout",
     "output_type": "stream",
     "text": [
      "Optimizing for n=25 and m=10, trial 1/50\n"
     ]
    },
    {
     "name": "stderr",
     "output_type": "stream",
     "text": [
      "/home/cican/miniconda3/envs/ml/lib/python3.12/site-packages/nevergrad/parametrization/core.py:348: UserWarning: Lambda as constraint is not advised because it may not be picklable.\n",
      "  warnings.warn(\"Lambda as constraint is not advised because it may not be picklable.\")\n",
      "/home/cican/miniconda3/envs/ml/lib/python3.12/site-packages/nevergrad/optimization/recaster.py:272: FinishedUnderlyingOptimizerWarning: Underlying optimizer has already converged, returning random points\n",
      "  warnings.warn(\n",
      "/home/cican/miniconda3/envs/ml/lib/python3.12/site-packages/nevergrad/parametrization/core.py:348: UserWarning: Lambda as constraint is not advised because it may not be picklable.\n",
      "  warnings.warn(\"Lambda as constraint is not advised because it may not be picklable.\")\n",
      "/home/cican/miniconda3/envs/ml/lib/python3.12/site-packages/nevergrad/optimization/recaster.py:272: FinishedUnderlyingOptimizerWarning: Underlying optimizer has already converged, returning random points\n",
      "  warnings.warn(\n"
     ]
    },
    {
     "name": "stdout",
     "output_type": "stream",
     "text": [
      "Could not satisfy constraints.\n",
      "Optimizing for n=25 and m=10, trial 2/50\n"
     ]
    },
    {
     "name": "stderr",
     "output_type": "stream",
     "text": [
      "/home/cican/miniconda3/envs/ml/lib/python3.12/site-packages/nevergrad/parametrization/core.py:348: UserWarning: Lambda as constraint is not advised because it may not be picklable.\n",
      "  warnings.warn(\"Lambda as constraint is not advised because it may not be picklable.\")\n",
      "/home/cican/miniconda3/envs/ml/lib/python3.12/site-packages/nevergrad/optimization/recaster.py:272: FinishedUnderlyingOptimizerWarning: Underlying optimizer has already converged, returning random points\n",
      "  warnings.warn(\n",
      "/home/cican/miniconda3/envs/ml/lib/python3.12/site-packages/nevergrad/parametrization/core.py:348: UserWarning: Lambda as constraint is not advised because it may not be picklable.\n",
      "  warnings.warn(\"Lambda as constraint is not advised because it may not be picklable.\")\n",
      "/home/cican/miniconda3/envs/ml/lib/python3.12/site-packages/nevergrad/optimization/recaster.py:272: FinishedUnderlyingOptimizerWarning: Underlying optimizer has already converged, returning random points\n",
      "  warnings.warn(\n"
     ]
    },
    {
     "name": "stdout",
     "output_type": "stream",
     "text": [
      "Optimizing for n=25 and m=10, trial 3/50\n"
     ]
    },
    {
     "name": "stderr",
     "output_type": "stream",
     "text": [
      "/home/cican/miniconda3/envs/ml/lib/python3.12/site-packages/nevergrad/parametrization/core.py:348: UserWarning: Lambda as constraint is not advised because it may not be picklable.\n",
      "  warnings.warn(\"Lambda as constraint is not advised because it may not be picklable.\")\n",
      "/home/cican/miniconda3/envs/ml/lib/python3.12/site-packages/nevergrad/optimization/recaster.py:272: FinishedUnderlyingOptimizerWarning: Underlying optimizer has already converged, returning random points\n",
      "  warnings.warn(\n",
      "/home/cican/miniconda3/envs/ml/lib/python3.12/site-packages/nevergrad/parametrization/core.py:348: UserWarning: Lambda as constraint is not advised because it may not be picklable.\n",
      "  warnings.warn(\"Lambda as constraint is not advised because it may not be picklable.\")\n",
      "/home/cican/miniconda3/envs/ml/lib/python3.12/site-packages/nevergrad/optimization/recaster.py:272: FinishedUnderlyingOptimizerWarning: Underlying optimizer has already converged, returning random points\n",
      "  warnings.warn(\n"
     ]
    },
    {
     "name": "stdout",
     "output_type": "stream",
     "text": [
      "Could not satisfy constraints.\n",
      "Optimizing for n=25 and m=10, trial 4/50\n"
     ]
    },
    {
     "name": "stderr",
     "output_type": "stream",
     "text": [
      "/home/cican/miniconda3/envs/ml/lib/python3.12/site-packages/nevergrad/parametrization/core.py:348: UserWarning: Lambda as constraint is not advised because it may not be picklable.\n",
      "  warnings.warn(\"Lambda as constraint is not advised because it may not be picklable.\")\n",
      "/home/cican/miniconda3/envs/ml/lib/python3.12/site-packages/nevergrad/optimization/recaster.py:272: FinishedUnderlyingOptimizerWarning: Underlying optimizer has already converged, returning random points\n",
      "  warnings.warn(\n"
     ]
    },
    {
     "name": "stdout",
     "output_type": "stream",
     "text": [
      "Could not satisfy constraints.\n"
     ]
    },
    {
     "name": "stderr",
     "output_type": "stream",
     "text": [
      "/home/cican/miniconda3/envs/ml/lib/python3.12/site-packages/nevergrad/parametrization/core.py:348: UserWarning: Lambda as constraint is not advised because it may not be picklable.\n",
      "  warnings.warn(\"Lambda as constraint is not advised because it may not be picklable.\")\n",
      "/home/cican/miniconda3/envs/ml/lib/python3.12/site-packages/nevergrad/optimization/recaster.py:272: FinishedUnderlyingOptimizerWarning: Underlying optimizer has already converged, returning random points\n",
      "  warnings.warn(\n"
     ]
    },
    {
     "name": "stdout",
     "output_type": "stream",
     "text": [
      "Could not satisfy constraints.\n",
      "Optimizing for n=25 and m=10, trial 5/50\n"
     ]
    },
    {
     "name": "stderr",
     "output_type": "stream",
     "text": [
      "/home/cican/miniconda3/envs/ml/lib/python3.12/site-packages/nevergrad/parametrization/core.py:348: UserWarning: Lambda as constraint is not advised because it may not be picklable.\n",
      "  warnings.warn(\"Lambda as constraint is not advised because it may not be picklable.\")\n",
      "/home/cican/miniconda3/envs/ml/lib/python3.12/site-packages/nevergrad/optimization/recaster.py:272: FinishedUnderlyingOptimizerWarning: Underlying optimizer has already converged, returning random points\n",
      "  warnings.warn(\n"
     ]
    },
    {
     "name": "stdout",
     "output_type": "stream",
     "text": [
      "Could not satisfy constraints.\n"
     ]
    },
    {
     "name": "stderr",
     "output_type": "stream",
     "text": [
      "/home/cican/miniconda3/envs/ml/lib/python3.12/site-packages/nevergrad/parametrization/core.py:348: UserWarning: Lambda as constraint is not advised because it may not be picklable.\n",
      "  warnings.warn(\"Lambda as constraint is not advised because it may not be picklable.\")\n",
      "/home/cican/miniconda3/envs/ml/lib/python3.12/site-packages/nevergrad/optimization/recaster.py:272: FinishedUnderlyingOptimizerWarning: Underlying optimizer has already converged, returning random points\n",
      "  warnings.warn(\n"
     ]
    },
    {
     "name": "stdout",
     "output_type": "stream",
     "text": [
      "Optimizing for n=25 and m=10, trial 6/50\n"
     ]
    },
    {
     "name": "stderr",
     "output_type": "stream",
     "text": [
      "/home/cican/miniconda3/envs/ml/lib/python3.12/site-packages/nevergrad/parametrization/core.py:348: UserWarning: Lambda as constraint is not advised because it may not be picklable.\n",
      "  warnings.warn(\"Lambda as constraint is not advised because it may not be picklable.\")\n",
      "/home/cican/miniconda3/envs/ml/lib/python3.12/site-packages/nevergrad/optimization/recaster.py:272: FinishedUnderlyingOptimizerWarning: Underlying optimizer has already converged, returning random points\n",
      "  warnings.warn(\n",
      "/home/cican/miniconda3/envs/ml/lib/python3.12/site-packages/nevergrad/parametrization/core.py:348: UserWarning: Lambda as constraint is not advised because it may not be picklable.\n",
      "  warnings.warn(\"Lambda as constraint is not advised because it may not be picklable.\")\n",
      "/home/cican/miniconda3/envs/ml/lib/python3.12/site-packages/nevergrad/optimization/recaster.py:272: FinishedUnderlyingOptimizerWarning: Underlying optimizer has already converged, returning random points\n",
      "  warnings.warn(\n"
     ]
    },
    {
     "name": "stdout",
     "output_type": "stream",
     "text": [
      "Could not satisfy constraints.\n",
      "Optimizing for n=25 and m=10, trial 7/50\n"
     ]
    },
    {
     "name": "stderr",
     "output_type": "stream",
     "text": [
      "/home/cican/miniconda3/envs/ml/lib/python3.12/site-packages/nevergrad/parametrization/core.py:348: UserWarning: Lambda as constraint is not advised because it may not be picklable.\n",
      "  warnings.warn(\"Lambda as constraint is not advised because it may not be picklable.\")\n",
      "/home/cican/miniconda3/envs/ml/lib/python3.12/site-packages/nevergrad/optimization/recaster.py:272: FinishedUnderlyingOptimizerWarning: Underlying optimizer has already converged, returning random points\n",
      "  warnings.warn(\n"
     ]
    },
    {
     "name": "stdout",
     "output_type": "stream",
     "text": [
      "Could not satisfy constraints.\n"
     ]
    },
    {
     "name": "stderr",
     "output_type": "stream",
     "text": [
      "/home/cican/miniconda3/envs/ml/lib/python3.12/site-packages/nevergrad/parametrization/core.py:348: UserWarning: Lambda as constraint is not advised because it may not be picklable.\n",
      "  warnings.warn(\"Lambda as constraint is not advised because it may not be picklable.\")\n",
      "/home/cican/miniconda3/envs/ml/lib/python3.12/site-packages/nevergrad/optimization/recaster.py:272: FinishedUnderlyingOptimizerWarning: Underlying optimizer has already converged, returning random points\n",
      "  warnings.warn(\n"
     ]
    },
    {
     "name": "stdout",
     "output_type": "stream",
     "text": [
      "Could not satisfy constraints.\n",
      "Optimizing for n=25 and m=10, trial 8/50\n"
     ]
    },
    {
     "name": "stderr",
     "output_type": "stream",
     "text": [
      "/home/cican/miniconda3/envs/ml/lib/python3.12/site-packages/nevergrad/parametrization/core.py:348: UserWarning: Lambda as constraint is not advised because it may not be picklable.\n",
      "  warnings.warn(\"Lambda as constraint is not advised because it may not be picklable.\")\n",
      "/home/cican/miniconda3/envs/ml/lib/python3.12/site-packages/nevergrad/optimization/recaster.py:272: FinishedUnderlyingOptimizerWarning: Underlying optimizer has already converged, returning random points\n",
      "  warnings.warn(\n",
      "/home/cican/miniconda3/envs/ml/lib/python3.12/site-packages/nevergrad/parametrization/core.py:348: UserWarning: Lambda as constraint is not advised because it may not be picklable.\n",
      "  warnings.warn(\"Lambda as constraint is not advised because it may not be picklable.\")\n",
      "/home/cican/miniconda3/envs/ml/lib/python3.12/site-packages/nevergrad/optimization/recaster.py:272: FinishedUnderlyingOptimizerWarning: Underlying optimizer has already converged, returning random points\n",
      "  warnings.warn(\n"
     ]
    },
    {
     "name": "stdout",
     "output_type": "stream",
     "text": [
      "Could not satisfy constraints.\n",
      "Optimizing for n=25 and m=10, trial 9/50\n"
     ]
    },
    {
     "name": "stderr",
     "output_type": "stream",
     "text": [
      "/home/cican/miniconda3/envs/ml/lib/python3.12/site-packages/nevergrad/parametrization/core.py:348: UserWarning: Lambda as constraint is not advised because it may not be picklable.\n",
      "  warnings.warn(\"Lambda as constraint is not advised because it may not be picklable.\")\n",
      "/home/cican/miniconda3/envs/ml/lib/python3.12/site-packages/nevergrad/optimization/recaster.py:272: FinishedUnderlyingOptimizerWarning: Underlying optimizer has already converged, returning random points\n",
      "  warnings.warn(\n"
     ]
    },
    {
     "name": "stdout",
     "output_type": "stream",
     "text": [
      "Could not satisfy constraints.\n"
     ]
    },
    {
     "name": "stderr",
     "output_type": "stream",
     "text": [
      "/home/cican/miniconda3/envs/ml/lib/python3.12/site-packages/nevergrad/parametrization/core.py:348: UserWarning: Lambda as constraint is not advised because it may not be picklable.\n",
      "  warnings.warn(\"Lambda as constraint is not advised because it may not be picklable.\")\n",
      "/home/cican/miniconda3/envs/ml/lib/python3.12/site-packages/nevergrad/optimization/recaster.py:272: FinishedUnderlyingOptimizerWarning: Underlying optimizer has already converged, returning random points\n",
      "  warnings.warn(\n"
     ]
    },
    {
     "name": "stdout",
     "output_type": "stream",
     "text": [
      "Could not satisfy constraints.\n",
      "Optimizing for n=25 and m=10, trial 10/50\n"
     ]
    },
    {
     "name": "stderr",
     "output_type": "stream",
     "text": [
      "/home/cican/miniconda3/envs/ml/lib/python3.12/site-packages/nevergrad/parametrization/core.py:348: UserWarning: Lambda as constraint is not advised because it may not be picklable.\n",
      "  warnings.warn(\"Lambda as constraint is not advised because it may not be picklable.\")\n",
      "/home/cican/miniconda3/envs/ml/lib/python3.12/site-packages/nevergrad/optimization/recaster.py:272: FinishedUnderlyingOptimizerWarning: Underlying optimizer has already converged, returning random points\n",
      "  warnings.warn(\n"
     ]
    },
    {
     "name": "stdout",
     "output_type": "stream",
     "text": [
      "Could not satisfy constraints.\n"
     ]
    },
    {
     "name": "stderr",
     "output_type": "stream",
     "text": [
      "/home/cican/miniconda3/envs/ml/lib/python3.12/site-packages/nevergrad/parametrization/core.py:348: UserWarning: Lambda as constraint is not advised because it may not be picklable.\n",
      "  warnings.warn(\"Lambda as constraint is not advised because it may not be picklable.\")\n",
      "/home/cican/miniconda3/envs/ml/lib/python3.12/site-packages/nevergrad/optimization/recaster.py:272: FinishedUnderlyingOptimizerWarning: Underlying optimizer has already converged, returning random points\n",
      "  warnings.warn(\n"
     ]
    },
    {
     "name": "stdout",
     "output_type": "stream",
     "text": [
      "Optimizing for n=25 and m=10, trial 11/50\n"
     ]
    },
    {
     "name": "stderr",
     "output_type": "stream",
     "text": [
      "/home/cican/miniconda3/envs/ml/lib/python3.12/site-packages/nevergrad/parametrization/core.py:348: UserWarning: Lambda as constraint is not advised because it may not be picklable.\n",
      "  warnings.warn(\"Lambda as constraint is not advised because it may not be picklable.\")\n",
      "/home/cican/miniconda3/envs/ml/lib/python3.12/site-packages/nevergrad/optimization/recaster.py:272: FinishedUnderlyingOptimizerWarning: Underlying optimizer has already converged, returning random points\n",
      "  warnings.warn(\n"
     ]
    },
    {
     "name": "stdout",
     "output_type": "stream",
     "text": [
      "Could not satisfy constraints.\n"
     ]
    },
    {
     "name": "stderr",
     "output_type": "stream",
     "text": [
      "/home/cican/miniconda3/envs/ml/lib/python3.12/site-packages/nevergrad/parametrization/core.py:348: UserWarning: Lambda as constraint is not advised because it may not be picklable.\n",
      "  warnings.warn(\"Lambda as constraint is not advised because it may not be picklable.\")\n",
      "/home/cican/miniconda3/envs/ml/lib/python3.12/site-packages/nevergrad/optimization/recaster.py:272: FinishedUnderlyingOptimizerWarning: Underlying optimizer has already converged, returning random points\n",
      "  warnings.warn(\n"
     ]
    },
    {
     "name": "stdout",
     "output_type": "stream",
     "text": [
      "Could not satisfy constraints.\n",
      "Optimizing for n=25 and m=10, trial 12/50\n"
     ]
    },
    {
     "name": "stderr",
     "output_type": "stream",
     "text": [
      "/home/cican/miniconda3/envs/ml/lib/python3.12/site-packages/nevergrad/parametrization/core.py:348: UserWarning: Lambda as constraint is not advised because it may not be picklable.\n",
      "  warnings.warn(\"Lambda as constraint is not advised because it may not be picklable.\")\n",
      "/home/cican/miniconda3/envs/ml/lib/python3.12/site-packages/nevergrad/optimization/recaster.py:272: FinishedUnderlyingOptimizerWarning: Underlying optimizer has already converged, returning random points\n",
      "  warnings.warn(\n"
     ]
    },
    {
     "name": "stdout",
     "output_type": "stream",
     "text": [
      "Could not satisfy constraints.\n"
     ]
    },
    {
     "name": "stderr",
     "output_type": "stream",
     "text": [
      "/home/cican/miniconda3/envs/ml/lib/python3.12/site-packages/nevergrad/parametrization/core.py:348: UserWarning: Lambda as constraint is not advised because it may not be picklable.\n",
      "  warnings.warn(\"Lambda as constraint is not advised because it may not be picklable.\")\n",
      "/home/cican/miniconda3/envs/ml/lib/python3.12/site-packages/nevergrad/optimization/recaster.py:272: FinishedUnderlyingOptimizerWarning: Underlying optimizer has already converged, returning random points\n",
      "  warnings.warn(\n"
     ]
    },
    {
     "name": "stdout",
     "output_type": "stream",
     "text": [
      "Optimizing for n=25 and m=10, trial 13/50\n"
     ]
    },
    {
     "name": "stderr",
     "output_type": "stream",
     "text": [
      "/home/cican/miniconda3/envs/ml/lib/python3.12/site-packages/nevergrad/parametrization/core.py:348: UserWarning: Lambda as constraint is not advised because it may not be picklable.\n",
      "  warnings.warn(\"Lambda as constraint is not advised because it may not be picklable.\")\n",
      "/home/cican/miniconda3/envs/ml/lib/python3.12/site-packages/nevergrad/optimization/recaster.py:272: FinishedUnderlyingOptimizerWarning: Underlying optimizer has already converged, returning random points\n",
      "  warnings.warn(\n",
      "/home/cican/miniconda3/envs/ml/lib/python3.12/site-packages/nevergrad/parametrization/core.py:348: UserWarning: Lambda as constraint is not advised because it may not be picklable.\n",
      "  warnings.warn(\"Lambda as constraint is not advised because it may not be picklable.\")\n",
      "/home/cican/miniconda3/envs/ml/lib/python3.12/site-packages/nevergrad/optimization/recaster.py:272: FinishedUnderlyingOptimizerWarning: Underlying optimizer has already converged, returning random points\n",
      "  warnings.warn(\n"
     ]
    },
    {
     "name": "stdout",
     "output_type": "stream",
     "text": [
      "Optimizing for n=25 and m=10, trial 14/50\n"
     ]
    },
    {
     "name": "stderr",
     "output_type": "stream",
     "text": [
      "/home/cican/miniconda3/envs/ml/lib/python3.12/site-packages/nevergrad/parametrization/core.py:348: UserWarning: Lambda as constraint is not advised because it may not be picklable.\n",
      "  warnings.warn(\"Lambda as constraint is not advised because it may not be picklable.\")\n",
      "/home/cican/miniconda3/envs/ml/lib/python3.12/site-packages/nevergrad/optimization/recaster.py:272: FinishedUnderlyingOptimizerWarning: Underlying optimizer has already converged, returning random points\n",
      "  warnings.warn(\n",
      "/home/cican/miniconda3/envs/ml/lib/python3.12/site-packages/nevergrad/parametrization/core.py:348: UserWarning: Lambda as constraint is not advised because it may not be picklable.\n",
      "  warnings.warn(\"Lambda as constraint is not advised because it may not be picklable.\")\n",
      "/home/cican/miniconda3/envs/ml/lib/python3.12/site-packages/nevergrad/optimization/recaster.py:272: FinishedUnderlyingOptimizerWarning: Underlying optimizer has already converged, returning random points\n",
      "  warnings.warn(\n"
     ]
    },
    {
     "name": "stdout",
     "output_type": "stream",
     "text": [
      "Optimizing for n=25 and m=10, trial 15/50\n"
     ]
    },
    {
     "name": "stderr",
     "output_type": "stream",
     "text": [
      "/home/cican/miniconda3/envs/ml/lib/python3.12/site-packages/nevergrad/parametrization/core.py:348: UserWarning: Lambda as constraint is not advised because it may not be picklable.\n",
      "  warnings.warn(\"Lambda as constraint is not advised because it may not be picklable.\")\n",
      "/home/cican/miniconda3/envs/ml/lib/python3.12/site-packages/nevergrad/optimization/recaster.py:272: FinishedUnderlyingOptimizerWarning: Underlying optimizer has already converged, returning random points\n",
      "  warnings.warn(\n"
     ]
    },
    {
     "name": "stdout",
     "output_type": "stream",
     "text": [
      "Could not satisfy constraints.\n"
     ]
    },
    {
     "name": "stderr",
     "output_type": "stream",
     "text": [
      "/home/cican/miniconda3/envs/ml/lib/python3.12/site-packages/nevergrad/parametrization/core.py:348: UserWarning: Lambda as constraint is not advised because it may not be picklable.\n",
      "  warnings.warn(\"Lambda as constraint is not advised because it may not be picklable.\")\n",
      "/home/cican/miniconda3/envs/ml/lib/python3.12/site-packages/nevergrad/optimization/recaster.py:272: FinishedUnderlyingOptimizerWarning: Underlying optimizer has already converged, returning random points\n",
      "  warnings.warn(\n"
     ]
    },
    {
     "name": "stdout",
     "output_type": "stream",
     "text": [
      "Could not satisfy constraints.\n",
      "Optimizing for n=25 and m=10, trial 16/50\n"
     ]
    },
    {
     "name": "stderr",
     "output_type": "stream",
     "text": [
      "/home/cican/miniconda3/envs/ml/lib/python3.12/site-packages/nevergrad/parametrization/core.py:348: UserWarning: Lambda as constraint is not advised because it may not be picklable.\n",
      "  warnings.warn(\"Lambda as constraint is not advised because it may not be picklable.\")\n",
      "/home/cican/miniconda3/envs/ml/lib/python3.12/site-packages/nevergrad/optimization/recaster.py:272: FinishedUnderlyingOptimizerWarning: Underlying optimizer has already converged, returning random points\n",
      "  warnings.warn(\n",
      "/home/cican/miniconda3/envs/ml/lib/python3.12/site-packages/nevergrad/parametrization/core.py:348: UserWarning: Lambda as constraint is not advised because it may not be picklable.\n",
      "  warnings.warn(\"Lambda as constraint is not advised because it may not be picklable.\")\n",
      "/home/cican/miniconda3/envs/ml/lib/python3.12/site-packages/nevergrad/optimization/recaster.py:272: FinishedUnderlyingOptimizerWarning: Underlying optimizer has already converged, returning random points\n",
      "  warnings.warn(\n"
     ]
    },
    {
     "name": "stdout",
     "output_type": "stream",
     "text": [
      "Could not satisfy constraints.\n",
      "Optimizing for n=25 and m=10, trial 17/50\n"
     ]
    },
    {
     "name": "stderr",
     "output_type": "stream",
     "text": [
      "/home/cican/miniconda3/envs/ml/lib/python3.12/site-packages/nevergrad/parametrization/core.py:348: UserWarning: Lambda as constraint is not advised because it may not be picklable.\n",
      "  warnings.warn(\"Lambda as constraint is not advised because it may not be picklable.\")\n",
      "/home/cican/miniconda3/envs/ml/lib/python3.12/site-packages/nevergrad/optimization/recaster.py:272: FinishedUnderlyingOptimizerWarning: Underlying optimizer has already converged, returning random points\n",
      "  warnings.warn(\n"
     ]
    },
    {
     "name": "stdout",
     "output_type": "stream",
     "text": [
      "Could not satisfy constraints.\n"
     ]
    },
    {
     "name": "stderr",
     "output_type": "stream",
     "text": [
      "/home/cican/miniconda3/envs/ml/lib/python3.12/site-packages/nevergrad/parametrization/core.py:348: UserWarning: Lambda as constraint is not advised because it may not be picklable.\n",
      "  warnings.warn(\"Lambda as constraint is not advised because it may not be picklable.\")\n",
      "/home/cican/miniconda3/envs/ml/lib/python3.12/site-packages/nevergrad/optimization/recaster.py:272: FinishedUnderlyingOptimizerWarning: Underlying optimizer has already converged, returning random points\n",
      "  warnings.warn(\n"
     ]
    },
    {
     "name": "stdout",
     "output_type": "stream",
     "text": [
      "Could not satisfy constraints.\n",
      "Optimizing for n=25 and m=10, trial 18/50\n"
     ]
    },
    {
     "name": "stderr",
     "output_type": "stream",
     "text": [
      "/home/cican/miniconda3/envs/ml/lib/python3.12/site-packages/nevergrad/parametrization/core.py:348: UserWarning: Lambda as constraint is not advised because it may not be picklable.\n",
      "  warnings.warn(\"Lambda as constraint is not advised because it may not be picklable.\")\n",
      "/home/cican/miniconda3/envs/ml/lib/python3.12/site-packages/nevergrad/optimization/recaster.py:272: FinishedUnderlyingOptimizerWarning: Underlying optimizer has already converged, returning random points\n",
      "  warnings.warn(\n"
     ]
    },
    {
     "name": "stdout",
     "output_type": "stream",
     "text": [
      "Could not satisfy constraints.\n"
     ]
    },
    {
     "name": "stderr",
     "output_type": "stream",
     "text": [
      "/home/cican/miniconda3/envs/ml/lib/python3.12/site-packages/nevergrad/parametrization/core.py:348: UserWarning: Lambda as constraint is not advised because it may not be picklable.\n",
      "  warnings.warn(\"Lambda as constraint is not advised because it may not be picklable.\")\n",
      "/home/cican/miniconda3/envs/ml/lib/python3.12/site-packages/nevergrad/optimization/recaster.py:272: FinishedUnderlyingOptimizerWarning: Underlying optimizer has already converged, returning random points\n",
      "  warnings.warn(\n"
     ]
    },
    {
     "name": "stdout",
     "output_type": "stream",
     "text": [
      "Could not satisfy constraints.\n",
      "Optimizing for n=25 and m=10, trial 19/50\n"
     ]
    },
    {
     "name": "stderr",
     "output_type": "stream",
     "text": [
      "/home/cican/miniconda3/envs/ml/lib/python3.12/site-packages/nevergrad/parametrization/core.py:348: UserWarning: Lambda as constraint is not advised because it may not be picklable.\n",
      "  warnings.warn(\"Lambda as constraint is not advised because it may not be picklable.\")\n",
      "/home/cican/miniconda3/envs/ml/lib/python3.12/site-packages/nevergrad/optimization/recaster.py:272: FinishedUnderlyingOptimizerWarning: Underlying optimizer has already converged, returning random points\n",
      "  warnings.warn(\n",
      "/home/cican/miniconda3/envs/ml/lib/python3.12/site-packages/nevergrad/parametrization/core.py:348: UserWarning: Lambda as constraint is not advised because it may not be picklable.\n",
      "  warnings.warn(\"Lambda as constraint is not advised because it may not be picklable.\")\n",
      "/home/cican/miniconda3/envs/ml/lib/python3.12/site-packages/nevergrad/optimization/recaster.py:272: FinishedUnderlyingOptimizerWarning: Underlying optimizer has already converged, returning random points\n",
      "  warnings.warn(\n"
     ]
    },
    {
     "name": "stdout",
     "output_type": "stream",
     "text": [
      "Optimizing for n=25 and m=10, trial 20/50\n"
     ]
    },
    {
     "name": "stderr",
     "output_type": "stream",
     "text": [
      "/home/cican/miniconda3/envs/ml/lib/python3.12/site-packages/nevergrad/parametrization/core.py:348: UserWarning: Lambda as constraint is not advised because it may not be picklable.\n",
      "  warnings.warn(\"Lambda as constraint is not advised because it may not be picklable.\")\n",
      "/home/cican/miniconda3/envs/ml/lib/python3.12/site-packages/nevergrad/optimization/recaster.py:272: FinishedUnderlyingOptimizerWarning: Underlying optimizer has already converged, returning random points\n",
      "  warnings.warn(\n"
     ]
    },
    {
     "name": "stdout",
     "output_type": "stream",
     "text": [
      "Could not satisfy constraints.\n"
     ]
    },
    {
     "name": "stderr",
     "output_type": "stream",
     "text": [
      "/home/cican/miniconda3/envs/ml/lib/python3.12/site-packages/nevergrad/parametrization/core.py:348: UserWarning: Lambda as constraint is not advised because it may not be picklable.\n",
      "  warnings.warn(\"Lambda as constraint is not advised because it may not be picklable.\")\n",
      "/home/cican/miniconda3/envs/ml/lib/python3.12/site-packages/nevergrad/optimization/recaster.py:272: FinishedUnderlyingOptimizerWarning: Underlying optimizer has already converged, returning random points\n",
      "  warnings.warn(\n"
     ]
    },
    {
     "name": "stdout",
     "output_type": "stream",
     "text": [
      "Optimizing for n=25 and m=10, trial 21/50\n"
     ]
    },
    {
     "name": "stderr",
     "output_type": "stream",
     "text": [
      "/home/cican/miniconda3/envs/ml/lib/python3.12/site-packages/nevergrad/parametrization/core.py:348: UserWarning: Lambda as constraint is not advised because it may not be picklable.\n",
      "  warnings.warn(\"Lambda as constraint is not advised because it may not be picklable.\")\n",
      "/home/cican/miniconda3/envs/ml/lib/python3.12/site-packages/nevergrad/optimization/recaster.py:272: FinishedUnderlyingOptimizerWarning: Underlying optimizer has already converged, returning random points\n",
      "  warnings.warn(\n"
     ]
    },
    {
     "name": "stdout",
     "output_type": "stream",
     "text": [
      "Could not satisfy constraints.\n"
     ]
    },
    {
     "name": "stderr",
     "output_type": "stream",
     "text": [
      "/home/cican/miniconda3/envs/ml/lib/python3.12/site-packages/nevergrad/parametrization/core.py:348: UserWarning: Lambda as constraint is not advised because it may not be picklable.\n",
      "  warnings.warn(\"Lambda as constraint is not advised because it may not be picklable.\")\n",
      "/home/cican/miniconda3/envs/ml/lib/python3.12/site-packages/nevergrad/optimization/recaster.py:272: FinishedUnderlyingOptimizerWarning: Underlying optimizer has already converged, returning random points\n",
      "  warnings.warn(\n"
     ]
    },
    {
     "name": "stdout",
     "output_type": "stream",
     "text": [
      "Could not satisfy constraints.\n",
      "Optimizing for n=25 and m=10, trial 22/50\n"
     ]
    },
    {
     "name": "stderr",
     "output_type": "stream",
     "text": [
      "/home/cican/miniconda3/envs/ml/lib/python3.12/site-packages/nevergrad/parametrization/core.py:348: UserWarning: Lambda as constraint is not advised because it may not be picklable.\n",
      "  warnings.warn(\"Lambda as constraint is not advised because it may not be picklable.\")\n",
      "/home/cican/miniconda3/envs/ml/lib/python3.12/site-packages/nevergrad/optimization/recaster.py:272: FinishedUnderlyingOptimizerWarning: Underlying optimizer has already converged, returning random points\n",
      "  warnings.warn(\n",
      "/home/cican/miniconda3/envs/ml/lib/python3.12/site-packages/nevergrad/parametrization/core.py:348: UserWarning: Lambda as constraint is not advised because it may not be picklable.\n",
      "  warnings.warn(\"Lambda as constraint is not advised because it may not be picklable.\")\n",
      "/home/cican/miniconda3/envs/ml/lib/python3.12/site-packages/nevergrad/optimization/recaster.py:272: FinishedUnderlyingOptimizerWarning: Underlying optimizer has already converged, returning random points\n",
      "  warnings.warn(\n"
     ]
    },
    {
     "name": "stdout",
     "output_type": "stream",
     "text": [
      "Could not satisfy constraints.\n",
      "Optimizing for n=25 and m=10, trial 23/50\n"
     ]
    },
    {
     "name": "stderr",
     "output_type": "stream",
     "text": [
      "/home/cican/miniconda3/envs/ml/lib/python3.12/site-packages/nevergrad/parametrization/core.py:348: UserWarning: Lambda as constraint is not advised because it may not be picklable.\n",
      "  warnings.warn(\"Lambda as constraint is not advised because it may not be picklable.\")\n",
      "/home/cican/miniconda3/envs/ml/lib/python3.12/site-packages/nevergrad/optimization/recaster.py:272: FinishedUnderlyingOptimizerWarning: Underlying optimizer has already converged, returning random points\n",
      "  warnings.warn(\n"
     ]
    },
    {
     "name": "stdout",
     "output_type": "stream",
     "text": [
      "Could not satisfy constraints.\n"
     ]
    },
    {
     "name": "stderr",
     "output_type": "stream",
     "text": [
      "/home/cican/miniconda3/envs/ml/lib/python3.12/site-packages/nevergrad/parametrization/core.py:348: UserWarning: Lambda as constraint is not advised because it may not be picklable.\n",
      "  warnings.warn(\"Lambda as constraint is not advised because it may not be picklable.\")\n",
      "/home/cican/miniconda3/envs/ml/lib/python3.12/site-packages/nevergrad/optimization/recaster.py:272: FinishedUnderlyingOptimizerWarning: Underlying optimizer has already converged, returning random points\n",
      "  warnings.warn(\n"
     ]
    },
    {
     "name": "stdout",
     "output_type": "stream",
     "text": [
      "Could not satisfy constraints.\n",
      "Optimizing for n=25 and m=10, trial 24/50\n"
     ]
    },
    {
     "name": "stderr",
     "output_type": "stream",
     "text": [
      "/home/cican/miniconda3/envs/ml/lib/python3.12/site-packages/nevergrad/parametrization/core.py:348: UserWarning: Lambda as constraint is not advised because it may not be picklable.\n",
      "  warnings.warn(\"Lambda as constraint is not advised because it may not be picklable.\")\n",
      "/home/cican/miniconda3/envs/ml/lib/python3.12/site-packages/nevergrad/optimization/recaster.py:272: FinishedUnderlyingOptimizerWarning: Underlying optimizer has already converged, returning random points\n",
      "  warnings.warn(\n",
      "/home/cican/miniconda3/envs/ml/lib/python3.12/site-packages/nevergrad/parametrization/core.py:348: UserWarning: Lambda as constraint is not advised because it may not be picklable.\n",
      "  warnings.warn(\"Lambda as constraint is not advised because it may not be picklable.\")\n",
      "/home/cican/miniconda3/envs/ml/lib/python3.12/site-packages/nevergrad/optimization/recaster.py:272: FinishedUnderlyingOptimizerWarning: Underlying optimizer has already converged, returning random points\n",
      "  warnings.warn(\n"
     ]
    },
    {
     "name": "stdout",
     "output_type": "stream",
     "text": [
      "Could not satisfy constraints.\n",
      "Optimizing for n=25 and m=10, trial 25/50\n"
     ]
    },
    {
     "name": "stderr",
     "output_type": "stream",
     "text": [
      "/home/cican/miniconda3/envs/ml/lib/python3.12/site-packages/nevergrad/parametrization/core.py:348: UserWarning: Lambda as constraint is not advised because it may not be picklable.\n",
      "  warnings.warn(\"Lambda as constraint is not advised because it may not be picklable.\")\n",
      "/home/cican/miniconda3/envs/ml/lib/python3.12/site-packages/nevergrad/optimization/recaster.py:272: FinishedUnderlyingOptimizerWarning: Underlying optimizer has already converged, returning random points\n",
      "  warnings.warn(\n"
     ]
    },
    {
     "name": "stdout",
     "output_type": "stream",
     "text": [
      "Could not satisfy constraints.\n"
     ]
    },
    {
     "name": "stderr",
     "output_type": "stream",
     "text": [
      "/home/cican/miniconda3/envs/ml/lib/python3.12/site-packages/nevergrad/parametrization/core.py:348: UserWarning: Lambda as constraint is not advised because it may not be picklable.\n",
      "  warnings.warn(\"Lambda as constraint is not advised because it may not be picklable.\")\n",
      "/home/cican/miniconda3/envs/ml/lib/python3.12/site-packages/nevergrad/optimization/recaster.py:272: FinishedUnderlyingOptimizerWarning: Underlying optimizer has already converged, returning random points\n",
      "  warnings.warn(\n"
     ]
    },
    {
     "name": "stdout",
     "output_type": "stream",
     "text": [
      "Could not satisfy constraints.\n",
      "Optimizing for n=25 and m=10, trial 26/50\n"
     ]
    },
    {
     "name": "stderr",
     "output_type": "stream",
     "text": [
      "/home/cican/miniconda3/envs/ml/lib/python3.12/site-packages/nevergrad/parametrization/core.py:348: UserWarning: Lambda as constraint is not advised because it may not be picklable.\n",
      "  warnings.warn(\"Lambda as constraint is not advised because it may not be picklable.\")\n",
      "/home/cican/miniconda3/envs/ml/lib/python3.12/site-packages/nevergrad/optimization/recaster.py:272: FinishedUnderlyingOptimizerWarning: Underlying optimizer has already converged, returning random points\n",
      "  warnings.warn(\n",
      "/home/cican/miniconda3/envs/ml/lib/python3.12/site-packages/nevergrad/parametrization/core.py:348: UserWarning: Lambda as constraint is not advised because it may not be picklable.\n",
      "  warnings.warn(\"Lambda as constraint is not advised because it may not be picklable.\")\n",
      "/home/cican/miniconda3/envs/ml/lib/python3.12/site-packages/nevergrad/optimization/recaster.py:272: FinishedUnderlyingOptimizerWarning: Underlying optimizer has already converged, returning random points\n",
      "  warnings.warn(\n"
     ]
    },
    {
     "name": "stdout",
     "output_type": "stream",
     "text": [
      "Could not satisfy constraints.\n",
      "Optimizing for n=25 and m=10, trial 27/50\n"
     ]
    },
    {
     "name": "stderr",
     "output_type": "stream",
     "text": [
      "/home/cican/miniconda3/envs/ml/lib/python3.12/site-packages/nevergrad/parametrization/core.py:348: UserWarning: Lambda as constraint is not advised because it may not be picklable.\n",
      "  warnings.warn(\"Lambda as constraint is not advised because it may not be picklable.\")\n",
      "/home/cican/miniconda3/envs/ml/lib/python3.12/site-packages/nevergrad/optimization/recaster.py:272: FinishedUnderlyingOptimizerWarning: Underlying optimizer has already converged, returning random points\n",
      "  warnings.warn(\n"
     ]
    },
    {
     "name": "stdout",
     "output_type": "stream",
     "text": [
      "Could not satisfy constraints.\n"
     ]
    },
    {
     "name": "stderr",
     "output_type": "stream",
     "text": [
      "/home/cican/miniconda3/envs/ml/lib/python3.12/site-packages/nevergrad/parametrization/core.py:348: UserWarning: Lambda as constraint is not advised because it may not be picklable.\n",
      "  warnings.warn(\"Lambda as constraint is not advised because it may not be picklable.\")\n",
      "/home/cican/miniconda3/envs/ml/lib/python3.12/site-packages/nevergrad/optimization/recaster.py:272: FinishedUnderlyingOptimizerWarning: Underlying optimizer has already converged, returning random points\n",
      "  warnings.warn(\n"
     ]
    },
    {
     "name": "stdout",
     "output_type": "stream",
     "text": [
      "Optimizing for n=25 and m=10, trial 28/50\n"
     ]
    },
    {
     "name": "stderr",
     "output_type": "stream",
     "text": [
      "/home/cican/miniconda3/envs/ml/lib/python3.12/site-packages/nevergrad/parametrization/core.py:348: UserWarning: Lambda as constraint is not advised because it may not be picklable.\n",
      "  warnings.warn(\"Lambda as constraint is not advised because it may not be picklable.\")\n",
      "/home/cican/miniconda3/envs/ml/lib/python3.12/site-packages/nevergrad/optimization/recaster.py:272: FinishedUnderlyingOptimizerWarning: Underlying optimizer has already converged, returning random points\n",
      "  warnings.warn(\n"
     ]
    },
    {
     "name": "stdout",
     "output_type": "stream",
     "text": [
      "Could not satisfy constraints.\n"
     ]
    },
    {
     "name": "stderr",
     "output_type": "stream",
     "text": [
      "/home/cican/miniconda3/envs/ml/lib/python3.12/site-packages/nevergrad/parametrization/core.py:348: UserWarning: Lambda as constraint is not advised because it may not be picklable.\n",
      "  warnings.warn(\"Lambda as constraint is not advised because it may not be picklable.\")\n",
      "/home/cican/miniconda3/envs/ml/lib/python3.12/site-packages/nevergrad/optimization/recaster.py:272: FinishedUnderlyingOptimizerWarning: Underlying optimizer has already converged, returning random points\n",
      "  warnings.warn(\n"
     ]
    },
    {
     "name": "stdout",
     "output_type": "stream",
     "text": [
      "Optimizing for n=25 and m=10, trial 29/50\n"
     ]
    },
    {
     "name": "stderr",
     "output_type": "stream",
     "text": [
      "/home/cican/miniconda3/envs/ml/lib/python3.12/site-packages/nevergrad/parametrization/core.py:348: UserWarning: Lambda as constraint is not advised because it may not be picklable.\n",
      "  warnings.warn(\"Lambda as constraint is not advised because it may not be picklable.\")\n",
      "/home/cican/miniconda3/envs/ml/lib/python3.12/site-packages/nevergrad/optimization/recaster.py:272: FinishedUnderlyingOptimizerWarning: Underlying optimizer has already converged, returning random points\n",
      "  warnings.warn(\n",
      "/home/cican/miniconda3/envs/ml/lib/python3.12/site-packages/nevergrad/parametrization/core.py:348: UserWarning: Lambda as constraint is not advised because it may not be picklable.\n",
      "  warnings.warn(\"Lambda as constraint is not advised because it may not be picklable.\")\n",
      "/home/cican/miniconda3/envs/ml/lib/python3.12/site-packages/nevergrad/optimization/recaster.py:272: FinishedUnderlyingOptimizerWarning: Underlying optimizer has already converged, returning random points\n",
      "  warnings.warn(\n"
     ]
    },
    {
     "name": "stdout",
     "output_type": "stream",
     "text": [
      "Optimizing for n=25 and m=10, trial 30/50\n"
     ]
    },
    {
     "name": "stderr",
     "output_type": "stream",
     "text": [
      "/home/cican/miniconda3/envs/ml/lib/python3.12/site-packages/nevergrad/parametrization/core.py:348: UserWarning: Lambda as constraint is not advised because it may not be picklable.\n",
      "  warnings.warn(\"Lambda as constraint is not advised because it may not be picklable.\")\n",
      "/home/cican/miniconda3/envs/ml/lib/python3.12/site-packages/nevergrad/optimization/recaster.py:272: FinishedUnderlyingOptimizerWarning: Underlying optimizer has already converged, returning random points\n",
      "  warnings.warn(\n"
     ]
    },
    {
     "name": "stdout",
     "output_type": "stream",
     "text": [
      "Could not satisfy constraints.\n"
     ]
    },
    {
     "name": "stderr",
     "output_type": "stream",
     "text": [
      "/home/cican/miniconda3/envs/ml/lib/python3.12/site-packages/nevergrad/parametrization/core.py:348: UserWarning: Lambda as constraint is not advised because it may not be picklable.\n",
      "  warnings.warn(\"Lambda as constraint is not advised because it may not be picklable.\")\n",
      "/home/cican/miniconda3/envs/ml/lib/python3.12/site-packages/nevergrad/optimization/recaster.py:272: FinishedUnderlyingOptimizerWarning: Underlying optimizer has already converged, returning random points\n",
      "  warnings.warn(\n"
     ]
    },
    {
     "name": "stdout",
     "output_type": "stream",
     "text": [
      "Optimizing for n=25 and m=10, trial 31/50\n"
     ]
    },
    {
     "name": "stderr",
     "output_type": "stream",
     "text": [
      "/home/cican/miniconda3/envs/ml/lib/python3.12/site-packages/nevergrad/parametrization/core.py:348: UserWarning: Lambda as constraint is not advised because it may not be picklable.\n",
      "  warnings.warn(\"Lambda as constraint is not advised because it may not be picklable.\")\n",
      "/home/cican/miniconda3/envs/ml/lib/python3.12/site-packages/nevergrad/optimization/recaster.py:272: FinishedUnderlyingOptimizerWarning: Underlying optimizer has already converged, returning random points\n",
      "  warnings.warn(\n"
     ]
    },
    {
     "name": "stdout",
     "output_type": "stream",
     "text": [
      "Could not satisfy constraints.\n"
     ]
    },
    {
     "name": "stderr",
     "output_type": "stream",
     "text": [
      "/home/cican/miniconda3/envs/ml/lib/python3.12/site-packages/nevergrad/parametrization/core.py:348: UserWarning: Lambda as constraint is not advised because it may not be picklable.\n",
      "  warnings.warn(\"Lambda as constraint is not advised because it may not be picklable.\")\n",
      "/home/cican/miniconda3/envs/ml/lib/python3.12/site-packages/nevergrad/optimization/recaster.py:272: FinishedUnderlyingOptimizerWarning: Underlying optimizer has already converged, returning random points\n",
      "  warnings.warn(\n"
     ]
    },
    {
     "name": "stdout",
     "output_type": "stream",
     "text": [
      "Could not satisfy constraints.\n",
      "Optimizing for n=25 and m=10, trial 32/50\n"
     ]
    },
    {
     "name": "stderr",
     "output_type": "stream",
     "text": [
      "/home/cican/miniconda3/envs/ml/lib/python3.12/site-packages/nevergrad/parametrization/core.py:348: UserWarning: Lambda as constraint is not advised because it may not be picklable.\n",
      "  warnings.warn(\"Lambda as constraint is not advised because it may not be picklable.\")\n",
      "/home/cican/miniconda3/envs/ml/lib/python3.12/site-packages/nevergrad/optimization/recaster.py:272: FinishedUnderlyingOptimizerWarning: Underlying optimizer has already converged, returning random points\n",
      "  warnings.warn(\n"
     ]
    },
    {
     "name": "stdout",
     "output_type": "stream",
     "text": [
      "Could not satisfy constraints.\n"
     ]
    },
    {
     "name": "stderr",
     "output_type": "stream",
     "text": [
      "/home/cican/miniconda3/envs/ml/lib/python3.12/site-packages/nevergrad/parametrization/core.py:348: UserWarning: Lambda as constraint is not advised because it may not be picklable.\n",
      "  warnings.warn(\"Lambda as constraint is not advised because it may not be picklable.\")\n",
      "/home/cican/miniconda3/envs/ml/lib/python3.12/site-packages/nevergrad/optimization/recaster.py:272: FinishedUnderlyingOptimizerWarning: Underlying optimizer has already converged, returning random points\n",
      "  warnings.warn(\n"
     ]
    },
    {
     "name": "stdout",
     "output_type": "stream",
     "text": [
      "Could not satisfy constraints.\n",
      "Optimizing for n=25 and m=10, trial 33/50\n"
     ]
    },
    {
     "name": "stderr",
     "output_type": "stream",
     "text": [
      "/home/cican/miniconda3/envs/ml/lib/python3.12/site-packages/nevergrad/parametrization/core.py:348: UserWarning: Lambda as constraint is not advised because it may not be picklable.\n",
      "  warnings.warn(\"Lambda as constraint is not advised because it may not be picklable.\")\n",
      "/home/cican/miniconda3/envs/ml/lib/python3.12/site-packages/nevergrad/optimization/recaster.py:272: FinishedUnderlyingOptimizerWarning: Underlying optimizer has already converged, returning random points\n",
      "  warnings.warn(\n",
      "/home/cican/miniconda3/envs/ml/lib/python3.12/site-packages/nevergrad/parametrization/core.py:348: UserWarning: Lambda as constraint is not advised because it may not be picklable.\n",
      "  warnings.warn(\"Lambda as constraint is not advised because it may not be picklable.\")\n",
      "/home/cican/miniconda3/envs/ml/lib/python3.12/site-packages/nevergrad/optimization/recaster.py:272: FinishedUnderlyingOptimizerWarning: Underlying optimizer has already converged, returning random points\n",
      "  warnings.warn(\n"
     ]
    },
    {
     "name": "stdout",
     "output_type": "stream",
     "text": [
      "Could not satisfy constraints.\n",
      "Optimizing for n=25 and m=10, trial 34/50\n"
     ]
    },
    {
     "name": "stderr",
     "output_type": "stream",
     "text": [
      "/home/cican/miniconda3/envs/ml/lib/python3.12/site-packages/nevergrad/parametrization/core.py:348: UserWarning: Lambda as constraint is not advised because it may not be picklable.\n",
      "  warnings.warn(\"Lambda as constraint is not advised because it may not be picklable.\")\n",
      "/home/cican/miniconda3/envs/ml/lib/python3.12/site-packages/nevergrad/optimization/recaster.py:272: FinishedUnderlyingOptimizerWarning: Underlying optimizer has already converged, returning random points\n",
      "  warnings.warn(\n",
      "/home/cican/miniconda3/envs/ml/lib/python3.12/site-packages/nevergrad/parametrization/core.py:348: UserWarning: Lambda as constraint is not advised because it may not be picklable.\n",
      "  warnings.warn(\"Lambda as constraint is not advised because it may not be picklable.\")\n",
      "/home/cican/miniconda3/envs/ml/lib/python3.12/site-packages/nevergrad/optimization/recaster.py:272: FinishedUnderlyingOptimizerWarning: Underlying optimizer has already converged, returning random points\n",
      "  warnings.warn(\n"
     ]
    },
    {
     "name": "stdout",
     "output_type": "stream",
     "text": [
      "Could not satisfy constraints.\n",
      "Optimizing for n=25 and m=10, trial 35/50\n"
     ]
    },
    {
     "name": "stderr",
     "output_type": "stream",
     "text": [
      "/home/cican/miniconda3/envs/ml/lib/python3.12/site-packages/nevergrad/parametrization/core.py:348: UserWarning: Lambda as constraint is not advised because it may not be picklable.\n",
      "  warnings.warn(\"Lambda as constraint is not advised because it may not be picklable.\")\n",
      "/home/cican/miniconda3/envs/ml/lib/python3.12/site-packages/nevergrad/optimization/recaster.py:272: FinishedUnderlyingOptimizerWarning: Underlying optimizer has already converged, returning random points\n",
      "  warnings.warn(\n"
     ]
    },
    {
     "name": "stdout",
     "output_type": "stream",
     "text": [
      "Could not satisfy constraints.\n"
     ]
    },
    {
     "name": "stderr",
     "output_type": "stream",
     "text": [
      "/home/cican/miniconda3/envs/ml/lib/python3.12/site-packages/nevergrad/parametrization/core.py:348: UserWarning: Lambda as constraint is not advised because it may not be picklable.\n",
      "  warnings.warn(\"Lambda as constraint is not advised because it may not be picklable.\")\n",
      "/home/cican/miniconda3/envs/ml/lib/python3.12/site-packages/nevergrad/optimization/recaster.py:272: FinishedUnderlyingOptimizerWarning: Underlying optimizer has already converged, returning random points\n",
      "  warnings.warn(\n"
     ]
    },
    {
     "name": "stdout",
     "output_type": "stream",
     "text": [
      "Optimizing for n=25 and m=10, trial 36/50\n"
     ]
    },
    {
     "name": "stderr",
     "output_type": "stream",
     "text": [
      "/home/cican/miniconda3/envs/ml/lib/python3.12/site-packages/nevergrad/parametrization/core.py:348: UserWarning: Lambda as constraint is not advised because it may not be picklable.\n",
      "  warnings.warn(\"Lambda as constraint is not advised because it may not be picklable.\")\n",
      "/home/cican/miniconda3/envs/ml/lib/python3.12/site-packages/nevergrad/optimization/recaster.py:272: FinishedUnderlyingOptimizerWarning: Underlying optimizer has already converged, returning random points\n",
      "  warnings.warn(\n",
      "/home/cican/miniconda3/envs/ml/lib/python3.12/site-packages/nevergrad/parametrization/core.py:348: UserWarning: Lambda as constraint is not advised because it may not be picklable.\n",
      "  warnings.warn(\"Lambda as constraint is not advised because it may not be picklable.\")\n",
      "/home/cican/miniconda3/envs/ml/lib/python3.12/site-packages/nevergrad/optimization/recaster.py:272: FinishedUnderlyingOptimizerWarning: Underlying optimizer has already converged, returning random points\n",
      "  warnings.warn(\n"
     ]
    },
    {
     "name": "stdout",
     "output_type": "stream",
     "text": [
      "Optimizing for n=25 and m=10, trial 37/50\n"
     ]
    },
    {
     "name": "stderr",
     "output_type": "stream",
     "text": [
      "/home/cican/miniconda3/envs/ml/lib/python3.12/site-packages/nevergrad/parametrization/core.py:348: UserWarning: Lambda as constraint is not advised because it may not be picklable.\n",
      "  warnings.warn(\"Lambda as constraint is not advised because it may not be picklable.\")\n",
      "/home/cican/miniconda3/envs/ml/lib/python3.12/site-packages/nevergrad/optimization/recaster.py:272: FinishedUnderlyingOptimizerWarning: Underlying optimizer has already converged, returning random points\n",
      "  warnings.warn(\n",
      "/home/cican/miniconda3/envs/ml/lib/python3.12/site-packages/nevergrad/parametrization/core.py:348: UserWarning: Lambda as constraint is not advised because it may not be picklable.\n",
      "  warnings.warn(\"Lambda as constraint is not advised because it may not be picklable.\")\n",
      "/home/cican/miniconda3/envs/ml/lib/python3.12/site-packages/nevergrad/optimization/recaster.py:272: FinishedUnderlyingOptimizerWarning: Underlying optimizer has already converged, returning random points\n",
      "  warnings.warn(\n"
     ]
    },
    {
     "name": "stdout",
     "output_type": "stream",
     "text": [
      "Optimizing for n=25 and m=10, trial 38/50\n"
     ]
    },
    {
     "name": "stderr",
     "output_type": "stream",
     "text": [
      "/home/cican/miniconda3/envs/ml/lib/python3.12/site-packages/nevergrad/parametrization/core.py:348: UserWarning: Lambda as constraint is not advised because it may not be picklable.\n",
      "  warnings.warn(\"Lambda as constraint is not advised because it may not be picklable.\")\n",
      "/home/cican/miniconda3/envs/ml/lib/python3.12/site-packages/nevergrad/optimization/recaster.py:272: FinishedUnderlyingOptimizerWarning: Underlying optimizer has already converged, returning random points\n",
      "  warnings.warn(\n",
      "/home/cican/miniconda3/envs/ml/lib/python3.12/site-packages/nevergrad/parametrization/core.py:348: UserWarning: Lambda as constraint is not advised because it may not be picklable.\n",
      "  warnings.warn(\"Lambda as constraint is not advised because it may not be picklable.\")\n",
      "/home/cican/miniconda3/envs/ml/lib/python3.12/site-packages/nevergrad/optimization/recaster.py:272: FinishedUnderlyingOptimizerWarning: Underlying optimizer has already converged, returning random points\n",
      "  warnings.warn(\n"
     ]
    },
    {
     "name": "stdout",
     "output_type": "stream",
     "text": [
      "Optimizing for n=25 and m=10, trial 39/50\n"
     ]
    },
    {
     "name": "stderr",
     "output_type": "stream",
     "text": [
      "/home/cican/miniconda3/envs/ml/lib/python3.12/site-packages/nevergrad/parametrization/core.py:348: UserWarning: Lambda as constraint is not advised because it may not be picklable.\n",
      "  warnings.warn(\"Lambda as constraint is not advised because it may not be picklable.\")\n",
      "/home/cican/miniconda3/envs/ml/lib/python3.12/site-packages/nevergrad/optimization/recaster.py:272: FinishedUnderlyingOptimizerWarning: Underlying optimizer has already converged, returning random points\n",
      "  warnings.warn(\n"
     ]
    },
    {
     "name": "stdout",
     "output_type": "stream",
     "text": [
      "Could not satisfy constraints.\n"
     ]
    },
    {
     "name": "stderr",
     "output_type": "stream",
     "text": [
      "/home/cican/miniconda3/envs/ml/lib/python3.12/site-packages/nevergrad/parametrization/core.py:348: UserWarning: Lambda as constraint is not advised because it may not be picklable.\n",
      "  warnings.warn(\"Lambda as constraint is not advised because it may not be picklable.\")\n",
      "/home/cican/miniconda3/envs/ml/lib/python3.12/site-packages/nevergrad/optimization/recaster.py:272: FinishedUnderlyingOptimizerWarning: Underlying optimizer has already converged, returning random points\n",
      "  warnings.warn(\n"
     ]
    },
    {
     "name": "stdout",
     "output_type": "stream",
     "text": [
      "Optimizing for n=25 and m=10, trial 40/50\n"
     ]
    },
    {
     "name": "stderr",
     "output_type": "stream",
     "text": [
      "/home/cican/miniconda3/envs/ml/lib/python3.12/site-packages/nevergrad/parametrization/core.py:348: UserWarning: Lambda as constraint is not advised because it may not be picklable.\n",
      "  warnings.warn(\"Lambda as constraint is not advised because it may not be picklable.\")\n",
      "/home/cican/miniconda3/envs/ml/lib/python3.12/site-packages/nevergrad/optimization/recaster.py:272: FinishedUnderlyingOptimizerWarning: Underlying optimizer has already converged, returning random points\n",
      "  warnings.warn(\n",
      "/home/cican/miniconda3/envs/ml/lib/python3.12/site-packages/nevergrad/parametrization/core.py:348: UserWarning: Lambda as constraint is not advised because it may not be picklable.\n",
      "  warnings.warn(\"Lambda as constraint is not advised because it may not be picklable.\")\n",
      "/home/cican/miniconda3/envs/ml/lib/python3.12/site-packages/nevergrad/optimization/recaster.py:272: FinishedUnderlyingOptimizerWarning: Underlying optimizer has already converged, returning random points\n",
      "  warnings.warn(\n"
     ]
    },
    {
     "name": "stdout",
     "output_type": "stream",
     "text": [
      "Could not satisfy constraints.\n",
      "Optimizing for n=25 and m=10, trial 41/50\n"
     ]
    },
    {
     "name": "stderr",
     "output_type": "stream",
     "text": [
      "/home/cican/miniconda3/envs/ml/lib/python3.12/site-packages/nevergrad/parametrization/core.py:348: UserWarning: Lambda as constraint is not advised because it may not be picklable.\n",
      "  warnings.warn(\"Lambda as constraint is not advised because it may not be picklable.\")\n",
      "/home/cican/miniconda3/envs/ml/lib/python3.12/site-packages/nevergrad/optimization/recaster.py:272: FinishedUnderlyingOptimizerWarning: Underlying optimizer has already converged, returning random points\n",
      "  warnings.warn(\n",
      "/home/cican/miniconda3/envs/ml/lib/python3.12/site-packages/nevergrad/parametrization/core.py:348: UserWarning: Lambda as constraint is not advised because it may not be picklable.\n",
      "  warnings.warn(\"Lambda as constraint is not advised because it may not be picklable.\")\n",
      "/home/cican/miniconda3/envs/ml/lib/python3.12/site-packages/nevergrad/optimization/recaster.py:272: FinishedUnderlyingOptimizerWarning: Underlying optimizer has already converged, returning random points\n",
      "  warnings.warn(\n"
     ]
    },
    {
     "name": "stdout",
     "output_type": "stream",
     "text": [
      "Could not satisfy constraints.\n",
      "Optimizing for n=25 and m=10, trial 42/50\n"
     ]
    },
    {
     "name": "stderr",
     "output_type": "stream",
     "text": [
      "/home/cican/miniconda3/envs/ml/lib/python3.12/site-packages/nevergrad/parametrization/core.py:348: UserWarning: Lambda as constraint is not advised because it may not be picklable.\n",
      "  warnings.warn(\"Lambda as constraint is not advised because it may not be picklable.\")\n",
      "/home/cican/miniconda3/envs/ml/lib/python3.12/site-packages/nevergrad/optimization/recaster.py:272: FinishedUnderlyingOptimizerWarning: Underlying optimizer has already converged, returning random points\n",
      "  warnings.warn(\n",
      "/home/cican/miniconda3/envs/ml/lib/python3.12/site-packages/nevergrad/parametrization/core.py:348: UserWarning: Lambda as constraint is not advised because it may not be picklable.\n",
      "  warnings.warn(\"Lambda as constraint is not advised because it may not be picklable.\")\n",
      "/home/cican/miniconda3/envs/ml/lib/python3.12/site-packages/nevergrad/optimization/recaster.py:272: FinishedUnderlyingOptimizerWarning: Underlying optimizer has already converged, returning random points\n",
      "  warnings.warn(\n"
     ]
    },
    {
     "name": "stdout",
     "output_type": "stream",
     "text": [
      "Could not satisfy constraints.\n",
      "Optimizing for n=25 and m=10, trial 43/50\n"
     ]
    },
    {
     "name": "stderr",
     "output_type": "stream",
     "text": [
      "/home/cican/miniconda3/envs/ml/lib/python3.12/site-packages/nevergrad/parametrization/core.py:348: UserWarning: Lambda as constraint is not advised because it may not be picklable.\n",
      "  warnings.warn(\"Lambda as constraint is not advised because it may not be picklable.\")\n",
      "/home/cican/miniconda3/envs/ml/lib/python3.12/site-packages/nevergrad/optimization/recaster.py:272: FinishedUnderlyingOptimizerWarning: Underlying optimizer has already converged, returning random points\n",
      "  warnings.warn(\n"
     ]
    },
    {
     "name": "stdout",
     "output_type": "stream",
     "text": [
      "Could not satisfy constraints.\n"
     ]
    },
    {
     "name": "stderr",
     "output_type": "stream",
     "text": [
      "/home/cican/miniconda3/envs/ml/lib/python3.12/site-packages/nevergrad/parametrization/core.py:348: UserWarning: Lambda as constraint is not advised because it may not be picklable.\n",
      "  warnings.warn(\"Lambda as constraint is not advised because it may not be picklable.\")\n",
      "/home/cican/miniconda3/envs/ml/lib/python3.12/site-packages/nevergrad/optimization/recaster.py:272: FinishedUnderlyingOptimizerWarning: Underlying optimizer has already converged, returning random points\n",
      "  warnings.warn(\n"
     ]
    },
    {
     "name": "stdout",
     "output_type": "stream",
     "text": [
      "Could not satisfy constraints.\n",
      "Optimizing for n=25 and m=10, trial 44/50\n"
     ]
    },
    {
     "name": "stderr",
     "output_type": "stream",
     "text": [
      "/home/cican/miniconda3/envs/ml/lib/python3.12/site-packages/nevergrad/parametrization/core.py:348: UserWarning: Lambda as constraint is not advised because it may not be picklable.\n",
      "  warnings.warn(\"Lambda as constraint is not advised because it may not be picklable.\")\n",
      "/home/cican/miniconda3/envs/ml/lib/python3.12/site-packages/nevergrad/optimization/recaster.py:272: FinishedUnderlyingOptimizerWarning: Underlying optimizer has already converged, returning random points\n",
      "  warnings.warn(\n",
      "/home/cican/miniconda3/envs/ml/lib/python3.12/site-packages/nevergrad/parametrization/core.py:348: UserWarning: Lambda as constraint is not advised because it may not be picklable.\n",
      "  warnings.warn(\"Lambda as constraint is not advised because it may not be picklable.\")\n",
      "/home/cican/miniconda3/envs/ml/lib/python3.12/site-packages/nevergrad/optimization/recaster.py:272: FinishedUnderlyingOptimizerWarning: Underlying optimizer has already converged, returning random points\n",
      "  warnings.warn(\n"
     ]
    },
    {
     "name": "stdout",
     "output_type": "stream",
     "text": [
      "Optimizing for n=25 and m=10, trial 45/50\n"
     ]
    },
    {
     "name": "stderr",
     "output_type": "stream",
     "text": [
      "/home/cican/miniconda3/envs/ml/lib/python3.12/site-packages/nevergrad/parametrization/core.py:348: UserWarning: Lambda as constraint is not advised because it may not be picklable.\n",
      "  warnings.warn(\"Lambda as constraint is not advised because it may not be picklable.\")\n",
      "/home/cican/miniconda3/envs/ml/lib/python3.12/site-packages/nevergrad/optimization/recaster.py:272: FinishedUnderlyingOptimizerWarning: Underlying optimizer has already converged, returning random points\n",
      "  warnings.warn(\n",
      "/home/cican/miniconda3/envs/ml/lib/python3.12/site-packages/nevergrad/parametrization/core.py:348: UserWarning: Lambda as constraint is not advised because it may not be picklable.\n",
      "  warnings.warn(\"Lambda as constraint is not advised because it may not be picklable.\")\n",
      "/home/cican/miniconda3/envs/ml/lib/python3.12/site-packages/nevergrad/optimization/recaster.py:272: FinishedUnderlyingOptimizerWarning: Underlying optimizer has already converged, returning random points\n",
      "  warnings.warn(\n"
     ]
    },
    {
     "name": "stdout",
     "output_type": "stream",
     "text": [
      "Could not satisfy constraints.\n",
      "Optimizing for n=25 and m=10, trial 46/50\n"
     ]
    },
    {
     "name": "stderr",
     "output_type": "stream",
     "text": [
      "/home/cican/miniconda3/envs/ml/lib/python3.12/site-packages/nevergrad/parametrization/core.py:348: UserWarning: Lambda as constraint is not advised because it may not be picklable.\n",
      "  warnings.warn(\"Lambda as constraint is not advised because it may not be picklable.\")\n",
      "/home/cican/miniconda3/envs/ml/lib/python3.12/site-packages/nevergrad/optimization/recaster.py:272: FinishedUnderlyingOptimizerWarning: Underlying optimizer has already converged, returning random points\n",
      "  warnings.warn(\n",
      "/home/cican/miniconda3/envs/ml/lib/python3.12/site-packages/nevergrad/parametrization/core.py:348: UserWarning: Lambda as constraint is not advised because it may not be picklable.\n",
      "  warnings.warn(\"Lambda as constraint is not advised because it may not be picklable.\")\n",
      "/home/cican/miniconda3/envs/ml/lib/python3.12/site-packages/nevergrad/optimization/recaster.py:272: FinishedUnderlyingOptimizerWarning: Underlying optimizer has already converged, returning random points\n",
      "  warnings.warn(\n"
     ]
    },
    {
     "name": "stdout",
     "output_type": "stream",
     "text": [
      "Optimizing for n=25 and m=10, trial 47/50\n"
     ]
    },
    {
     "name": "stderr",
     "output_type": "stream",
     "text": [
      "/home/cican/miniconda3/envs/ml/lib/python3.12/site-packages/nevergrad/parametrization/core.py:348: UserWarning: Lambda as constraint is not advised because it may not be picklable.\n",
      "  warnings.warn(\"Lambda as constraint is not advised because it may not be picklable.\")\n",
      "/home/cican/miniconda3/envs/ml/lib/python3.12/site-packages/nevergrad/optimization/recaster.py:272: FinishedUnderlyingOptimizerWarning: Underlying optimizer has already converged, returning random points\n",
      "  warnings.warn(\n",
      "/home/cican/miniconda3/envs/ml/lib/python3.12/site-packages/nevergrad/parametrization/core.py:348: UserWarning: Lambda as constraint is not advised because it may not be picklable.\n",
      "  warnings.warn(\"Lambda as constraint is not advised because it may not be picklable.\")\n",
      "/home/cican/miniconda3/envs/ml/lib/python3.12/site-packages/nevergrad/optimization/recaster.py:272: FinishedUnderlyingOptimizerWarning: Underlying optimizer has already converged, returning random points\n",
      "  warnings.warn(\n"
     ]
    },
    {
     "name": "stdout",
     "output_type": "stream",
     "text": [
      "Could not satisfy constraints.\n",
      "Optimizing for n=25 and m=10, trial 48/50\n"
     ]
    },
    {
     "name": "stderr",
     "output_type": "stream",
     "text": [
      "/home/cican/miniconda3/envs/ml/lib/python3.12/site-packages/nevergrad/parametrization/core.py:348: UserWarning: Lambda as constraint is not advised because it may not be picklable.\n",
      "  warnings.warn(\"Lambda as constraint is not advised because it may not be picklable.\")\n",
      "/home/cican/miniconda3/envs/ml/lib/python3.12/site-packages/nevergrad/optimization/recaster.py:272: FinishedUnderlyingOptimizerWarning: Underlying optimizer has already converged, returning random points\n",
      "  warnings.warn(\n"
     ]
    },
    {
     "name": "stdout",
     "output_type": "stream",
     "text": [
      "Could not satisfy constraints.\n"
     ]
    },
    {
     "name": "stderr",
     "output_type": "stream",
     "text": [
      "/home/cican/miniconda3/envs/ml/lib/python3.12/site-packages/nevergrad/parametrization/core.py:348: UserWarning: Lambda as constraint is not advised because it may not be picklable.\n",
      "  warnings.warn(\"Lambda as constraint is not advised because it may not be picklable.\")\n",
      "/home/cican/miniconda3/envs/ml/lib/python3.12/site-packages/nevergrad/optimization/recaster.py:272: FinishedUnderlyingOptimizerWarning: Underlying optimizer has already converged, returning random points\n",
      "  warnings.warn(\n"
     ]
    },
    {
     "name": "stdout",
     "output_type": "stream",
     "text": [
      "Optimizing for n=25 and m=10, trial 49/50\n"
     ]
    },
    {
     "name": "stderr",
     "output_type": "stream",
     "text": [
      "/home/cican/miniconda3/envs/ml/lib/python3.12/site-packages/nevergrad/parametrization/core.py:348: UserWarning: Lambda as constraint is not advised because it may not be picklable.\n",
      "  warnings.warn(\"Lambda as constraint is not advised because it may not be picklable.\")\n",
      "/home/cican/miniconda3/envs/ml/lib/python3.12/site-packages/nevergrad/optimization/recaster.py:272: FinishedUnderlyingOptimizerWarning: Underlying optimizer has already converged, returning random points\n",
      "  warnings.warn(\n",
      "/home/cican/miniconda3/envs/ml/lib/python3.12/site-packages/nevergrad/parametrization/core.py:348: UserWarning: Lambda as constraint is not advised because it may not be picklable.\n",
      "  warnings.warn(\"Lambda as constraint is not advised because it may not be picklable.\")\n",
      "/home/cican/miniconda3/envs/ml/lib/python3.12/site-packages/nevergrad/optimization/recaster.py:272: FinishedUnderlyingOptimizerWarning: Underlying optimizer has already converged, returning random points\n",
      "  warnings.warn(\n"
     ]
    },
    {
     "name": "stdout",
     "output_type": "stream",
     "text": [
      "Could not satisfy constraints.\n",
      "Optimizing for n=25 and m=10, trial 50/50\n"
     ]
    },
    {
     "name": "stderr",
     "output_type": "stream",
     "text": [
      "/home/cican/miniconda3/envs/ml/lib/python3.12/site-packages/nevergrad/parametrization/core.py:348: UserWarning: Lambda as constraint is not advised because it may not be picklable.\n",
      "  warnings.warn(\"Lambda as constraint is not advised because it may not be picklable.\")\n",
      "/home/cican/miniconda3/envs/ml/lib/python3.12/site-packages/nevergrad/optimization/recaster.py:272: FinishedUnderlyingOptimizerWarning: Underlying optimizer has already converged, returning random points\n",
      "  warnings.warn(\n",
      "/home/cican/miniconda3/envs/ml/lib/python3.12/site-packages/nevergrad/parametrization/core.py:348: UserWarning: Lambda as constraint is not advised because it may not be picklable.\n",
      "  warnings.warn(\"Lambda as constraint is not advised because it may not be picklable.\")\n",
      "/home/cican/miniconda3/envs/ml/lib/python3.12/site-packages/nevergrad/optimization/recaster.py:272: FinishedUnderlyingOptimizerWarning: Underlying optimizer has already converged, returning random points\n",
      "  warnings.warn(\n"
     ]
    },
    {
     "name": "stdout",
     "output_type": "stream",
     "text": [
      "Could not satisfy constraints.\n"
     ]
    }
   ],
   "source": [
    "results = []\n",
    "for n in n_list:\n",
    "    m_list_current = [m for m in m_list if m < n]\n",
    "    for m in m_list_current:\n",
    "        for k in range(K):\n",
    "            print(f\"Optimizing for n={n} and m={m}, trial {k+1}/{K}\")\n",
    "            #\n",
    "            seed = k + 1_000*n + 1_000_000*m\n",
    "            results_current = {'n': n, 'm': m, 'k': k}\n",
    "            constants = get_random_constants(n-m, seed=seed)\n",
    "            indices = get_random_indices(n, seed=seed)\n",
    "            constraint_c = 5*m\n",
    "            current_budget = budget.get((n,m), budget['default'])\n",
    "            #\n",
    "            f_rastrigin, f_ann, grad_f_ann,f_xgb, hess_tf = get_functions(n, constants, indices)\n",
    "            f_ann, grad_f_ann = tf.function(f_ann), tf.function(grad_f_ann)\n",
    "            #\n",
    "            x_min = {}\n",
    "            for optclass in opt_list:\n",
    "                optname = 'XGB_' + str(optclass).split(\".\")[-1].split(\"'\")[0]\n",
    "                results_current[optname] = {}\n",
    "                x_min, elapsed_time = optimize_ng(m, f_xgb, constraint_c, optclass=optclass, budget=current_budget, constraint_tolerance=constraint_tolerance, x_start=None)\n",
    "                y_min = f_rastrigin(x_min)\n",
    "                results_current[optname]['x_min'] = x_min.tolist()\n",
    "                results_current[optname]['time'] = elapsed_time\n",
    "                results_current[optname]['loss'] = y_min\n",
    "                results_current[optname]['budget'] = current_budget\n",
    "            \n",
    "            # generic algorithm\n",
    "            x_min_ga, _, elapsed_time_ga = ga(m, f_xgb, size_pop=50, max_iter=50, prob_mut=0.1, constraint_c=constraint_c)\n",
    "            y_min_ga = f_rastrigin(x_min_ga)\n",
    "            results_current['XGB_GA'] = {'loss': y_min_ga, 'time': elapsed_time_ga, 'x_min': x_min_ga.tolist()}\n",
    "            \n",
    "            # pso\n",
    "            x_min_pso, _, elapsed_time_pso = pso(m, f_xgb, pop=50, max_iter=50, constraint_c=constraint_c)\n",
    "            y_min_pso = f_rastrigin(x_min_pso)\n",
    "            results_current['XGB_PSO'] = {'loss': y_min_pso, 'time': elapsed_time_pso, 'x_min': x_min_pso.tolist()}\n",
    "            \n",
    "            # simulated annealing\n",
    "            x0 = np.ones(m)\n",
    "            x_min_sa, _, elapsed_time_sa = sa(m, f_xgb, x0, T_max=50, T_min=1, L=10, max_stay_counter=10, constraint_c=constraint_c)\n",
    "            y_min_sa = f_rastrigin(x_min_sa)\n",
    "            results_current['XGB_SA'] = {'loss': y_min_sa, 'time': elapsed_time_sa, 'x_min': x_min_sa.tolist()}\n",
    "            \n",
    "            # xgboost + SLSQP\n",
    "            x_min_xgb_slsqp, elapsed_time_xgb_slsqp = optimize_grad(m, f_xgb, grad_f_ann, constraint_c)\n",
    "            y_min_xgb_slsqp = f_rastrigin(x_min_xgb_slsqp)\n",
    "            results_current['XGB_ANN_SLSQP'] = {'loss': y_min_xgb_slsqp, 'time': elapsed_time_xgb_slsqp, 'x_min': x_min_xgb_slsqp.tolist()}\n",
    "            \n",
    "            \n",
    "            # SLSQP + ann\n",
    "            x_min_ann, elapsed_time_ann = optimize_grad(m, f_ann, grad_f_ann, constraint_c)\n",
    "            #\n",
    "            y_min_ann = f_rastrigin(x_min_ann)\n",
    "            #\n",
    "            results_current['ANN_ANN_SLSQP'] = {'loss': y_min_ann, 'time': elapsed_time_ann, 'x_min': x_min_ann.tolist()}\n",
    "            \n",
    "            \n",
    "            results.append(results_current)\n",
    "\n",
    "            #\n",
    "            with open(os.path.join('opti_result', filename), 'w') as file:\n",
    "                json.dump(results, file)"
   ]
  },
  {
   "cell_type": "code",
   "execution_count": null,
   "id": "648c5463",
   "metadata": {},
   "outputs": [],
   "source": []
  }
 ],
 "metadata": {
  "kernelspec": {
   "display_name": "ml",
   "language": "python",
   "name": "python3"
  },
  "language_info": {
   "codemirror_mode": {
    "name": "ipython",
    "version": 3
   },
   "file_extension": ".py",
   "mimetype": "text/x-python",
   "name": "python",
   "nbconvert_exporter": "python",
   "pygments_lexer": "ipython3",
   "version": "3.12.8"
  }
 },
 "nbformat": 4,
 "nbformat_minor": 5
}
